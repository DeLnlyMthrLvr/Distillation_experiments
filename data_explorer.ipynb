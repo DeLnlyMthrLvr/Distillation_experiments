{
 "cells": [
  {
   "cell_type": "markdown",
   "id": "c50d1f9e",
   "metadata": {},
   "source": [
    "# Experiment Results Analysis\n",
    "\n",
    "This notebook reads a CSV file that contains experimental results. Some columns are simple hyperparameters or metrics, and others are dictionaries (saved as strings) containing evaluation metrics (e.g. \"Adversarial Success Rate\", \"Adversarial Robustness % (Avg Min Perturbation)\", and \"Adversarial Confidence\"). We will:\n",
    "\n",
    "1. Read the CSV (assuming tab separation).\n",
    "2. Convert the dictionary columns into Python dictionaries.\n",
    "3. Extract individual metric values into new DataFrame columns.\n",
    "4. Create plots with matplotlib and Plotly.\n",
    "\n",
    "**Note:** Adjust the file path as needed and ensure you have multiple rows for a meaningful plot."
   ]
  },
  {
   "cell_type": "code",
   "execution_count": 1,
   "id": "ab8e4a4c",
   "metadata": {},
   "outputs": [
    {
     "name": "stdout",
     "output_type": "stream",
     "text": [
      "Requirement already satisfied: plotly in c:\\users\\aless\\appdata\\local\\programs\\python\\python312\\lib\\site-packages (6.0.1)\n",
      "Requirement already satisfied: narwhals>=1.15.1 in c:\\users\\aless\\appdata\\local\\programs\\python\\python312\\lib\\site-packages (from plotly) (1.34.1)\n",
      "Requirement already satisfied: packaging in c:\\users\\aless\\appdata\\local\\programs\\python\\python312\\lib\\site-packages (from plotly) (24.2)\n",
      "Note: you may need to restart the kernel to use updated packages.\n"
     ]
    },
    {
     "name": "stderr",
     "output_type": "stream",
     "text": [
      "\n",
      "[notice] A new release of pip is available: 24.3.1 -> 25.0.1\n",
      "[notice] To update, run: python.exe -m pip install --upgrade pip\n"
     ]
    },
    {
     "name": "stdout",
     "output_type": "stream",
     "text": [
      "Requirement already satisfied: pandas in c:\\users\\aless\\appdata\\local\\programs\\python\\python312\\lib\\site-packages (2.2.3)\n",
      "Requirement already satisfied: numpy>=1.26.0 in c:\\users\\aless\\appdata\\local\\programs\\python\\python312\\lib\\site-packages (from pandas) (2.1.2)\n",
      "Requirement already satisfied: python-dateutil>=2.8.2 in c:\\users\\aless\\appdata\\local\\programs\\python\\python312\\lib\\site-packages (from pandas) (2.9.0.post0)\n",
      "Requirement already satisfied: pytz>=2020.1 in c:\\users\\aless\\appdata\\local\\programs\\python\\python312\\lib\\site-packages (from pandas) (2025.2)\n",
      "Requirement already satisfied: tzdata>=2022.7 in c:\\users\\aless\\appdata\\local\\programs\\python\\python312\\lib\\site-packages (from pandas) (2025.2)\n",
      "Requirement already satisfied: six>=1.5 in c:\\users\\aless\\appdata\\local\\programs\\python\\python312\\lib\\site-packages (from python-dateutil>=2.8.2->pandas) (1.17.0)\n",
      "Note: you may need to restart the kernel to use updated packages.\n"
     ]
    },
    {
     "name": "stderr",
     "output_type": "stream",
     "text": [
      "\n",
      "[notice] A new release of pip is available: 24.3.1 -> 25.0.1\n",
      "[notice] To update, run: python.exe -m pip install --upgrade pip\n"
     ]
    },
    {
     "name": "stdout",
     "output_type": "stream",
     "text": [
      "Requirement already satisfied: matplotlib in c:\\users\\aless\\appdata\\local\\programs\\python\\python312\\lib\\site-packages (3.10.1)Note: you may need to restart the kernel to use updated packages.\n",
      "\n",
      "Requirement already satisfied: contourpy>=1.0.1 in c:\\users\\aless\\appdata\\local\\programs\\python\\python312\\lib\\site-packages (from matplotlib) (1.3.1)\n",
      "Requirement already satisfied: cycler>=0.10 in c:\\users\\aless\\appdata\\local\\programs\\python\\python312\\lib\\site-packages (from matplotlib) (0.12.1)\n",
      "Requirement already satisfied: fonttools>=4.22.0 in c:\\users\\aless\\appdata\\local\\programs\\python\\python312\\lib\\site-packages (from matplotlib) (4.57.0)\n",
      "Requirement already satisfied: kiwisolver>=1.3.1 in c:\\users\\aless\\appdata\\local\\programs\\python\\python312\\lib\\site-packages (from matplotlib) (1.4.8)\n",
      "Requirement already satisfied: numpy>=1.23 in c:\\users\\aless\\appdata\\local\\programs\\python\\python312\\lib\\site-packages (from matplotlib) (2.1.2)\n",
      "Requirement already satisfied: packaging>=20.0 in c:\\users\\aless\\appdata\\local\\programs\\python\\python312\\lib\\site-packages (from matplotlib) (24.2)\n",
      "Requirement already satisfied: pillow>=8 in c:\\users\\aless\\appdata\\local\\programs\\python\\python312\\lib\\site-packages (from matplotlib) (11.0.0)\n",
      "Requirement already satisfied: pyparsing>=2.3.1 in c:\\users\\aless\\appdata\\local\\programs\\python\\python312\\lib\\site-packages (from matplotlib) (3.2.3)\n",
      "Requirement already satisfied: python-dateutil>=2.7 in c:\\users\\aless\\appdata\\local\\programs\\python\\python312\\lib\\site-packages (from matplotlib) (2.9.0.post0)\n",
      "Requirement already satisfied: six>=1.5 in c:\\users\\aless\\appdata\\local\\programs\\python\\python312\\lib\\site-packages (from python-dateutil>=2.7->matplotlib) (1.17.0)\n"
     ]
    },
    {
     "name": "stderr",
     "output_type": "stream",
     "text": [
      "\n",
      "[notice] A new release of pip is available: 24.3.1 -> 25.0.1\n",
      "[notice] To update, run: python.exe -m pip install --upgrade pip\n"
     ]
    }
   ],
   "source": [
    "%pip install plotly\n",
    "%pip install pandas\n",
    "%pip install matplotlib"
   ]
  },
  {
   "cell_type": "code",
   "execution_count": 2,
   "id": "602d6c61",
   "metadata": {},
   "outputs": [],
   "source": [
    "import pandas as pd\n",
    "import matplotlib.pyplot as plt\n",
    "import plotly.express as px\n",
    "import ast"
   ]
  },
  {
   "cell_type": "markdown",
   "id": "02944c13",
   "metadata": {},
   "source": [
    "## 1. Load the CSV Data\n",
    "\n",
    "We assume that the CSV is tab-delimited. If your CSV uses a different delimiter, adjust the `sep` parameter accordingly.\n",
    "\n",
    "We will also assign column names. Based on your sample, we assume there are 18 columns:\n",
    "\n",
    "- Columns 0–7: various hyperparameters or metrics.\n",
    "- Columns 8–11: dictionary fields (we call these `Eval_A` through `Eval_D`).\n",
    "- Columns 12–13: additional metrics.\n",
    "- Columns 14–17: dictionary fields (we call these `Eval_E` through `Eval_H`)."
   ]
  },
  {
   "cell_type": "code",
   "execution_count": 3,
   "id": "4d449d94",
   "metadata": {},
   "outputs": [
    {
     "data": {
      "application/vnd.microsoft.datawrangler.viewer.v0+json": {
       "columns": [
        {
         "name": "index",
         "rawType": "int64",
         "type": "integer"
        },
        {
         "name": "Epochs",
         "rawType": "int64",
         "type": "integer"
        },
        {
         "name": "Learning Rate",
         "rawType": "float64",
         "type": "float"
        },
        {
         "name": "Batch Size",
         "rawType": "int64",
         "type": "integer"
        },
        {
         "name": "Temperature",
         "rawType": "float64",
         "type": "float"
        },
        {
         "name": "Num Samples",
         "rawType": "int64",
         "type": "integer"
        },
        {
         "name": "Accuracy (T)",
         "rawType": "float64",
         "type": "float"
        },
        {
         "name": "Mean Gradient Amplitude (T)",
         "rawType": "float64",
         "type": "float"
        },
        {
         "name": "Metrics (JSMA)",
         "rawType": "object",
         "type": "string"
        },
        {
         "name": "Metrics (FSGM)",
         "rawType": "object",
         "type": "string"
        },
        {
         "name": "Metrics (DeepFool)",
         "rawType": "object",
         "type": "string"
        },
        {
         "name": "Metrics (Pixel)",
         "rawType": "object",
         "type": "string"
        },
        {
         "name": "Accuracy (S)",
         "rawType": "float64",
         "type": "float"
        },
        {
         "name": "Mean Gradient Amplitude (S)",
         "rawType": "float64",
         "type": "float"
        },
        {
         "name": "Metrics (JSMA) S",
         "rawType": "object",
         "type": "string"
        },
        {
         "name": "Metrics (FSGM) S",
         "rawType": "object",
         "type": "string"
        },
        {
         "name": "Metrics (DeepFool) S",
         "rawType": "object",
         "type": "string"
        },
        {
         "name": "Metrics (Pixel) S",
         "rawType": "object",
         "type": "string"
        }
       ],
       "conversionMethod": "pd.DataFrame",
       "ref": "0ecee159-4140-4ced-91e2-d2e2c9f9f214",
       "rows": [
        [
         "1",
         "50",
         "0.01",
         "128",
         "1.0",
         "100",
         "68.33999752998352",
         "8.777568e-06",
         "{'Adversarial Success Rate': 96.0, 'Adversarial Robustness % (Avg Min Perturbation)': 2.3240935802459717, 'Adversarial Confidence': 40.554943680763245}",
         "{'Adversarial Success Rate': 78.0, 'Adversarial Robustness % (Avg Min Perturbation)': 5.463752746582031, 'Adversarial Confidence': 86.13895177841187}",
         "{'Adversarial Success Rate': 98.0, 'Adversarial Robustness % (Avg Min Perturbation)': 0.20144975185394287, 'Adversarial Confidence': 44.916656613349915}",
         "{'Adversarial Success Rate': 52.0, 'Adversarial Robustness % (Avg Min Perturbation)': 1.4151591062545776, 'Adversarial Confidence': 75.90383887290955}",
         "56.91999793052673",
         "4.3388607e-07",
         "{'Adversarial Success Rate': 94.11111111111111, 'Adversarial Robustness % (Avg Min Perturbation)': 3.1924095153808594, 'Adversarial Confidence': 12.18768060207367}",
         "{'Adversarial Success Rate': 78.0, 'Adversarial Robustness % (Avg Min Perturbation)': 5.411783218383789, 'Adversarial Confidence': 19.165682792663574}",
         "{'Adversarial Success Rate': 100.0, 'Adversarial Robustness % (Avg Min Perturbation)': 0.2307789921760559, 'Adversarial Confidence': 12.74203211069107}",
         "{'Adversarial Success Rate': 33.0, 'Adversarial Robustness % (Avg Min Perturbation)': 1.3166500329971313, 'Adversarial Confidence': 15.494115650653839}"
        ],
        [
         "2",
         "50",
         "0.01",
         "128",
         "2.0",
         "100",
         "67.93000102043152",
         "1.4026957e-05",
         "{'Adversarial Success Rate': 95.22222222222221, 'Adversarial Robustness % (Avg Min Perturbation)': 2.3425586223602295, 'Adversarial Confidence': 50.10135769844055}",
         "{'Adversarial Success Rate': 70.0, 'Adversarial Robustness % (Avg Min Perturbation)': 5.41020393371582, 'Adversarial Confidence': 94.42518949508667}",
         "{'Adversarial Success Rate': 99.0, 'Adversarial Robustness % (Avg Min Perturbation)': 0.19293071329593658, 'Adversarial Confidence': 48.9277184009552}",
         "{'Adversarial Success Rate': 48.0, 'Adversarial Robustness % (Avg Min Perturbation)': 1.4719316959381104, 'Adversarial Confidence': 88.53370547294617}",
         "58.139997720718384",
         "8.6014666e-07",
         "{'Adversarial Success Rate': 94.33333333333334, 'Adversarial Robustness % (Avg Min Perturbation)': 3.707406759262085, 'Adversarial Confidence': 14.234764873981476}",
         "{'Adversarial Success Rate': 74.0, 'Adversarial Robustness % (Avg Min Perturbation)': 5.63537073135376, 'Adversarial Confidence': 28.235507011413574}",
         "{'Adversarial Success Rate': 100.0, 'Adversarial Robustness % (Avg Min Perturbation)': 0.24092043936252594, 'Adversarial Confidence': 15.270774066448212}",
         "{'Adversarial Success Rate': 39.0, 'Adversarial Robustness % (Avg Min Perturbation)': 1.3294870853424072, 'Adversarial Confidence': 21.677550673484802}"
        ],
        [
         "0",
         "50",
         "0.01",
         "128",
         "5.0",
         "100",
         "64.03999924659729",
         "2.8607026e-05",
         "{'Adversarial Success Rate': 95.44444444444444, 'Adversarial Robustness % (Avg Min Perturbation)': 2.4868829250335693, 'Adversarial Confidence': 63.52853775024414}",
         "{'Adversarial Success Rate': 73.0, 'Adversarial Robustness % (Avg Min Perturbation)': 5.3572001457214355, 'Adversarial Confidence': 98.76342415809631}",
         "{'Adversarial Success Rate': 100.0, 'Adversarial Robustness % (Avg Min Perturbation)': 0.21860800683498383, 'Adversarial Confidence': 51.055675745010376}",
         "{'Adversarial Success Rate': 45.0, 'Adversarial Robustness % (Avg Min Perturbation)': 1.3614559173583984, 'Adversarial Confidence': 94.42833662033081}",
         "56.04999661445618",
         "1.6398617e-06",
         "{'Adversarial Success Rate': 94.0, 'Adversarial Robustness % (Avg Min Perturbation)': 3.905341148376465, 'Adversarial Confidence': 24.287334084510803}",
         "{'Adversarial Success Rate': 75.0, 'Adversarial Robustness % (Avg Min Perturbation)': 5.559535980224609, 'Adversarial Confidence': 65.17497301101685}",
         "{'Adversarial Success Rate': 100.0, 'Adversarial Robustness % (Avg Min Perturbation)': 0.2680341601371765, 'Adversarial Confidence': 27.27929949760437}",
         "{'Adversarial Success Rate': 32.0, 'Adversarial Robustness % (Avg Min Perturbation)': 1.3759214878082275, 'Adversarial Confidence': 52.34748721122742}"
        ],
        [
         "10",
         "50",
         "0.01",
         "128",
         "5.0",
         "100",
         "64.03999924659729",
         "2.8607026e-05",
         "{'Adversarial Success Rate': 95.44444444444444, 'Adversarial Robustness % (Avg Min Perturbation)': 2.4868829250335693, 'Adversarial Confidence': 63.52853775024414}",
         "{'Adversarial Success Rate': 73.0, 'Adversarial Robustness % (Avg Min Perturbation)': 5.3572001457214355, 'Adversarial Confidence': 98.76342415809631}",
         "{'Adversarial Success Rate': 100.0, 'Adversarial Robustness % (Avg Min Perturbation)': 0.21860800683498383, 'Adversarial Confidence': 51.055675745010376}",
         "{'Adversarial Success Rate': 45.0, 'Adversarial Robustness % (Avg Min Perturbation)': 1.3614559173583984, 'Adversarial Confidence': 94.42833662033081}",
         "56.04999661445618",
         "1.6398617e-06",
         "{'Adversarial Success Rate': 94.0, 'Adversarial Robustness % (Avg Min Perturbation)': 3.905341148376465, 'Adversarial Confidence': 24.287334084510803}",
         "{'Adversarial Success Rate': 75.0, 'Adversarial Robustness % (Avg Min Perturbation)': 5.559535980224609, 'Adversarial Confidence': 65.17497301101685}",
         "{'Adversarial Success Rate': 100.0, 'Adversarial Robustness % (Avg Min Perturbation)': 0.2680341601371765, 'Adversarial Confidence': 27.27929949760437}",
         "{'Adversarial Success Rate': 32.0, 'Adversarial Robustness % (Avg Min Perturbation)': 1.3759214878082275, 'Adversarial Confidence': 52.34748721122742}"
        ],
        [
         "8",
         "50",
         "0.01",
         "128",
         "10.0",
         "100",
         "60.87999939918518",
         "4.3922737e-05",
         "{'Adversarial Success Rate': 94.77777777777779, 'Adversarial Robustness % (Avg Min Perturbation)': 2.2827563285827637, 'Adversarial Confidence': 70.6372857093811}",
         "{'Adversarial Success Rate': 51.0, 'Adversarial Robustness % (Avg Min Perturbation)': 4.965912818908691, 'Adversarial Confidence': 99.0184485912323}",
         "{'Adversarial Success Rate': 100.0, 'Adversarial Robustness % (Avg Min Perturbation)': 0.23827411234378815, 'Adversarial Confidence': 50.97304582595825}",
         "{'Adversarial Success Rate': 33.0, 'Adversarial Robustness % (Avg Min Perturbation)': 1.3447619676589966, 'Adversarial Confidence': 93.60284805297852}",
         "55.25000095367432",
         "3.0343763e-06",
         "{'Adversarial Success Rate': 94.55555555555556, 'Adversarial Robustness % (Avg Min Perturbation)': 4.1168036460876465, 'Adversarial Confidence': 33.707740902900696}",
         "{'Adversarial Success Rate': 78.0, 'Adversarial Robustness % (Avg Min Perturbation)': 5.500954627990723, 'Adversarial Confidence': 85.71198582649231}",
         "{'Adversarial Success Rate': 100.0, 'Adversarial Robustness % (Avg Min Perturbation)': 0.22240987420082092, 'Adversarial Confidence': 41.452136635780334}",
         "{'Adversarial Success Rate': 40.0, 'Adversarial Robustness % (Avg Min Perturbation)': 1.4830056428909302, 'Adversarial Confidence': 66.29822254180908}"
        ]
       ],
       "shape": {
        "columns": 17,
        "rows": 5
       }
      },
      "text/html": [
       "<div>\n",
       "<style scoped>\n",
       "    .dataframe tbody tr th:only-of-type {\n",
       "        vertical-align: middle;\n",
       "    }\n",
       "\n",
       "    .dataframe tbody tr th {\n",
       "        vertical-align: top;\n",
       "    }\n",
       "\n",
       "    .dataframe thead th {\n",
       "        text-align: right;\n",
       "    }\n",
       "</style>\n",
       "<table border=\"1\" class=\"dataframe\">\n",
       "  <thead>\n",
       "    <tr style=\"text-align: right;\">\n",
       "      <th></th>\n",
       "      <th>Epochs</th>\n",
       "      <th>Learning Rate</th>\n",
       "      <th>Batch Size</th>\n",
       "      <th>Temperature</th>\n",
       "      <th>Num Samples</th>\n",
       "      <th>Accuracy (T)</th>\n",
       "      <th>Mean Gradient Amplitude (T)</th>\n",
       "      <th>Metrics (JSMA)</th>\n",
       "      <th>Metrics (FSGM)</th>\n",
       "      <th>Metrics (DeepFool)</th>\n",
       "      <th>Metrics (Pixel)</th>\n",
       "      <th>Accuracy (S)</th>\n",
       "      <th>Mean Gradient Amplitude (S)</th>\n",
       "      <th>Metrics (JSMA) S</th>\n",
       "      <th>Metrics (FSGM) S</th>\n",
       "      <th>Metrics (DeepFool) S</th>\n",
       "      <th>Metrics (Pixel) S</th>\n",
       "    </tr>\n",
       "  </thead>\n",
       "  <tbody>\n",
       "    <tr>\n",
       "      <th>1</th>\n",
       "      <td>50</td>\n",
       "      <td>0.01</td>\n",
       "      <td>128</td>\n",
       "      <td>1.0</td>\n",
       "      <td>100</td>\n",
       "      <td>68.339998</td>\n",
       "      <td>0.000009</td>\n",
       "      <td>{'Adversarial Success Rate': 96.0, 'Adversaria...</td>\n",
       "      <td>{'Adversarial Success Rate': 78.0, 'Adversaria...</td>\n",
       "      <td>{'Adversarial Success Rate': 98.0, 'Adversaria...</td>\n",
       "      <td>{'Adversarial Success Rate': 52.0, 'Adversaria...</td>\n",
       "      <td>56.919998</td>\n",
       "      <td>4.338861e-07</td>\n",
       "      <td>{'Adversarial Success Rate': 94.11111111111111...</td>\n",
       "      <td>{'Adversarial Success Rate': 78.0, 'Adversaria...</td>\n",
       "      <td>{'Adversarial Success Rate': 100.0, 'Adversari...</td>\n",
       "      <td>{'Adversarial Success Rate': 33.0, 'Adversaria...</td>\n",
       "    </tr>\n",
       "    <tr>\n",
       "      <th>2</th>\n",
       "      <td>50</td>\n",
       "      <td>0.01</td>\n",
       "      <td>128</td>\n",
       "      <td>2.0</td>\n",
       "      <td>100</td>\n",
       "      <td>67.930001</td>\n",
       "      <td>0.000014</td>\n",
       "      <td>{'Adversarial Success Rate': 95.22222222222221...</td>\n",
       "      <td>{'Adversarial Success Rate': 70.0, 'Adversaria...</td>\n",
       "      <td>{'Adversarial Success Rate': 99.0, 'Adversaria...</td>\n",
       "      <td>{'Adversarial Success Rate': 48.0, 'Adversaria...</td>\n",
       "      <td>58.139998</td>\n",
       "      <td>8.601467e-07</td>\n",
       "      <td>{'Adversarial Success Rate': 94.33333333333334...</td>\n",
       "      <td>{'Adversarial Success Rate': 74.0, 'Adversaria...</td>\n",
       "      <td>{'Adversarial Success Rate': 100.0, 'Adversari...</td>\n",
       "      <td>{'Adversarial Success Rate': 39.0, 'Adversaria...</td>\n",
       "    </tr>\n",
       "    <tr>\n",
       "      <th>0</th>\n",
       "      <td>50</td>\n",
       "      <td>0.01</td>\n",
       "      <td>128</td>\n",
       "      <td>5.0</td>\n",
       "      <td>100</td>\n",
       "      <td>64.039999</td>\n",
       "      <td>0.000029</td>\n",
       "      <td>{'Adversarial Success Rate': 95.44444444444444...</td>\n",
       "      <td>{'Adversarial Success Rate': 73.0, 'Adversaria...</td>\n",
       "      <td>{'Adversarial Success Rate': 100.0, 'Adversari...</td>\n",
       "      <td>{'Adversarial Success Rate': 45.0, 'Adversaria...</td>\n",
       "      <td>56.049997</td>\n",
       "      <td>1.639862e-06</td>\n",
       "      <td>{'Adversarial Success Rate': 94.0, 'Adversaria...</td>\n",
       "      <td>{'Adversarial Success Rate': 75.0, 'Adversaria...</td>\n",
       "      <td>{'Adversarial Success Rate': 100.0, 'Adversari...</td>\n",
       "      <td>{'Adversarial Success Rate': 32.0, 'Adversaria...</td>\n",
       "    </tr>\n",
       "    <tr>\n",
       "      <th>10</th>\n",
       "      <td>50</td>\n",
       "      <td>0.01</td>\n",
       "      <td>128</td>\n",
       "      <td>5.0</td>\n",
       "      <td>100</td>\n",
       "      <td>64.039999</td>\n",
       "      <td>0.000029</td>\n",
       "      <td>{'Adversarial Success Rate': 95.44444444444444...</td>\n",
       "      <td>{'Adversarial Success Rate': 73.0, 'Adversaria...</td>\n",
       "      <td>{'Adversarial Success Rate': 100.0, 'Adversari...</td>\n",
       "      <td>{'Adversarial Success Rate': 45.0, 'Adversaria...</td>\n",
       "      <td>56.049997</td>\n",
       "      <td>1.639862e-06</td>\n",
       "      <td>{'Adversarial Success Rate': 94.0, 'Adversaria...</td>\n",
       "      <td>{'Adversarial Success Rate': 75.0, 'Adversaria...</td>\n",
       "      <td>{'Adversarial Success Rate': 100.0, 'Adversari...</td>\n",
       "      <td>{'Adversarial Success Rate': 32.0, 'Adversaria...</td>\n",
       "    </tr>\n",
       "    <tr>\n",
       "      <th>8</th>\n",
       "      <td>50</td>\n",
       "      <td>0.01</td>\n",
       "      <td>128</td>\n",
       "      <td>10.0</td>\n",
       "      <td>100</td>\n",
       "      <td>60.879999</td>\n",
       "      <td>0.000044</td>\n",
       "      <td>{'Adversarial Success Rate': 94.77777777777779...</td>\n",
       "      <td>{'Adversarial Success Rate': 51.0, 'Adversaria...</td>\n",
       "      <td>{'Adversarial Success Rate': 100.0, 'Adversari...</td>\n",
       "      <td>{'Adversarial Success Rate': 33.0, 'Adversaria...</td>\n",
       "      <td>55.250001</td>\n",
       "      <td>3.034376e-06</td>\n",
       "      <td>{'Adversarial Success Rate': 94.55555555555556...</td>\n",
       "      <td>{'Adversarial Success Rate': 78.0, 'Adversaria...</td>\n",
       "      <td>{'Adversarial Success Rate': 100.0, 'Adversari...</td>\n",
       "      <td>{'Adversarial Success Rate': 40.0, 'Adversaria...</td>\n",
       "    </tr>\n",
       "  </tbody>\n",
       "</table>\n",
       "</div>"
      ],
      "text/plain": [
       "    Epochs  Learning Rate  Batch Size  Temperature  Num Samples  Accuracy (T)  \\\n",
       "1       50           0.01         128          1.0          100     68.339998   \n",
       "2       50           0.01         128          2.0          100     67.930001   \n",
       "0       50           0.01         128          5.0          100     64.039999   \n",
       "10      50           0.01         128          5.0          100     64.039999   \n",
       "8       50           0.01         128         10.0          100     60.879999   \n",
       "\n",
       "    Mean Gradient Amplitude (T)  \\\n",
       "1                      0.000009   \n",
       "2                      0.000014   \n",
       "0                      0.000029   \n",
       "10                     0.000029   \n",
       "8                      0.000044   \n",
       "\n",
       "                                       Metrics (JSMA)  \\\n",
       "1   {'Adversarial Success Rate': 96.0, 'Adversaria...   \n",
       "2   {'Adversarial Success Rate': 95.22222222222221...   \n",
       "0   {'Adversarial Success Rate': 95.44444444444444...   \n",
       "10  {'Adversarial Success Rate': 95.44444444444444...   \n",
       "8   {'Adversarial Success Rate': 94.77777777777779...   \n",
       "\n",
       "                                       Metrics (FSGM)  \\\n",
       "1   {'Adversarial Success Rate': 78.0, 'Adversaria...   \n",
       "2   {'Adversarial Success Rate': 70.0, 'Adversaria...   \n",
       "0   {'Adversarial Success Rate': 73.0, 'Adversaria...   \n",
       "10  {'Adversarial Success Rate': 73.0, 'Adversaria...   \n",
       "8   {'Adversarial Success Rate': 51.0, 'Adversaria...   \n",
       "\n",
       "                                   Metrics (DeepFool)  \\\n",
       "1   {'Adversarial Success Rate': 98.0, 'Adversaria...   \n",
       "2   {'Adversarial Success Rate': 99.0, 'Adversaria...   \n",
       "0   {'Adversarial Success Rate': 100.0, 'Adversari...   \n",
       "10  {'Adversarial Success Rate': 100.0, 'Adversari...   \n",
       "8   {'Adversarial Success Rate': 100.0, 'Adversari...   \n",
       "\n",
       "                                      Metrics (Pixel)  Accuracy (S)  \\\n",
       "1   {'Adversarial Success Rate': 52.0, 'Adversaria...     56.919998   \n",
       "2   {'Adversarial Success Rate': 48.0, 'Adversaria...     58.139998   \n",
       "0   {'Adversarial Success Rate': 45.0, 'Adversaria...     56.049997   \n",
       "10  {'Adversarial Success Rate': 45.0, 'Adversaria...     56.049997   \n",
       "8   {'Adversarial Success Rate': 33.0, 'Adversaria...     55.250001   \n",
       "\n",
       "    Mean Gradient Amplitude (S)  \\\n",
       "1                  4.338861e-07   \n",
       "2                  8.601467e-07   \n",
       "0                  1.639862e-06   \n",
       "10                 1.639862e-06   \n",
       "8                  3.034376e-06   \n",
       "\n",
       "                                     Metrics (JSMA) S  \\\n",
       "1   {'Adversarial Success Rate': 94.11111111111111...   \n",
       "2   {'Adversarial Success Rate': 94.33333333333334...   \n",
       "0   {'Adversarial Success Rate': 94.0, 'Adversaria...   \n",
       "10  {'Adversarial Success Rate': 94.0, 'Adversaria...   \n",
       "8   {'Adversarial Success Rate': 94.55555555555556...   \n",
       "\n",
       "                                     Metrics (FSGM) S  \\\n",
       "1   {'Adversarial Success Rate': 78.0, 'Adversaria...   \n",
       "2   {'Adversarial Success Rate': 74.0, 'Adversaria...   \n",
       "0   {'Adversarial Success Rate': 75.0, 'Adversaria...   \n",
       "10  {'Adversarial Success Rate': 75.0, 'Adversaria...   \n",
       "8   {'Adversarial Success Rate': 78.0, 'Adversaria...   \n",
       "\n",
       "                                 Metrics (DeepFool) S  \\\n",
       "1   {'Adversarial Success Rate': 100.0, 'Adversari...   \n",
       "2   {'Adversarial Success Rate': 100.0, 'Adversari...   \n",
       "0   {'Adversarial Success Rate': 100.0, 'Adversari...   \n",
       "10  {'Adversarial Success Rate': 100.0, 'Adversari...   \n",
       "8   {'Adversarial Success Rate': 100.0, 'Adversari...   \n",
       "\n",
       "                                    Metrics (Pixel) S  \n",
       "1   {'Adversarial Success Rate': 33.0, 'Adversaria...  \n",
       "2   {'Adversarial Success Rate': 39.0, 'Adversaria...  \n",
       "0   {'Adversarial Success Rate': 32.0, 'Adversaria...  \n",
       "10  {'Adversarial Success Rate': 32.0, 'Adversaria...  \n",
       "8   {'Adversarial Success Rate': 40.0, 'Adversaria...  "
      ]
     },
     "execution_count": 3,
     "metadata": {},
     "output_type": "execute_result"
    }
   ],
   "source": [
    "\n",
    "# Set the file path of your CSV file\n",
    "csv_file = \"C:/Users/aless/Repos/Rug/P3/Xai/Distillation_experiments/experiments/cifar_final/experiment_results.csv\"\n",
    "\n",
    "# Define column names (adjust as needed):\n",
    "col_names = [\n",
    "    \"Epochs\",\n",
    "    \"Learning Rate\",\n",
    "    \"Batch Size\",\n",
    "    \"Temperature\",\n",
    "    \"Num Samples\",\n",
    "    \"Accuracy (T)\",\n",
    "    \"Mean Gradient Amplitude (T)\",\n",
    "    \"Metrics (JSMA)\",\n",
    "    \"Metrics (FSGM)\",\n",
    "    \"Metrics (DeepFool)\",\n",
    "    \"Metrics (Pixel)\",\n",
    "    \"Accuracy (S)\",\n",
    "    \"Mean Gradient Amplitude (S)\",\n",
    "    \"Metrics (JSMA) S\",\n",
    "    \"Metrics (FSGM) S\",\n",
    "    \"Metrics (DeepFool) S\",\n",
    "    \"Metrics (Pixel) S\",\n",
    "]\n",
    "\n",
    "# Read CSV; assuming tab-delimited data\n",
    "df = pd.read_csv(csv_file, sep=\",\", header=0, names=col_names)\n",
    "df = df.sort_values(\"Temperature\", key=pd.to_numeric)\n",
    "# Display the first few rows\n",
    "df.head()\n"
   ]
  },
  {
   "cell_type": "markdown",
   "id": "612246ed",
   "metadata": {},
   "source": [
    "## 2. Convert Dictionary Columns\n",
    "\n",
    "The columns `Eval_A`, `Eval_B`, `Eval_C`, `Eval_D`, `Eval_E`, `Eval_F`, `Eval_G`, and `Eval_H`\n",
    "contain dictionaries saved as strings. We will use `ast.literal_eval` to convert these strings to actual Python dictionaries.\n",
    "\n",
    "Once converted, we'll extract their keys into new DataFrame columns. For example, for the column `Eval_A`\n",
    "we will create new columns:\n",
    "\n",
    "- `Eval_A_Adversarial_Success_Rate`\n",
    "- `Eval_A_Adversarial_Robustness`\n",
    "- `Eval_A_Adversarial_Confidence`"
   ]
  },
  {
   "cell_type": "code",
   "execution_count": 4,
   "id": "64f85ad8",
   "metadata": {},
   "outputs": [
    {
     "name": "stdout",
     "output_type": "stream",
     "text": [
      "\n",
      "DataFrame after expanding dictionary columns:\n"
     ]
    },
    {
     "data": {
      "application/vnd.microsoft.datawrangler.viewer.v0+json": {
       "columns": [
        {
         "name": "index",
         "rawType": "int64",
         "type": "integer"
        },
        {
         "name": "Epochs",
         "rawType": "int64",
         "type": "integer"
        },
        {
         "name": "Learning Rate",
         "rawType": "float64",
         "type": "float"
        },
        {
         "name": "Batch Size",
         "rawType": "int64",
         "type": "integer"
        },
        {
         "name": "Temperature",
         "rawType": "float64",
         "type": "float"
        },
        {
         "name": "Num Samples",
         "rawType": "int64",
         "type": "integer"
        },
        {
         "name": "Accuracy (T)",
         "rawType": "float64",
         "type": "float"
        },
        {
         "name": "Mean Gradient Amplitude (T)",
         "rawType": "float64",
         "type": "float"
        },
        {
         "name": "Metrics (JSMA)",
         "rawType": "object",
         "type": "unknown"
        },
        {
         "name": "Metrics (FSGM)",
         "rawType": "object",
         "type": "unknown"
        },
        {
         "name": "Metrics (DeepFool)",
         "rawType": "object",
         "type": "unknown"
        },
        {
         "name": "Metrics (Pixel)",
         "rawType": "object",
         "type": "unknown"
        },
        {
         "name": "Accuracy (S)",
         "rawType": "float64",
         "type": "float"
        },
        {
         "name": "Mean Gradient Amplitude (S)",
         "rawType": "float64",
         "type": "float"
        },
        {
         "name": "Metrics (JSMA) S",
         "rawType": "object",
         "type": "unknown"
        },
        {
         "name": "Metrics (FSGM) S",
         "rawType": "object",
         "type": "unknown"
        },
        {
         "name": "Metrics (DeepFool) S",
         "rawType": "object",
         "type": "unknown"
        },
        {
         "name": "Metrics (Pixel) S",
         "rawType": "object",
         "type": "unknown"
        },
        {
         "name": "Metrics (JSMA)_Adversarial_Success_Rate",
         "rawType": "float64",
         "type": "float"
        },
        {
         "name": "Metrics (JSMA)_Adversarial_Robustness_Avg_Min_Perturbation",
         "rawType": "float64",
         "type": "float"
        },
        {
         "name": "Metrics (JSMA)_Adversarial_Confidence",
         "rawType": "float64",
         "type": "float"
        },
        {
         "name": "Metrics (FSGM)_Adversarial_Success_Rate",
         "rawType": "float64",
         "type": "float"
        },
        {
         "name": "Metrics (FSGM)_Adversarial_Robustness_Avg_Min_Perturbation",
         "rawType": "float64",
         "type": "float"
        },
        {
         "name": "Metrics (FSGM)_Adversarial_Confidence",
         "rawType": "float64",
         "type": "float"
        },
        {
         "name": "Metrics (DeepFool)_Adversarial_Success_Rate",
         "rawType": "float64",
         "type": "float"
        },
        {
         "name": "Metrics (DeepFool)_Adversarial_Robustness_Avg_Min_Perturbation",
         "rawType": "float64",
         "type": "float"
        },
        {
         "name": "Metrics (DeepFool)_Adversarial_Confidence",
         "rawType": "float64",
         "type": "float"
        },
        {
         "name": "Metrics (Pixel)_Adversarial_Success_Rate",
         "rawType": "float64",
         "type": "float"
        },
        {
         "name": "Metrics (Pixel)_Adversarial_Robustness_Avg_Min_Perturbation",
         "rawType": "float64",
         "type": "float"
        },
        {
         "name": "Metrics (Pixel)_Adversarial_Confidence",
         "rawType": "float64",
         "type": "float"
        },
        {
         "name": "Metrics (JSMA) S_Adversarial_Success_Rate",
         "rawType": "float64",
         "type": "float"
        },
        {
         "name": "Metrics (JSMA) S_Adversarial_Robustness_Avg_Min_Perturbation",
         "rawType": "float64",
         "type": "float"
        },
        {
         "name": "Metrics (JSMA) S_Adversarial_Confidence",
         "rawType": "float64",
         "type": "float"
        },
        {
         "name": "Metrics (FSGM) S_Adversarial_Success_Rate",
         "rawType": "float64",
         "type": "float"
        },
        {
         "name": "Metrics (FSGM) S_Adversarial_Robustness_Avg_Min_Perturbation",
         "rawType": "float64",
         "type": "float"
        },
        {
         "name": "Metrics (FSGM) S_Adversarial_Confidence",
         "rawType": "float64",
         "type": "float"
        },
        {
         "name": "Metrics (DeepFool) S_Adversarial_Success_Rate",
         "rawType": "float64",
         "type": "float"
        },
        {
         "name": "Metrics (DeepFool) S_Adversarial_Robustness_Avg_Min_Perturbation",
         "rawType": "float64",
         "type": "float"
        },
        {
         "name": "Metrics (DeepFool) S_Adversarial_Confidence",
         "rawType": "float64",
         "type": "float"
        },
        {
         "name": "Metrics (Pixel) S_Adversarial_Success_Rate",
         "rawType": "float64",
         "type": "float"
        },
        {
         "name": "Metrics (Pixel) S_Adversarial_Robustness_Avg_Min_Perturbation",
         "rawType": "float64",
         "type": "float"
        },
        {
         "name": "Metrics (Pixel) S_Adversarial_Confidence",
         "rawType": "float64",
         "type": "float"
        }
       ],
       "conversionMethod": "pd.DataFrame",
       "ref": "a2b0f482-32d0-455a-bb03-d724d8ce128a",
       "rows": [
        [
         "1",
         "50",
         "0.01",
         "128",
         "1.0",
         "100",
         "68.33999752998352",
         "8.777568e-06",
         "{'Adversarial Success Rate': 96.0, 'Adversarial Robustness % (Avg Min Perturbation)': 2.3240935802459717, 'Adversarial Confidence': 40.554943680763245}",
         "{'Adversarial Success Rate': 78.0, 'Adversarial Robustness % (Avg Min Perturbation)': 5.463752746582031, 'Adversarial Confidence': 86.13895177841187}",
         "{'Adversarial Success Rate': 98.0, 'Adversarial Robustness % (Avg Min Perturbation)': 0.20144975185394287, 'Adversarial Confidence': 44.916656613349915}",
         "{'Adversarial Success Rate': 52.0, 'Adversarial Robustness % (Avg Min Perturbation)': 1.4151591062545776, 'Adversarial Confidence': 75.90383887290955}",
         "56.91999793052673",
         "4.3388607e-07",
         "{'Adversarial Success Rate': 94.11111111111111, 'Adversarial Robustness % (Avg Min Perturbation)': 3.1924095153808594, 'Adversarial Confidence': 12.18768060207367}",
         "{'Adversarial Success Rate': 78.0, 'Adversarial Robustness % (Avg Min Perturbation)': 5.411783218383789, 'Adversarial Confidence': 19.165682792663574}",
         "{'Adversarial Success Rate': 100.0, 'Adversarial Robustness % (Avg Min Perturbation)': 0.2307789921760559, 'Adversarial Confidence': 12.74203211069107}",
         "{'Adversarial Success Rate': 33.0, 'Adversarial Robustness % (Avg Min Perturbation)': 1.3166500329971313, 'Adversarial Confidence': 15.494115650653839}",
         "96.0",
         "2.3240935802459717",
         "40.554943680763245",
         "78.0",
         "5.463752746582031",
         "86.13895177841187",
         "98.0",
         "0.20144975185394287",
         "44.916656613349915",
         "52.0",
         "1.4151591062545776",
         "75.90383887290955",
         "94.11111111111111",
         "3.1924095153808594",
         "12.18768060207367",
         "78.0",
         "5.411783218383789",
         "19.165682792663574",
         "100.0",
         "0.2307789921760559",
         "12.74203211069107",
         "33.0",
         "1.3166500329971313",
         "15.494115650653839"
        ],
        [
         "2",
         "50",
         "0.01",
         "128",
         "2.0",
         "100",
         "67.93000102043152",
         "1.4026957e-05",
         "{'Adversarial Success Rate': 95.22222222222221, 'Adversarial Robustness % (Avg Min Perturbation)': 2.3425586223602295, 'Adversarial Confidence': 50.10135769844055}",
         "{'Adversarial Success Rate': 70.0, 'Adversarial Robustness % (Avg Min Perturbation)': 5.41020393371582, 'Adversarial Confidence': 94.42518949508667}",
         "{'Adversarial Success Rate': 99.0, 'Adversarial Robustness % (Avg Min Perturbation)': 0.19293071329593658, 'Adversarial Confidence': 48.9277184009552}",
         "{'Adversarial Success Rate': 48.0, 'Adversarial Robustness % (Avg Min Perturbation)': 1.4719316959381104, 'Adversarial Confidence': 88.53370547294617}",
         "58.139997720718384",
         "8.6014666e-07",
         "{'Adversarial Success Rate': 94.33333333333334, 'Adversarial Robustness % (Avg Min Perturbation)': 3.707406759262085, 'Adversarial Confidence': 14.234764873981476}",
         "{'Adversarial Success Rate': 74.0, 'Adversarial Robustness % (Avg Min Perturbation)': 5.63537073135376, 'Adversarial Confidence': 28.235507011413574}",
         "{'Adversarial Success Rate': 100.0, 'Adversarial Robustness % (Avg Min Perturbation)': 0.24092043936252594, 'Adversarial Confidence': 15.270774066448212}",
         "{'Adversarial Success Rate': 39.0, 'Adversarial Robustness % (Avg Min Perturbation)': 1.3294870853424072, 'Adversarial Confidence': 21.677550673484802}",
         "95.22222222222221",
         "2.3425586223602295",
         "50.10135769844055",
         "70.0",
         "5.41020393371582",
         "94.42518949508667",
         "99.0",
         "0.19293071329593658",
         "48.9277184009552",
         "48.0",
         "1.4719316959381104",
         "88.53370547294617",
         "94.33333333333334",
         "3.707406759262085",
         "14.234764873981476",
         "74.0",
         "5.63537073135376",
         "28.235507011413574",
         "100.0",
         "0.24092043936252594",
         "15.270774066448212",
         "39.0",
         "1.3294870853424072",
         "21.677550673484802"
        ],
        [
         "0",
         "50",
         "0.01",
         "128",
         "5.0",
         "100",
         "64.03999924659729",
         "2.8607026e-05",
         "{'Adversarial Success Rate': 95.44444444444444, 'Adversarial Robustness % (Avg Min Perturbation)': 2.4868829250335693, 'Adversarial Confidence': 63.52853775024414}",
         "{'Adversarial Success Rate': 73.0, 'Adversarial Robustness % (Avg Min Perturbation)': 5.3572001457214355, 'Adversarial Confidence': 98.76342415809631}",
         "{'Adversarial Success Rate': 100.0, 'Adversarial Robustness % (Avg Min Perturbation)': 0.21860800683498383, 'Adversarial Confidence': 51.055675745010376}",
         "{'Adversarial Success Rate': 45.0, 'Adversarial Robustness % (Avg Min Perturbation)': 1.3614559173583984, 'Adversarial Confidence': 94.42833662033081}",
         "56.04999661445618",
         "1.6398617e-06",
         "{'Adversarial Success Rate': 94.0, 'Adversarial Robustness % (Avg Min Perturbation)': 3.905341148376465, 'Adversarial Confidence': 24.287334084510803}",
         "{'Adversarial Success Rate': 75.0, 'Adversarial Robustness % (Avg Min Perturbation)': 5.559535980224609, 'Adversarial Confidence': 65.17497301101685}",
         "{'Adversarial Success Rate': 100.0, 'Adversarial Robustness % (Avg Min Perturbation)': 0.2680341601371765, 'Adversarial Confidence': 27.27929949760437}",
         "{'Adversarial Success Rate': 32.0, 'Adversarial Robustness % (Avg Min Perturbation)': 1.3759214878082275, 'Adversarial Confidence': 52.34748721122742}",
         "95.44444444444444",
         "2.4868829250335693",
         "63.52853775024414",
         "73.0",
         "5.3572001457214355",
         "98.76342415809631",
         "100.0",
         "0.21860800683498383",
         "51.055675745010376",
         "45.0",
         "1.3614559173583984",
         "94.42833662033081",
         "94.0",
         "3.905341148376465",
         "24.287334084510803",
         "75.0",
         "5.559535980224609",
         "65.17497301101685",
         "100.0",
         "0.2680341601371765",
         "27.27929949760437",
         "32.0",
         "1.3759214878082275",
         "52.34748721122742"
        ],
        [
         "10",
         "50",
         "0.01",
         "128",
         "5.0",
         "100",
         "64.03999924659729",
         "2.8607026e-05",
         "{'Adversarial Success Rate': 95.44444444444444, 'Adversarial Robustness % (Avg Min Perturbation)': 2.4868829250335693, 'Adversarial Confidence': 63.52853775024414}",
         "{'Adversarial Success Rate': 73.0, 'Adversarial Robustness % (Avg Min Perturbation)': 5.3572001457214355, 'Adversarial Confidence': 98.76342415809631}",
         "{'Adversarial Success Rate': 100.0, 'Adversarial Robustness % (Avg Min Perturbation)': 0.21860800683498383, 'Adversarial Confidence': 51.055675745010376}",
         "{'Adversarial Success Rate': 45.0, 'Adversarial Robustness % (Avg Min Perturbation)': 1.3614559173583984, 'Adversarial Confidence': 94.42833662033081}",
         "56.04999661445618",
         "1.6398617e-06",
         "{'Adversarial Success Rate': 94.0, 'Adversarial Robustness % (Avg Min Perturbation)': 3.905341148376465, 'Adversarial Confidence': 24.287334084510803}",
         "{'Adversarial Success Rate': 75.0, 'Adversarial Robustness % (Avg Min Perturbation)': 5.559535980224609, 'Adversarial Confidence': 65.17497301101685}",
         "{'Adversarial Success Rate': 100.0, 'Adversarial Robustness % (Avg Min Perturbation)': 0.2680341601371765, 'Adversarial Confidence': 27.27929949760437}",
         "{'Adversarial Success Rate': 32.0, 'Adversarial Robustness % (Avg Min Perturbation)': 1.3759214878082275, 'Adversarial Confidence': 52.34748721122742}",
         "95.44444444444444",
         "2.4868829250335693",
         "63.52853775024414",
         "73.0",
         "5.3572001457214355",
         "98.76342415809631",
         "100.0",
         "0.21860800683498383",
         "51.055675745010376",
         "45.0",
         "1.3614559173583984",
         "94.42833662033081",
         "94.0",
         "3.905341148376465",
         "24.287334084510803",
         "75.0",
         "5.559535980224609",
         "65.17497301101685",
         "100.0",
         "0.2680341601371765",
         "27.27929949760437",
         "32.0",
         "1.3759214878082275",
         "52.34748721122742"
        ],
        [
         "8",
         "50",
         "0.01",
         "128",
         "10.0",
         "100",
         "60.87999939918518",
         "4.3922737e-05",
         "{'Adversarial Success Rate': 94.77777777777779, 'Adversarial Robustness % (Avg Min Perturbation)': 2.2827563285827637, 'Adversarial Confidence': 70.6372857093811}",
         "{'Adversarial Success Rate': 51.0, 'Adversarial Robustness % (Avg Min Perturbation)': 4.965912818908691, 'Adversarial Confidence': 99.0184485912323}",
         "{'Adversarial Success Rate': 100.0, 'Adversarial Robustness % (Avg Min Perturbation)': 0.23827411234378815, 'Adversarial Confidence': 50.97304582595825}",
         "{'Adversarial Success Rate': 33.0, 'Adversarial Robustness % (Avg Min Perturbation)': 1.3447619676589966, 'Adversarial Confidence': 93.60284805297852}",
         "55.25000095367432",
         "3.0343763e-06",
         "{'Adversarial Success Rate': 94.55555555555556, 'Adversarial Robustness % (Avg Min Perturbation)': 4.1168036460876465, 'Adversarial Confidence': 33.707740902900696}",
         "{'Adversarial Success Rate': 78.0, 'Adversarial Robustness % (Avg Min Perturbation)': 5.500954627990723, 'Adversarial Confidence': 85.71198582649231}",
         "{'Adversarial Success Rate': 100.0, 'Adversarial Robustness % (Avg Min Perturbation)': 0.22240987420082092, 'Adversarial Confidence': 41.452136635780334}",
         "{'Adversarial Success Rate': 40.0, 'Adversarial Robustness % (Avg Min Perturbation)': 1.4830056428909302, 'Adversarial Confidence': 66.29822254180908}",
         "94.77777777777779",
         "2.2827563285827637",
         "70.6372857093811",
         "51.0",
         "4.965912818908691",
         "99.0184485912323",
         "100.0",
         "0.23827411234378815",
         "50.97304582595825",
         "33.0",
         "1.3447619676589966",
         "93.60284805297852",
         "94.55555555555556",
         "4.1168036460876465",
         "33.707740902900696",
         "78.0",
         "5.500954627990723",
         "85.71198582649231",
         "100.0",
         "0.22240987420082092",
         "41.452136635780334",
         "40.0",
         "1.4830056428909302",
         "66.29822254180908"
        ]
       ],
       "shape": {
        "columns": 41,
        "rows": 5
       }
      },
      "text/html": [
       "<div>\n",
       "<style scoped>\n",
       "    .dataframe tbody tr th:only-of-type {\n",
       "        vertical-align: middle;\n",
       "    }\n",
       "\n",
       "    .dataframe tbody tr th {\n",
       "        vertical-align: top;\n",
       "    }\n",
       "\n",
       "    .dataframe thead th {\n",
       "        text-align: right;\n",
       "    }\n",
       "</style>\n",
       "<table border=\"1\" class=\"dataframe\">\n",
       "  <thead>\n",
       "    <tr style=\"text-align: right;\">\n",
       "      <th></th>\n",
       "      <th>Epochs</th>\n",
       "      <th>Learning Rate</th>\n",
       "      <th>Batch Size</th>\n",
       "      <th>Temperature</th>\n",
       "      <th>Num Samples</th>\n",
       "      <th>Accuracy (T)</th>\n",
       "      <th>Mean Gradient Amplitude (T)</th>\n",
       "      <th>Metrics (JSMA)</th>\n",
       "      <th>Metrics (FSGM)</th>\n",
       "      <th>Metrics (DeepFool)</th>\n",
       "      <th>...</th>\n",
       "      <th>Metrics (JSMA) S_Adversarial_Confidence</th>\n",
       "      <th>Metrics (FSGM) S_Adversarial_Success_Rate</th>\n",
       "      <th>Metrics (FSGM) S_Adversarial_Robustness_Avg_Min_Perturbation</th>\n",
       "      <th>Metrics (FSGM) S_Adversarial_Confidence</th>\n",
       "      <th>Metrics (DeepFool) S_Adversarial_Success_Rate</th>\n",
       "      <th>Metrics (DeepFool) S_Adversarial_Robustness_Avg_Min_Perturbation</th>\n",
       "      <th>Metrics (DeepFool) S_Adversarial_Confidence</th>\n",
       "      <th>Metrics (Pixel) S_Adversarial_Success_Rate</th>\n",
       "      <th>Metrics (Pixel) S_Adversarial_Robustness_Avg_Min_Perturbation</th>\n",
       "      <th>Metrics (Pixel) S_Adversarial_Confidence</th>\n",
       "    </tr>\n",
       "  </thead>\n",
       "  <tbody>\n",
       "    <tr>\n",
       "      <th>1</th>\n",
       "      <td>50</td>\n",
       "      <td>0.01</td>\n",
       "      <td>128</td>\n",
       "      <td>1.0</td>\n",
       "      <td>100</td>\n",
       "      <td>68.339998</td>\n",
       "      <td>0.000009</td>\n",
       "      <td>{'Adversarial Success Rate': 96.0, 'Adversaria...</td>\n",
       "      <td>{'Adversarial Success Rate': 78.0, 'Adversaria...</td>\n",
       "      <td>{'Adversarial Success Rate': 98.0, 'Adversaria...</td>\n",
       "      <td>...</td>\n",
       "      <td>12.187681</td>\n",
       "      <td>78.0</td>\n",
       "      <td>5.411783</td>\n",
       "      <td>19.165683</td>\n",
       "      <td>100.0</td>\n",
       "      <td>0.230779</td>\n",
       "      <td>12.742032</td>\n",
       "      <td>33.0</td>\n",
       "      <td>1.316650</td>\n",
       "      <td>15.494116</td>\n",
       "    </tr>\n",
       "    <tr>\n",
       "      <th>2</th>\n",
       "      <td>50</td>\n",
       "      <td>0.01</td>\n",
       "      <td>128</td>\n",
       "      <td>2.0</td>\n",
       "      <td>100</td>\n",
       "      <td>67.930001</td>\n",
       "      <td>0.000014</td>\n",
       "      <td>{'Adversarial Success Rate': 95.22222222222221...</td>\n",
       "      <td>{'Adversarial Success Rate': 70.0, 'Adversaria...</td>\n",
       "      <td>{'Adversarial Success Rate': 99.0, 'Adversaria...</td>\n",
       "      <td>...</td>\n",
       "      <td>14.234765</td>\n",
       "      <td>74.0</td>\n",
       "      <td>5.635371</td>\n",
       "      <td>28.235507</td>\n",
       "      <td>100.0</td>\n",
       "      <td>0.240920</td>\n",
       "      <td>15.270774</td>\n",
       "      <td>39.0</td>\n",
       "      <td>1.329487</td>\n",
       "      <td>21.677551</td>\n",
       "    </tr>\n",
       "    <tr>\n",
       "      <th>0</th>\n",
       "      <td>50</td>\n",
       "      <td>0.01</td>\n",
       "      <td>128</td>\n",
       "      <td>5.0</td>\n",
       "      <td>100</td>\n",
       "      <td>64.039999</td>\n",
       "      <td>0.000029</td>\n",
       "      <td>{'Adversarial Success Rate': 95.44444444444444...</td>\n",
       "      <td>{'Adversarial Success Rate': 73.0, 'Adversaria...</td>\n",
       "      <td>{'Adversarial Success Rate': 100.0, 'Adversari...</td>\n",
       "      <td>...</td>\n",
       "      <td>24.287334</td>\n",
       "      <td>75.0</td>\n",
       "      <td>5.559536</td>\n",
       "      <td>65.174973</td>\n",
       "      <td>100.0</td>\n",
       "      <td>0.268034</td>\n",
       "      <td>27.279299</td>\n",
       "      <td>32.0</td>\n",
       "      <td>1.375921</td>\n",
       "      <td>52.347487</td>\n",
       "    </tr>\n",
       "    <tr>\n",
       "      <th>10</th>\n",
       "      <td>50</td>\n",
       "      <td>0.01</td>\n",
       "      <td>128</td>\n",
       "      <td>5.0</td>\n",
       "      <td>100</td>\n",
       "      <td>64.039999</td>\n",
       "      <td>0.000029</td>\n",
       "      <td>{'Adversarial Success Rate': 95.44444444444444...</td>\n",
       "      <td>{'Adversarial Success Rate': 73.0, 'Adversaria...</td>\n",
       "      <td>{'Adversarial Success Rate': 100.0, 'Adversari...</td>\n",
       "      <td>...</td>\n",
       "      <td>24.287334</td>\n",
       "      <td>75.0</td>\n",
       "      <td>5.559536</td>\n",
       "      <td>65.174973</td>\n",
       "      <td>100.0</td>\n",
       "      <td>0.268034</td>\n",
       "      <td>27.279299</td>\n",
       "      <td>32.0</td>\n",
       "      <td>1.375921</td>\n",
       "      <td>52.347487</td>\n",
       "    </tr>\n",
       "    <tr>\n",
       "      <th>8</th>\n",
       "      <td>50</td>\n",
       "      <td>0.01</td>\n",
       "      <td>128</td>\n",
       "      <td>10.0</td>\n",
       "      <td>100</td>\n",
       "      <td>60.879999</td>\n",
       "      <td>0.000044</td>\n",
       "      <td>{'Adversarial Success Rate': 94.77777777777779...</td>\n",
       "      <td>{'Adversarial Success Rate': 51.0, 'Adversaria...</td>\n",
       "      <td>{'Adversarial Success Rate': 100.0, 'Adversari...</td>\n",
       "      <td>...</td>\n",
       "      <td>33.707741</td>\n",
       "      <td>78.0</td>\n",
       "      <td>5.500955</td>\n",
       "      <td>85.711986</td>\n",
       "      <td>100.0</td>\n",
       "      <td>0.222410</td>\n",
       "      <td>41.452137</td>\n",
       "      <td>40.0</td>\n",
       "      <td>1.483006</td>\n",
       "      <td>66.298223</td>\n",
       "    </tr>\n",
       "  </tbody>\n",
       "</table>\n",
       "<p>5 rows × 41 columns</p>\n",
       "</div>"
      ],
      "text/plain": [
       "    Epochs  Learning Rate  Batch Size  Temperature  Num Samples  Accuracy (T)  \\\n",
       "1       50           0.01         128          1.0          100     68.339998   \n",
       "2       50           0.01         128          2.0          100     67.930001   \n",
       "0       50           0.01         128          5.0          100     64.039999   \n",
       "10      50           0.01         128          5.0          100     64.039999   \n",
       "8       50           0.01         128         10.0          100     60.879999   \n",
       "\n",
       "    Mean Gradient Amplitude (T)  \\\n",
       "1                      0.000009   \n",
       "2                      0.000014   \n",
       "0                      0.000029   \n",
       "10                     0.000029   \n",
       "8                      0.000044   \n",
       "\n",
       "                                       Metrics (JSMA)  \\\n",
       "1   {'Adversarial Success Rate': 96.0, 'Adversaria...   \n",
       "2   {'Adversarial Success Rate': 95.22222222222221...   \n",
       "0   {'Adversarial Success Rate': 95.44444444444444...   \n",
       "10  {'Adversarial Success Rate': 95.44444444444444...   \n",
       "8   {'Adversarial Success Rate': 94.77777777777779...   \n",
       "\n",
       "                                       Metrics (FSGM)  \\\n",
       "1   {'Adversarial Success Rate': 78.0, 'Adversaria...   \n",
       "2   {'Adversarial Success Rate': 70.0, 'Adversaria...   \n",
       "0   {'Adversarial Success Rate': 73.0, 'Adversaria...   \n",
       "10  {'Adversarial Success Rate': 73.0, 'Adversaria...   \n",
       "8   {'Adversarial Success Rate': 51.0, 'Adversaria...   \n",
       "\n",
       "                                   Metrics (DeepFool)  ...  \\\n",
       "1   {'Adversarial Success Rate': 98.0, 'Adversaria...  ...   \n",
       "2   {'Adversarial Success Rate': 99.0, 'Adversaria...  ...   \n",
       "0   {'Adversarial Success Rate': 100.0, 'Adversari...  ...   \n",
       "10  {'Adversarial Success Rate': 100.0, 'Adversari...  ...   \n",
       "8   {'Adversarial Success Rate': 100.0, 'Adversari...  ...   \n",
       "\n",
       "   Metrics (JSMA) S_Adversarial_Confidence  \\\n",
       "1                                12.187681   \n",
       "2                                14.234765   \n",
       "0                                24.287334   \n",
       "10                               24.287334   \n",
       "8                                33.707741   \n",
       "\n",
       "    Metrics (FSGM) S_Adversarial_Success_Rate  \\\n",
       "1                                        78.0   \n",
       "2                                        74.0   \n",
       "0                                        75.0   \n",
       "10                                       75.0   \n",
       "8                                        78.0   \n",
       "\n",
       "    Metrics (FSGM) S_Adversarial_Robustness_Avg_Min_Perturbation  \\\n",
       "1                                            5.411783              \n",
       "2                                            5.635371              \n",
       "0                                            5.559536              \n",
       "10                                           5.559536              \n",
       "8                                            5.500955              \n",
       "\n",
       "   Metrics (FSGM) S_Adversarial_Confidence  \\\n",
       "1                                19.165683   \n",
       "2                                28.235507   \n",
       "0                                65.174973   \n",
       "10                               65.174973   \n",
       "8                                85.711986   \n",
       "\n",
       "   Metrics (DeepFool) S_Adversarial_Success_Rate  \\\n",
       "1                                          100.0   \n",
       "2                                          100.0   \n",
       "0                                          100.0   \n",
       "10                                         100.0   \n",
       "8                                          100.0   \n",
       "\n",
       "   Metrics (DeepFool) S_Adversarial_Robustness_Avg_Min_Perturbation  \\\n",
       "1                                            0.230779                 \n",
       "2                                            0.240920                 \n",
       "0                                            0.268034                 \n",
       "10                                           0.268034                 \n",
       "8                                            0.222410                 \n",
       "\n",
       "   Metrics (DeepFool) S_Adversarial_Confidence  \\\n",
       "1                                    12.742032   \n",
       "2                                    15.270774   \n",
       "0                                    27.279299   \n",
       "10                                   27.279299   \n",
       "8                                    41.452137   \n",
       "\n",
       "    Metrics (Pixel) S_Adversarial_Success_Rate  \\\n",
       "1                                         33.0   \n",
       "2                                         39.0   \n",
       "0                                         32.0   \n",
       "10                                        32.0   \n",
       "8                                         40.0   \n",
       "\n",
       "    Metrics (Pixel) S_Adversarial_Robustness_Avg_Min_Perturbation  \\\n",
       "1                                            1.316650               \n",
       "2                                            1.329487               \n",
       "0                                            1.375921               \n",
       "10                                           1.375921               \n",
       "8                                            1.483006               \n",
       "\n",
       "    Metrics (Pixel) S_Adversarial_Confidence  \n",
       "1                                  15.494116  \n",
       "2                                  21.677551  \n",
       "0                                  52.347487  \n",
       "10                                 52.347487  \n",
       "8                                  66.298223  \n",
       "\n",
       "[5 rows x 41 columns]"
      ]
     },
     "metadata": {},
     "output_type": "display_data"
    }
   ],
   "source": [
    "import re\n",
    "\n",
    "eval_cols = [\n",
    "    \"Metrics (JSMA)\",\n",
    "    \"Metrics (FSGM)\",\n",
    "    \"Metrics (DeepFool)\",\n",
    "    \"Metrics (Pixel)\",\n",
    "    \"Metrics (JSMA) S\",\n",
    "    \"Metrics (FSGM) S\",\n",
    "    \"Metrics (DeepFool) S\",\n",
    "    \"Metrics (Pixel) S\",\n",
    "]\n",
    "\n",
    "def convert_to_dict(val):\n",
    "    \"\"\"Convert a string value to a dictionary; print any errors.\"\"\"\n",
    "    try:\n",
    "        if isinstance(val, dict):\n",
    "            return val\n",
    "        return ast.literal_eval(val)\n",
    "    except Exception as e:\n",
    "        print(\"Conversion error for value:\", val, \"\\nError:\", e)\n",
    "        return {}\n",
    "\n",
    "# Convert and expand each evaluation column\n",
    "for col in eval_cols:\n",
    "    if col in df.columns:\n",
    "        df[col] = df[col].apply(convert_to_dict)\n",
    "        # If the conversion is successful and we have a dictionary with keys, extract them.\n",
    "        # Here we assume that each dictionary has consistent keys.\n",
    "        non_empty = df[col].apply(lambda x: isinstance(x, dict) and len(x) > 0)\n",
    "        if non_empty.any():\n",
    "            # Get the first non-empty dictionary as sample\n",
    "            sample_dict = df[col][non_empty].iloc[0]\n",
    "            for key in sample_dict.keys():\n",
    "                # Create a column name that is safe for pandas (remove non-alphanumeric characters)\n",
    "                safe_key = re.sub(r'\\W+', '_', key).strip('_')\n",
    "                new_col = f\"{col}_{safe_key}\"\n",
    "                df[new_col] = df[col].apply(lambda d: d.get(key, None) if isinstance(d, dict) else None)\n",
    "        else:\n",
    "            print(f\"Column '{col}' does not contain any valid dictionary data.\")\n",
    "    else:\n",
    "        print(f\"Column '{col}' not found in DataFrame.\")\n",
    "\n",
    "print(\"\\nDataFrame after expanding dictionary columns:\")\n",
    "display(df.head())"
   ]
  },
  {
   "cell_type": "markdown",
   "id": "72661055",
   "metadata": {},
   "source": [
    "## 3. Plotting with Matplotlib\n",
    "\n",
    "As an example, let’s make a scatter plot using matplotlib. We will plot the\n",
    "**Learning Rate** (from the hyperparameters) on the x-axis versus the **Adversarial Success Rate** from `Eval_A` on the y-axis.\n",
    "\n",
    "Adjust the x and y selections as needed for your analysis."
   ]
  },
  {
   "cell_type": "code",
   "execution_count": 5,
   "id": "3694ac51",
   "metadata": {},
   "outputs": [
    {
     "data": {
      "image/png": "[encoded data removed]",
      "text/plain": [
       "<Figure size 1000x1000 with 2 Axes>"
      ]
     },
     "metadata": {},
     "output_type": "display_data"
    }
   ],
   "source": [
    "fig, (ax1, ax2) = plt.subplots(nrows=2, ncols=1, figsize=(10, 10))\n",
    "\n",
    "# -----------------------------\n",
    "# Subplot 1: Accuracy Metrics\n",
    "# -----------------------------\n",
    "ax1.plot(df[\"Temperature\"], df[\"Accuracy (T)\"], label=\"Accuracy (T)\", marker='o')\n",
    "ax1.plot(df[\"Temperature\"], df[\"Accuracy (S)\"], label=\"Accuracy (S)\", marker='o')\n",
    "ax1.set_xlabel(\"Temperature\")\n",
    "ax1.set_ylabel(\"Accuracy\")\n",
    "ax1.set_title(\"Accuracy vs Temperature\")\n",
    "ax1.grid(True)\n",
    "ax1.legend()\n",
    "\n",
    "# -----------------------------\n",
    "# Subplot 2: Mean Gradient Amplitude Metrics\n",
    "# -----------------------------\n",
    "ax2.plot(df[\"Temperature\"], df[\"Mean Gradient Amplitude (T)\"], label=\"Mean Gradient Amplitude (T)\", marker='o')\n",
    "ax2.plot(df[\"Temperature\"], df[\"Mean Gradient Amplitude (S)\"], label=\"Mean Gradient Amplitude (S)\", marker='o')\n",
    "ax2.set_xlabel(\"Temperature\")\n",
    "ax2.set_ylabel(\"Mean Gradient Amplitude\")\n",
    "ax2.set_title(\"Mean Gradient Amplitude vs Temperature\")\n",
    "ax2.grid(True)\n",
    "ax2.legend()\n",
    "\n",
    "# Adjust layout for better spacing\n",
    "plt.tight_layout()\n",
    "plt.show()"
   ]
  },
  {
   "cell_type": "markdown",
   "id": "c833fada",
   "metadata": {},
   "source": [
    "## 4. Plotting with Plotly\n",
    "\n",
    "Now we create an interactive scatter plot using Plotly. In this example, we plot the\n",
    "**Batch Size** (from the hyperparameters) versus the **Adversarial Confidence** from `Eval_A`.\n",
    "\n",
    "Hovering over the markers will show additional data from the experiment."
   ]
  },
  {
   "cell_type": "code",
   "execution_count": 6,
   "id": "3c906da7",
   "metadata": {},
   "outputs": [],
   "source": [
    "\n",
    "import plotly.graph_objects as go\n",
    "from plotly.subplots import make_subplots\n",
    "\n",
    "teacher_eval_cols = [\n",
    "        \"Metrics (JSMA)\",\n",
    "        \"Metrics (FSGM)\",\n",
    "        \"Metrics (DeepFool)\",\n",
    "        \"Metrics (Pixel)\"\n",
    "    ]\n",
    "student_eval_cols = [\n",
    "    \"Metrics (JSMA) S\",\n",
    "    \"Metrics (FSGM) S\",\n",
    "    \"Metrics (DeepFool) S\",\n",
    "    \"Metrics (Pixel) S\"\n",
    "]"
   ]
  },
  {
   "cell_type": "code",
   "execution_count": 9,
   "id": "750d8094",
   "metadata": {},
   "outputs": [
    {
     "data": {
      "application/vnd.plotly.v1+json": {
       "config": {
        "plotlyServerURL": "https://plot.ly"
       },
       "data": [
        {
         "customdata": {
          "bdata": "AAAAAAAASUB7FK5H4XqEPwAAAAAAAGBAAAAAhcIVUUAAAAAAAABJQHsUrkfheoQ/AAAAAAAAYEAAAAAjhftQQAAAAAAAAElAexSuR+F6hD8AAAAAAABgQAAAAFmPAlBAAAAAAAAASUB7FK5H4XqEPwAAAAAAAGBAAAAA0qNwTkAAAAAAAABJQHsUrkfheoQ/AAAAAAAAYEAAAAB665FMQAAAAAAAAElAexSuR+F6hD8AAAAAAABgQAEAAP4oHExAAAAAAAAASUB7FK5H4XqEPwAAAAAAAGBAAAAAmsK1SkAAAAAAAABJQHsUrkfheoQ/AAAAAAAAYEAAAADazKxKQAAAAAAAAElAexSuR+F6hD8AAAAAAABgQAAAADHhekhAAAAAAAAASUB7FK5H4XqEPwAAAAAAAGBAAAAASeH6RkA=",
          "dtype": "f8",
          "shape": "10, 4"
         },
         "hovertemplate": "Temperature: %{x}<br>Metric Value: %{y}<br>Epochs: %{customdata[0]}<br>Learning Rate: %{customdata[1]}<br>Batch Size: %{customdata[2]}<br>Accuracy (T): %{customdata[3]}<extra></extra>",
         "line": {
          "dash": "solid"
         },
         "mode": "lines",
         "name": "Metrics (JSMA) - Adversarial Success Rate (Teacher)",
         "showlegend": false,
         "type": "scatter",
         "x": {
          "bdata": "AAAAAAAA8D8AAAAAAAAAQAAAAAAAABRAAAAAAAAAJEAAAAAAAAA0QAAAAAAAAD5AAAAAAAAAREAAAAAAAABJQAAAAAAAwFJAAAAAAAAAWUA=",
          "dtype": "f8"
         },
         "xaxis": "x",
         "y": {
          "bdata": "AAAAAAAAWEDjOI7jOM5XQMdxHMdx3FdAHcdxHMexV0BWVVVVVZVXQFZVVVVVtVdA4ziO4ziOV0CrqqqqqmpXQB3HcRzHcVdAAAAAAABAV0A=",
          "dtype": "f8"
         },
         "yaxis": "y"
        },
        {
         "customdata": {
          "bdata": "AAAAAAAASUB7FK5H4XqEPwAAAAAAAGBAAAAAhcIVUUAAAAAAAABJQHsUrkfheoQ/AAAAAAAAYEAAAAAjhftQQAAAAAAAAElAexSuR+F6hD8AAAAAAABgQAAAAFmPAlBAAAAAAAAASUB7FK5H4XqEPwAAAAAAAGBAAAAA0qNwTkAAAAAAAABJQHsUrkfheoQ/AAAAAAAAYEAAAAB665FMQAAAAAAAAElAexSuR+F6hD8AAAAAAABgQAEAAP4oHExAAAAAAAAASUB7FK5H4XqEPwAAAAAAAGBAAAAAmsK1SkAAAAAAAABJQHsUrkfheoQ/AAAAAAAAYEAAAADazKxKQAAAAAAAAElAexSuR+F6hD8AAAAAAABgQAAAADHhekhAAAAAAAAASUB7FK5H4XqEPwAAAAAAAGBAAAAASeH6RkA=",
          "dtype": "f8",
          "shape": "10, 4"
         },
         "hovertemplate": "Temperature: %{x}<br>Metric Value: %{y}<br>Epochs: %{customdata[0]}<br>Learning Rate: %{customdata[1]}<br>Batch Size: %{customdata[2]}<br>Accuracy (T): %{customdata[3]}<extra></extra>",
         "line": {
          "dash": "dash"
         },
         "mode": "lines",
         "name": "Metrics (JSMA) S - Adversarial Success Rate (Student)",
         "showlegend": false,
         "type": "scatter",
         "x": {
          "bdata": "AAAAAAAA8D8AAAAAAAAAQAAAAAAAABRAAAAAAAAAJEAAAAAAAAA0QAAAAAAAAD5AAAAAAAAAREAAAAAAAABJQAAAAAAAwFJAAAAAAAAAWUA=",
          "dtype": "f8"
         },
         "xaxis": "x",
         "y": {
          "bdata": "chzHcRyHV0BWVVVVVZVXQAAAAAAAgFdAOY7jOI6jV0A5juM4jqNXQBzHcRzHkVdAq6qqqqpqV0A5juM4jmNXQI7jOI7j+FZA4ziO4zhOV0A=",
          "dtype": "f8"
         },
         "yaxis": "y"
        },
        {
         "customdata": {
          "bdata": "AAAAAAAASUB7FK5H4XqEPwAAAAAAAGBAAAAAhcIVUUAAAAAAAABJQHsUrkfheoQ/AAAAAAAAYEAAAAAjhftQQAAAAAAAAElAexSuR+F6hD8AAAAAAABgQAAAAFmPAlBAAAAAAAAASUB7FK5H4XqEPwAAAAAAAGBAAAAA0qNwTkAAAAAAAABJQHsUrkfheoQ/AAAAAAAAYEAAAAB665FMQAAAAAAAAElAexSuR+F6hD8AAAAAAABgQAEAAP4oHExAAAAAAAAASUB7FK5H4XqEPwAAAAAAAGBAAAAAmsK1SkAAAAAAAABJQHsUrkfheoQ/AAAAAAAAYEAAAADazKxKQAAAAAAAAElAexSuR+F6hD8AAAAAAABgQAAAADHhekhAAAAAAAAASUB7FK5H4XqEPwAAAAAAAGBAAAAASeH6RkA=",
          "dtype": "f8",
          "shape": "10, 4"
         },
         "hovertemplate": "Temperature: %{x}<br>Metric Value: %{y}<br>Epochs: %{customdata[0]}<br>Learning Rate: %{customdata[1]}<br>Batch Size: %{customdata[2]}<br>Accuracy (T): %{customdata[3]}<extra></extra>",
         "line": {
          "dash": "solid"
         },
         "mode": "lines",
         "name": "Metrics (JSMA) - Adversarial Robustness % (Avg Min Perturbation) (Teacher)",
         "showlegend": false,
         "type": "scatter",
         "x": {
          "bdata": "AAAAAAAA8D8AAAAAAAAAQAAAAAAAABRAAAAAAAAAJEAAAAAAAAA0QAAAAAAAAD5AAAAAAAAAREAAAAAAAABJQAAAAAAAwFJAAAAAAAAAWUA=",
          "dtype": "f8"
         },
         "xaxis": "x5",
         "y": {
          "bdata": "AAAAYL6XAkAAAABgj70CQAAAAOAi5QNAAAAAwBVDAkAAAABAdYIBQAAAABCTfAFAAAAAYIlLAkAAAAAgyasCQAAAAIA1ewNAAAAAoMihBEA=",
          "dtype": "f8"
         },
         "yaxis": "y5"
        },
        {
         "customdata": {
          "bdata": "AAAAAAAASUB7FK5H4XqEPwAAAAAAAGBAAAAAhcIVUUAAAAAAAABJQHsUrkfheoQ/AAAAAAAAYEAAAAAjhftQQAAAAAAAAElAexSuR+F6hD8AAAAAAABgQAAAAFmPAlBAAAAAAAAASUB7FK5H4XqEPwAAAAAAAGBAAAAA0qNwTkAAAAAAAABJQHsUrkfheoQ/AAAAAAAAYEAAAAB665FMQAAAAAAAAElAexSuR+F6hD8AAAAAAABgQAEAAP4oHExAAAAAAAAASUB7FK5H4XqEPwAAAAAAAGBAAAAAmsK1SkAAAAAAAABJQHsUrkfheoQ/AAAAAAAAYEAAAADazKxKQAAAAAAAAElAexSuR+F6hD8AAAAAAABgQAAAADHhekhAAAAAAAAASUB7FK5H4XqEPwAAAAAAAGBAAAAASeH6RkA=",
          "dtype": "f8",
          "shape": "10, 4"
         },
         "hovertemplate": "Temperature: %{x}<br>Metric Value: %{y}<br>Epochs: %{customdata[0]}<br>Learning Rate: %{customdata[1]}<br>Batch Size: %{customdata[2]}<br>Accuracy (T): %{customdata[3]}<extra></extra>",
         "line": {
          "dash": "dash"
         },
         "mode": "lines",
         "name": "Metrics (JSMA) S - Adversarial Robustness % (Avg Min Perturbation) (Student)",
         "showlegend": false,
         "type": "scatter",
         "x": {
          "bdata": "AAAAAAAA8D8AAAAAAAAAQAAAAAAAABRAAAAAAAAAJEAAAAAAAAA0QAAAAAAAAD5AAAAAAAAAREAAAAAAAABJQAAAAAAAwFJAAAAAAAAAWUA=",
          "dtype": "f8"
         },
         "xaxis": "x5",
         "y": {
          "bdata": "AAAAAA6KCUAAAADgxKgNQAAAAIAjPg9AAAAAYJt3EEAAAACAwY4QQAAAACBoPxBAAAAAwKflEUAAAADg9csTQAAAAGDTKBhAAAAAQHUqE0A=",
          "dtype": "f8"
         },
         "yaxis": "y5"
        },
        {
         "customdata": {
          "bdata": "AAAAAAAASUB7FK5H4XqEPwAAAAAAAGBAAAAAhcIVUUAAAAAAAABJQHsUrkfheoQ/AAAAAAAAYEAAAAAjhftQQAAAAAAAAElAexSuR+F6hD8AAAAAAABgQAAAAFmPAlBAAAAAAAAASUB7FK5H4XqEPwAAAAAAAGBAAAAA0qNwTkAAAAAAAABJQHsUrkfheoQ/AAAAAAAAYEAAAAB665FMQAAAAAAAAElAexSuR+F6hD8AAAAAAABgQAEAAP4oHExAAAAAAAAASUB7FK5H4XqEPwAAAAAAAGBAAAAAmsK1SkAAAAAAAABJQHsUrkfheoQ/AAAAAAAAYEAAAADazKxKQAAAAAAAAElAexSuR+F6hD8AAAAAAABgQAAAADHhekhAAAAAAAAASUB7FK5H4XqEPwAAAAAAAGBAAAAASeH6RkA=",
          "dtype": "f8",
          "shape": "10, 4"
         },
         "hovertemplate": "Temperature: %{x}<br>Metric Value: %{y}<br>Epochs: %{customdata[0]}<br>Learning Rate: %{customdata[1]}<br>Batch Size: %{customdata[2]}<br>Accuracy (T): %{customdata[3]}<extra></extra>",
         "line": {
          "dash": "solid"
         },
         "mode": "lines",
         "name": "Metrics (JSMA) - Adversarial Confidence (Teacher)",
         "showlegend": false,
         "type": "scatter",
         "x": {
          "bdata": "AAAAAAAA8D8AAAAAAAAAQAAAAAAAABRAAAAAAAAAJEAAAAAAAAA0QAAAAAAAAD5AAAAAAAAAREAAAAAAAABJQAAAAAAAwFJAAAAAAAAAWUA=",
          "dtype": "f8"
         },
         "xaxis": "x9",
         "y": {
          "bdata": "AAAAZQhHREAAAABK+QxJQAAAACCnw09AAAAASsmoUUAAAAA9bn1TQAAAAIzLAlRAAAAAH6+4VEAAAABSGFNVQAAAADGhCVVAAAAAP8hCVUA=",
          "dtype": "f8"
         },
         "yaxis": "y9"
        },
        {
         "customdata": {
          "bdata": "AAAAAAAASUB7FK5H4XqEPwAAAAAAAGBAAAAAhcIVUUAAAAAAAABJQHsUrkfheoQ/AAAAAAAAYEAAAAAjhftQQAAAAAAAAElAexSuR+F6hD8AAAAAAABgQAAAAFmPAlBAAAAAAAAASUB7FK5H4XqEPwAAAAAAAGBAAAAA0qNwTkAAAAAAAABJQHsUrkfheoQ/AAAAAAAAYEAAAAB665FMQAAAAAAAAElAexSuR+F6hD8AAAAAAABgQAEAAP4oHExAAAAAAAAASUB7FK5H4XqEPwAAAAAAAGBAAAAAmsK1SkAAAAAAAABJQHsUrkfheoQ/AAAAAAAAYEAAAADazKxKQAAAAAAAAElAexSuR+F6hD8AAAAAAABgQAAAADHhekhAAAAAAAAASUB7FK5H4XqEPwAAAAAAAGBAAAAASeH6RkA=",
          "dtype": "f8",
          "shape": "10, 4"
         },
         "hovertemplate": "Temperature: %{x}<br>Metric Value: %{y}<br>Epochs: %{customdata[0]}<br>Learning Rate: %{customdata[1]}<br>Batch Size: %{customdata[2]}<br>Accuracy (T): %{customdata[3]}<extra></extra>",
         "line": {
          "dash": "dash"
         },
         "mode": "lines",
         "name": "Metrics (JSMA) S - Adversarial Confidence (Student)",
         "showlegend": false,
         "type": "scatter",
         "x": {
          "bdata": "AAAAAAAA8D8AAAAAAAAAQAAAAAAAABRAAAAAAAAAJEAAAAAAAAA0QAAAAAAAAD5AAAAAAAAAREAAAAAAAABJQAAAAAAAwFJAAAAAAAAAWUA=",
          "dtype": "f8"
         },
         "xaxis": "x9",
         "y": {
          "bdata": "AAAArBdgKEAAAAAaM3gsQAAAALqOSThAAAAAQZfaQEAAAADryahFQAAAgB/kCElAAAAAQJhnSkAAAABuilBLQAAAAEgym0xAAAAAZrmTT0A=",
          "dtype": "f8"
         },
         "yaxis": "y9"
        },
        {
         "customdata": {
          "bdata": "AAAAAAAASUB7FK5H4XqEPwAAAAAAAGBAAAAAhcIVUUAAAAAAAABJQHsUrkfheoQ/AAAAAAAAYEAAAAAjhftQQAAAAAAAAElAexSuR+F6hD8AAAAAAABgQAAAAFmPAlBAAAAAAAAASUB7FK5H4XqEPwAAAAAAAGBAAAAA0qNwTkAAAAAAAABJQHsUrkfheoQ/AAAAAAAAYEAAAAB665FMQAAAAAAAAElAexSuR+F6hD8AAAAAAABgQAEAAP4oHExAAAAAAAAASUB7FK5H4XqEPwAAAAAAAGBAAAAAmsK1SkAAAAAAAABJQHsUrkfheoQ/AAAAAAAAYEAAAADazKxKQAAAAAAAAElAexSuR+F6hD8AAAAAAABgQAAAADHhekhAAAAAAAAASUB7FK5H4XqEPwAAAAAAAGBAAAAASeH6RkA=",
          "dtype": "f8",
          "shape": "10, 4"
         },
         "hovertemplate": "Temperature: %{x}<br>Metric Value: %{y}<br>Epochs: %{customdata[0]}<br>Learning Rate: %{customdata[1]}<br>Batch Size: %{customdata[2]}<br>Accuracy (T): %{customdata[3]}<extra></extra>",
         "line": {
          "dash": "solid"
         },
         "mode": "lines",
         "name": "Metrics (FSGM) - Adversarial Success Rate (Teacher)",
         "showlegend": false,
         "type": "scatter",
         "x": {
          "bdata": "AAAAAAAA8D8AAAAAAAAAQAAAAAAAABRAAAAAAAAAJEAAAAAAAAA0QAAAAAAAAD5AAAAAAAAAREAAAAAAAABJQAAAAAAAwFJAAAAAAAAAWUA=",
          "dtype": "f8"
         },
         "xaxis": "x2",
         "y": {
          "bdata": "AAAAAACAU0AAAAAAAIBRQAAAAAAAQFJAAAAAAACASUAAAAAAAIBFQAAAAAAAgEZAAAAAAAAARUABAAAAAAA8QAAAAAAAADpAAAAAAAAAQEA=",
          "dtype": "f8"
         },
         "yaxis": "y2"
        },
        {
         "customdata": {
          "bdata": "AAAAAAAASUB7FK5H4XqEPwAAAAAAAGBAAAAAhcIVUUAAAAAAAABJQHsUrkfheoQ/AAAAAAAAYEAAAAAjhftQQAAAAAAAAElAexSuR+F6hD8AAAAAAABgQAAAAFmPAlBAAAAAAAAASUB7FK5H4XqEPwAAAAAAAGBAAAAA0qNwTkAAAAAAAABJQHsUrkfheoQ/AAAAAAAAYEAAAAB665FMQAAAAAAAAElAexSuR+F6hD8AAAAAAABgQAEAAP4oHExAAAAAAAAASUB7FK5H4XqEPwAAAAAAAGBAAAAAmsK1SkAAAAAAAABJQHsUrkfheoQ/AAAAAAAAYEAAAADazKxKQAAAAAAAAElAexSuR+F6hD8AAAAAAABgQAAAADHhekhAAAAAAAAASUB7FK5H4XqEPwAAAAAAAGBAAAAASeH6RkA=",
          "dtype": "f8",
          "shape": "10, 4"
         },
         "hovertemplate": "Temperature: %{x}<br>Metric Value: %{y}<br>Epochs: %{customdata[0]}<br>Learning Rate: %{customdata[1]}<br>Batch Size: %{customdata[2]}<br>Accuracy (T): %{customdata[3]}<extra></extra>",
         "line": {
          "dash": "dash"
         },
         "mode": "lines",
         "name": "Metrics (FSGM) S - Adversarial Success Rate (Student)",
         "showlegend": false,
         "type": "scatter",
         "x": {
          "bdata": "AAAAAAAA8D8AAAAAAAAAQAAAAAAAABRAAAAAAAAAJEAAAAAAAAA0QAAAAAAAAD5AAAAAAAAAREAAAAAAAABJQAAAAAAAwFJAAAAAAAAAWUA=",
          "dtype": "f8"
         },
         "xaxis": "x2",
         "y": {
          "bdata": "AAAAAACAU0AAAAAAAIBSQAAAAAAAwFJAAAAAAACAU0AAAAAAAABSQAAAAAAAYFBAAAAAAACAT0AAAAAAAIBJQAAAAAAAgElAAAAAAAAASkA=",
          "dtype": "f8"
         },
         "yaxis": "y2"
        },
        {
         "customdata": {
          "bdata": "AAAAAAAASUB7FK5H4XqEPwAAAAAAAGBAAAAAhcIVUUAAAAAAAABJQHsUrkfheoQ/AAAAAAAAYEAAAAAjhftQQAAAAAAAAElAexSuR+F6hD8AAAAAAABgQAAAAFmPAlBAAAAAAAAASUB7FK5H4XqEPwAAAAAAAGBAAAAA0qNwTkAAAAAAAABJQHsUrkfheoQ/AAAAAAAAYEAAAAB665FMQAAAAAAAAElAexSuR+F6hD8AAAAAAABgQAEAAP4oHExAAAAAAAAASUB7FK5H4XqEPwAAAAAAAGBAAAAAmsK1SkAAAAAAAABJQHsUrkfheoQ/AAAAAAAAYEAAAADazKxKQAAAAAAAAElAexSuR+F6hD8AAAAAAABgQAAAADHhekhAAAAAAAAASUB7FK5H4XqEPwAAAAAAAGBAAAAASeH6RkA=",
          "dtype": "f8",
          "shape": "10, 4"
         },
         "hovertemplate": "Temperature: %{x}<br>Metric Value: %{y}<br>Epochs: %{customdata[0]}<br>Learning Rate: %{customdata[1]}<br>Batch Size: %{customdata[2]}<br>Accuracy (T): %{customdata[3]}<extra></extra>",
         "line": {
          "dash": "solid"
         },
         "mode": "lines",
         "name": "Metrics (FSGM) - Adversarial Robustness % (Avg Min Perturbation) (Teacher)",
         "showlegend": false,
         "type": "scatter",
         "x": {
          "bdata": "AAAAAAAA8D8AAAAAAAAAQAAAAAAAABRAAAAAAAAAJEAAAAAAAAA0QAAAAAAAAD5AAAAAAAAAREAAAAAAAABJQAAAAAAAwFJAAAAAAAAAWUA=",
          "dtype": "f8"
         },
         "xaxis": "x6",
         "y": {
          "bdata": "AAAAAOLaFUAAAACADKQVQAAAAODFbRVAAAAAQBjdE0AAAACAqzoSQAAAAMC+UhJAAAAAoFr/EkAAAADgDRoRQAAAAIAe+BBAAAAAACkwEkA=",
          "dtype": "f8"
         },
         "yaxis": "y6"
        },
        {
         "customdata": {
          "bdata": "AAAAAAAASUB7FK5H4XqEPwAAAAAAAGBAAAAAhcIVUUAAAAAAAABJQHsUrkfheoQ/AAAAAAAAYEAAAAAjhftQQAAAAAAAAElAexSuR+F6hD8AAAAAAABgQAAAAFmPAlBAAAAAAAAASUB7FK5H4XqEPwAAAAAAAGBAAAAA0qNwTkAAAAAAAABJQHsUrkfheoQ/AAAAAAAAYEAAAAB665FMQAAAAAAAAElAexSuR+F6hD8AAAAAAABgQAEAAP4oHExAAAAAAAAASUB7FK5H4XqEPwAAAAAAAGBAAAAAmsK1SkAAAAAAAABJQHsUrkfheoQ/AAAAAAAAYEAAAADazKxKQAAAAAAAAElAexSuR+F6hD8AAAAAAABgQAAAADHhekhAAAAAAAAASUB7FK5H4XqEPwAAAAAAAGBAAAAASeH6RkA=",
          "dtype": "f8",
          "shape": "10, 4"
         },
         "hovertemplate": "Temperature: %{x}<br>Metric Value: %{y}<br>Epochs: %{customdata[0]}<br>Learning Rate: %{customdata[1]}<br>Batch Size: %{customdata[2]}<br>Accuracy (T): %{customdata[3]}<extra></extra>",
         "line": {
          "dash": "dash"
         },
         "mode": "lines",
         "name": "Metrics (FSGM) S - Adversarial Robustness % (Avg Min Perturbation) (Student)",
         "showlegend": false,
         "type": "scatter",
         "x": {
          "bdata": "AAAAAAAA8D8AAAAAAAAAQAAAAAAAABRAAAAAAAAAJEAAAAAAAAA0QAAAAAAAAD5AAAAAAAAAREAAAAAAAABJQAAAAAAAwFJAAAAAAAAAWUA=",
          "dtype": "f8"
         },
         "xaxis": "x6",
         "y": {
          "bdata": "AAAAgKqlFUAAAACgnooWQAAAAAD3PBZAAAAAQPoAFkAAAACArCoWQAAAADDH1RVAAAAAwI/aFUAAAADADqAVQAAAAMB8nhVAAAAAwHWjFUA=",
          "dtype": "f8"
         },
         "yaxis": "y6"
        },
        {
         "customdata": {
          "bdata": "AAAAAAAASUB7FK5H4XqEPwAAAAAAAGBAAAAAhcIVUUAAAAAAAABJQHsUrkfheoQ/AAAAAAAAYEAAAAAjhftQQAAAAAAAAElAexSuR+F6hD8AAAAAAABgQAAAAFmPAlBAAAAAAAAASUB7FK5H4XqEPwAAAAAAAGBAAAAA0qNwTkAAAAAAAABJQHsUrkfheoQ/AAAAAAAAYEAAAAB665FMQAAAAAAAAElAexSuR+F6hD8AAAAAAABgQAEAAP4oHExAAAAAAAAASUB7FK5H4XqEPwAAAAAAAGBAAAAAmsK1SkAAAAAAAABJQHsUrkfheoQ/AAAAAAAAYEAAAADazKxKQAAAAAAAAElAexSuR+F6hD8AAAAAAABgQAAAADHhekhAAAAAAAAASUB7FK5H4XqEPwAAAAAAAGBAAAAASeH6RkA=",
          "dtype": "f8",
          "shape": "10, 4"
         },
         "hovertemplate": "Temperature: %{x}<br>Metric Value: %{y}<br>Epochs: %{customdata[0]}<br>Learning Rate: %{customdata[1]}<br>Batch Size: %{customdata[2]}<br>Accuracy (T): %{customdata[3]}<extra></extra>",
         "line": {
          "dash": "solid"
         },
         "mode": "lines",
         "name": "Metrics (FSGM) - Adversarial Confidence (Teacher)",
         "showlegend": false,
         "type": "scatter",
         "x": {
          "bdata": "AAAAAAAA8D8AAAAAAAAAQAAAAAAAABRAAAAAAAAAJEAAAAAAAAA0QAAAAAAAAD5AAAAAAAAAREAAAAAAAABJQAAAAAAAwFJAAAAAAAAAWUA=",
          "dtype": "f8"
         },
         "xaxis": "x10",
         "y": {
          "bdata": "AAAAluSIVUAAAABONptXQAAAAPHbsFhAAAAAQy7BWEAAAADtNN5YQAAAgFiA41hAAAAA99riWEAAAAC6/vZYQAAAALWH+lhAAAAAtf//WEA=",
          "dtype": "f8"
         },
         "yaxis": "y10"
        },
        {
         "customdata": {
          "bdata": "AAAAAAAASUB7FK5H4XqEPwAAAAAAAGBAAAAAhcIVUUAAAAAAAABJQHsUrkfheoQ/AAAAAAAAYEAAAAAjhftQQAAAAAAAAElAexSuR+F6hD8AAAAAAABgQAAAAFmPAlBAAAAAAAAASUB7FK5H4XqEPwAAAAAAAGBAAAAA0qNwTkAAAAAAAABJQHsUrkfheoQ/AAAAAAAAYEAAAAB665FMQAAAAAAAAElAexSuR+F6hD8AAAAAAABgQAEAAP4oHExAAAAAAAAASUB7FK5H4XqEPwAAAAAAAGBAAAAAmsK1SkAAAAAAAABJQHsUrkfheoQ/AAAAAAAAYEAAAADazKxKQAAAAAAAAElAexSuR+F6hD8AAAAAAABgQAAAADHhekhAAAAAAAAASUB7FK5H4XqEPwAAAAAAAGBAAAAASeH6RkA=",
          "dtype": "f8",
          "shape": "10, 4"
         },
         "hovertemplate": "Temperature: %{x}<br>Metric Value: %{y}<br>Epochs: %{customdata[0]}<br>Learning Rate: %{customdata[1]}<br>Batch Size: %{customdata[2]}<br>Accuracy (T): %{customdata[3]}<extra></extra>",
         "line": {
          "dash": "dash"
         },
         "mode": "lines",
         "name": "Metrics (FSGM) S - Adversarial Confidence (Student)",
         "showlegend": false,
         "type": "scatter",
         "x": {
          "bdata": "AAAAAAAA8D8AAAAAAAAAQAAAAAAAABRAAAAAAAAAJEAAAAAAAAA0QAAAAAAAAD5AAAAAAAAAREAAAAAAAABJQAAAAAAAwFJAAAAAAAAAWUA=",
          "dtype": "f8"
         },
         "xaxis": "x10",
         "y": {
          "bdata": "AAAAMGoqM0AAAAAwSjw8QAAAAMIyS1BAAAAALZFtVUAAAACtmYNXQAAAgDCcBFhAAAAAglxFWEAAAAD45PpYQAAAAPze1FhAAAAAAcTHWEA=",
          "dtype": "f8"
         },
         "yaxis": "y10"
        },
        {
         "customdata": {
          "bdata": "AAAAAAAASUB7FK5H4XqEPwAAAAAAAGBAAAAAhcIVUUAAAAAAAABJQHsUrkfheoQ/AAAAAAAAYEAAAAAjhftQQAAAAAAAAElAexSuR+F6hD8AAAAAAABgQAAAAFmPAlBAAAAAAAAASUB7FK5H4XqEPwAAAAAAAGBAAAAA0qNwTkAAAAAAAABJQHsUrkfheoQ/AAAAAAAAYEAAAAB665FMQAAAAAAAAElAexSuR+F6hD8AAAAAAABgQAEAAP4oHExAAAAAAAAASUB7FK5H4XqEPwAAAAAAAGBAAAAAmsK1SkAAAAAAAABJQHsUrkfheoQ/AAAAAAAAYEAAAADazKxKQAAAAAAAAElAexSuR+F6hD8AAAAAAABgQAAAADHhekhAAAAAAAAASUB7FK5H4XqEPwAAAAAAAGBAAAAASeH6RkA=",
          "dtype": "f8",
          "shape": "10, 4"
         },
         "hovertemplate": "Temperature: %{x}<br>Metric Value: %{y}<br>Epochs: %{customdata[0]}<br>Learning Rate: %{customdata[1]}<br>Batch Size: %{customdata[2]}<br>Accuracy (T): %{customdata[3]}<extra></extra>",
         "line": {
          "dash": "solid"
         },
         "mode": "lines",
         "name": "Metrics (DeepFool) - Adversarial Success Rate (Teacher)",
         "showlegend": false,
         "type": "scatter",
         "x": {
          "bdata": "AAAAAAAA8D8AAAAAAAAAQAAAAAAAABRAAAAAAAAAJEAAAAAAAAA0QAAAAAAAAD5AAAAAAAAAREAAAAAAAABJQAAAAAAAwFJAAAAAAAAAWUA=",
          "dtype": "f8"
         },
         "xaxis": "x3",
         "y": {
          "bdata": "AAAAAACAWEAAAAAAAMBYQAAAAAAAAFlAAAAAAAAAWUAAAAAAAABZQAAAAAAAwFhAAAAAAADAWEAAAAAAAABZQAAAAAAAwFhAAAAAAADAWEA=",
          "dtype": "f8"
         },
         "yaxis": "y3"
        },
        {
         "customdata": {
          "bdata": "AAAAAAAASUB7FK5H4XqEPwAAAAAAAGBAAAAAhcIVUUAAAAAAAABJQHsUrkfheoQ/AAAAAAAAYEAAAAAjhftQQAAAAAAAAElAexSuR+F6hD8AAAAAAABgQAAAAFmPAlBAAAAAAAAASUB7FK5H4XqEPwAAAAAAAGBAAAAA0qNwTkAAAAAAAABJQHsUrkfheoQ/AAAAAAAAYEAAAAB665FMQAAAAAAAAElAexSuR+F6hD8AAAAAAABgQAEAAP4oHExAAAAAAAAASUB7FK5H4XqEPwAAAAAAAGBAAAAAmsK1SkAAAAAAAABJQHsUrkfheoQ/AAAAAAAAYEAAAADazKxKQAAAAAAAAElAexSuR+F6hD8AAAAAAABgQAAAADHhekhAAAAAAAAASUB7FK5H4XqEPwAAAAAAAGBAAAAASeH6RkA=",
          "dtype": "f8",
          "shape": "10, 4"
         },
         "hovertemplate": "Temperature: %{x}<br>Metric Value: %{y}<br>Epochs: %{customdata[0]}<br>Learning Rate: %{customdata[1]}<br>Batch Size: %{customdata[2]}<br>Accuracy (T): %{customdata[3]}<extra></extra>",
         "line": {
          "dash": "dash"
         },
         "mode": "lines",
         "name": "Metrics (DeepFool) S - Adversarial Success Rate (Student)",
         "showlegend": false,
         "type": "scatter",
         "x": {
          "bdata": "AAAAAAAA8D8AAAAAAAAAQAAAAAAAABRAAAAAAAAAJEAAAAAAAAA0QAAAAAAAAD5AAAAAAAAAREAAAAAAAABJQAAAAAAAwFJAAAAAAAAAWUA=",
          "dtype": "f8"
         },
         "xaxis": "x3",
         "y": {
          "bdata": "AAAAAAAAWUAAAAAAAABZQAAAAAAAAFlAAAAAAAAAWUAAAAAAAABZQAAAAAAAoFhAAAAAAAAAWUAAAAAAAABZQAAAAAAAAFlAAAAAAAAAWUA=",
          "dtype": "f8"
         },
         "yaxis": "y3"
        },
        {
         "customdata": {
          "bdata": "AAAAAAAASUB7FK5H4XqEPwAAAAAAAGBAAAAAhcIVUUAAAAAAAABJQHsUrkfheoQ/AAAAAAAAYEAAAAAjhftQQAAAAAAAAElAexSuR+F6hD8AAAAAAABgQAAAAFmPAlBAAAAAAAAASUB7FK5H4XqEPwAAAAAAAGBAAAAA0qNwTkAAAAAAAABJQHsUrkfheoQ/AAAAAAAAYEAAAAB665FMQAAAAAAAAElAexSuR+F6hD8AAAAAAABgQAEAAP4oHExAAAAAAAAASUB7FK5H4XqEPwAAAAAAAGBAAAAAmsK1SkAAAAAAAABJQHsUrkfheoQ/AAAAAAAAYEAAAADazKxKQAAAAAAAAElAexSuR+F6hD8AAAAAAABgQAAAADHhekhAAAAAAAAASUB7FK5H4XqEPwAAAAAAAGBAAAAASeH6RkA=",
          "dtype": "f8",
          "shape": "10, 4"
         },
         "hovertemplate": "Temperature: %{x}<br>Metric Value: %{y}<br>Epochs: %{customdata[0]}<br>Learning Rate: %{customdata[1]}<br>Batch Size: %{customdata[2]}<br>Accuracy (T): %{customdata[3]}<extra></extra>",
         "line": {
          "dash": "solid"
         },
         "mode": "lines",
         "name": "Metrics (DeepFool) - Adversarial Robustness % (Avg Min Perturbation) (Teacher)",
         "showlegend": false,
         "type": "scatter",
         "x": {
          "bdata": "AAAAAAAA8D8AAAAAAAAAQAAAAAAAABRAAAAAAAAAJEAAAAAAAAA0QAAAAAAAAD5AAAAAAAAAREAAAAAAAABJQAAAAAAAwFJAAAAAAAAAWUA=",
          "dtype": "f8"
         },
         "xaxis": "x7",
         "y": {
          "bdata": "AAAAABvJyT8AAAAg9LHIPwAAAOBY+8s/AAAAIMR/zj8AAAAATjnOPwAAAIAhts0/AAAAoL7iyz8AAABAonnPPwAAAGBD5tM/AAAAYMeM0j8=",
          "dtype": "f8"
         },
         "yaxis": "y7"
        },
        {
         "customdata": {
          "bdata": "AAAAAAAASUB7FK5H4XqEPwAAAAAAAGBAAAAAhcIVUUAAAAAAAABJQHsUrkfheoQ/AAAAAAAAYEAAAAAjhftQQAAAAAAAAElAexSuR+F6hD8AAAAAAABgQAAAAFmPAlBAAAAAAAAASUB7FK5H4XqEPwAAAAAAAGBAAAAA0qNwTkAAAAAAAABJQHsUrkfheoQ/AAAAAAAAYEAAAAB665FMQAAAAAAAAElAexSuR+F6hD8AAAAAAABgQAEAAP4oHExAAAAAAAAASUB7FK5H4XqEPwAAAAAAAGBAAAAAmsK1SkAAAAAAAABJQHsUrkfheoQ/AAAAAAAAYEAAAADazKxKQAAAAAAAAElAexSuR+F6hD8AAAAAAABgQAAAADHhekhAAAAAAAAASUB7FK5H4XqEPwAAAAAAAGBAAAAASeH6RkA=",
          "dtype": "f8",
          "shape": "10, 4"
         },
         "hovertemplate": "Temperature: %{x}<br>Metric Value: %{y}<br>Epochs: %{customdata[0]}<br>Learning Rate: %{customdata[1]}<br>Batch Size: %{customdata[2]}<br>Accuracy (T): %{customdata[3]}<extra></extra>",
         "line": {
          "dash": "dash"
         },
         "mode": "lines",
         "name": "Metrics (DeepFool) S - Adversarial Robustness % (Avg Min Perturbation) (Student)",
         "showlegend": false,
         "type": "scatter",
         "x": {
          "bdata": "AAAAAAAA8D8AAAAAAAAAQAAAAAAAABRAAAAAAAAAJEAAAAAAAAA0QAAAAAAAAD5AAAAAAAAAREAAAAAAAABJQAAAAAAAwFJAAAAAAAAAWUA=",
          "dtype": "f8"
         },
         "xaxis": "x7",
         "y": {
          "bdata": "AAAAgCqKzT8AAAAge9bOPwAAAMB4J9E/AAAAQO13zD8AAADAZxPQPwAAADCx7NA/AAAAgEKI1D8AAABgeY7UPwAAACCVUuA/AAAA4BAB3j8=",
          "dtype": "f8"
         },
         "yaxis": "y7"
        },
        {
         "customdata": {
          "bdata": "AAAAAAAASUB7FK5H4XqEPwAAAAAAAGBAAAAAhcIVUUAAAAAAAABJQHsUrkfheoQ/AAAAAAAAYEAAAAAjhftQQAAAAAAAAElAexSuR+F6hD8AAAAAAABgQAAAAFmPAlBAAAAAAAAASUB7FK5H4XqEPwAAAAAAAGBAAAAA0qNwTkAAAAAAAABJQHsUrkfheoQ/AAAAAAAAYEAAAAB665FMQAAAAAAAAElAexSuR+F6hD8AAAAAAABgQAEAAP4oHExAAAAAAAAASUB7FK5H4XqEPwAAAAAAAGBAAAAAmsK1SkAAAAAAAABJQHsUrkfheoQ/AAAAAAAAYEAAAADazKxKQAAAAAAAAElAexSuR+F6hD8AAAAAAABgQAAAADHhekhAAAAAAAAASUB7FK5H4XqEPwAAAAAAAGBAAAAASeH6RkA=",
          "dtype": "f8",
          "shape": "10, 4"
         },
         "hovertemplate": "Temperature: %{x}<br>Metric Value: %{y}<br>Epochs: %{customdata[0]}<br>Learning Rate: %{customdata[1]}<br>Batch Size: %{customdata[2]}<br>Accuracy (T): %{customdata[3]}<extra></extra>",
         "line": {
          "dash": "solid"
         },
         "mode": "lines",
         "name": "Metrics (DeepFool) - Adversarial Confidence (Teacher)",
         "showlegend": false,
         "type": "scatter",
         "x": {
          "bdata": "AAAAAAAA8D8AAAAAAAAAQAAAAAAAABRAAAAAAAAAJEAAAAAAAAA0QAAAAAAAAD5AAAAAAAAAREAAAAAAAABJQAAAAAAAwFJAAAAAAAAAWUA=",
          "dtype": "f8"
         },
         "xaxis": "x11",
         "y": {
          "bdata": "AAAAAVV1RkAAAAB6v3ZIQAAAAGIgh0lAAAAAxIx8SUAAAAAod9NJQAAAAH4w3EpAAAAAvMONSkAAAAAqfcVKQAAAAMSLU0tAAAAAEF3MS0A=",
          "dtype": "f8"
         },
         "yaxis": "y11"
        },
        {
         "customdata": {
          "bdata": "AAAAAAAASUB7FK5H4XqEPwAAAAAAAGBAAAAAhcIVUUAAAAAAAABJQHsUrkfheoQ/AAAAAAAAYEAAAAAjhftQQAAAAAAAAElAexSuR+F6hD8AAAAAAABgQAAAAFmPAlBAAAAAAAAASUB7FK5H4XqEPwAAAAAAAGBAAAAA0qNwTkAAAAAAAABJQHsUrkfheoQ/AAAAAAAAYEAAAAB665FMQAAAAAAAAElAexSuR+F6hD8AAAAAAABgQAEAAP4oHExAAAAAAAAASUB7FK5H4XqEPwAAAAAAAGBAAAAAmsK1SkAAAAAAAABJQHsUrkfheoQ/AAAAAAAAYEAAAADazKxKQAAAAAAAAElAexSuR+F6hD8AAAAAAABgQAAAADHhekhAAAAAAAAASUB7FK5H4XqEPwAAAAAAAGBAAAAASeH6RkA=",
          "dtype": "f8",
          "shape": "10, 4"
         },
         "hovertemplate": "Temperature: %{x}<br>Metric Value: %{y}<br>Epochs: %{customdata[0]}<br>Learning Rate: %{customdata[1]}<br>Batch Size: %{customdata[2]}<br>Accuracy (T): %{customdata[3]}<extra></extra>",
         "line": {
          "dash": "dash"
         },
         "mode": "lines",
         "name": "Metrics (DeepFool) S - Adversarial Confidence (Student)",
         "showlegend": false,
         "type": "scatter",
         "x": {
          "bdata": "AAAAAAAA8D8AAAAAAAAAQAAAAAAAABRAAAAAAAAAJEAAAAAAAAA0QAAAAAAAAD5AAAAAAAAAREAAAAAAAABJQAAAAAAAwFJAAAAAAAAAWUA=",
          "dtype": "f8"
         },
         "xaxis": "x11",
         "y": {
          "bdata": "AAAAout7KUAAAADmooouQAAAACyARztAAAAAnd+5REAAAAAr9K9HQAAAAGVMJklAAAAAfoh6SkAAAADkHIVKQAAAAF5GkUpAAAAApPu7TEA=",
          "dtype": "f8"
         },
         "yaxis": "y11"
        },
        {
         "customdata": {
          "bdata": "AAAAAAAASUB7FK5H4XqEPwAAAAAAAGBAAAAAhcIVUUAAAAAAAABJQHsUrkfheoQ/AAAAAAAAYEAAAAAjhftQQAAAAAAAAElAexSuR+F6hD8AAAAAAABgQAAAAFmPAlBAAAAAAAAASUB7FK5H4XqEPwAAAAAAAGBAAAAA0qNwTkAAAAAAAABJQHsUrkfheoQ/AAAAAAAAYEAAAAB665FMQAAAAAAAAElAexSuR+F6hD8AAAAAAABgQAEAAP4oHExAAAAAAAAASUB7FK5H4XqEPwAAAAAAAGBAAAAAmsK1SkAAAAAAAABJQHsUrkfheoQ/AAAAAAAAYEAAAADazKxKQAAAAAAAAElAexSuR+F6hD8AAAAAAABgQAAAADHhekhAAAAAAAAASUB7FK5H4XqEPwAAAAAAAGBAAAAASeH6RkA=",
          "dtype": "f8",
          "shape": "10, 4"
         },
         "hovertemplate": "Temperature: %{x}<br>Metric Value: %{y}<br>Epochs: %{customdata[0]}<br>Learning Rate: %{customdata[1]}<br>Batch Size: %{customdata[2]}<br>Accuracy (T): %{customdata[3]}<extra></extra>",
         "line": {
          "dash": "solid"
         },
         "mode": "lines",
         "name": "Metrics (Pixel) - Adversarial Success Rate (Teacher)",
         "showlegend": false,
         "type": "scatter",
         "x": {
          "bdata": "AAAAAAAA8D8AAAAAAAAAQAAAAAAAABRAAAAAAAAAJEAAAAAAAAA0QAAAAAAAAD5AAAAAAAAAREAAAAAAAABJQAAAAAAAwFJAAAAAAAAAWUA=",
          "dtype": "f8"
         },
         "xaxis": "x4",
         "y": {
          "bdata": "AAAAAAAASkAAAAAAAABIQAAAAAAAgEZAAAAAAACAQEAAAAAAAAA3QAAAAAAAAEBA////////PEAAAAAAAAA0QAAAAAAAADNAAAAAAAAAM0A=",
          "dtype": "f8"
         },
         "yaxis": "y4"
        },
        {
         "customdata": {
          "bdata": "AAAAAAAASUB7FK5H4XqEPwAAAAAAAGBAAAAAhcIVUUAAAAAAAABJQHsUrkfheoQ/AAAAAAAAYEAAAAAjhftQQAAAAAAAAElAexSuR+F6hD8AAAAAAABgQAAAAFmPAlBAAAAAAAAASUB7FK5H4XqEPwAAAAAAAGBAAAAA0qNwTkAAAAAAAABJQHsUrkfheoQ/AAAAAAAAYEAAAAB665FMQAAAAAAAAElAexSuR+F6hD8AAAAAAABgQAEAAP4oHExAAAAAAAAASUB7FK5H4XqEPwAAAAAAAGBAAAAAmsK1SkAAAAAAAABJQHsUrkfheoQ/AAAAAAAAYEAAAADazKxKQAAAAAAAAElAexSuR+F6hD8AAAAAAABgQAAAADHhekhAAAAAAAAASUB7FK5H4XqEPwAAAAAAAGBAAAAASeH6RkA=",
          "dtype": "f8",
          "shape": "10, 4"
         },
         "hovertemplate": "Temperature: %{x}<br>Metric Value: %{y}<br>Epochs: %{customdata[0]}<br>Learning Rate: %{customdata[1]}<br>Batch Size: %{customdata[2]}<br>Accuracy (T): %{customdata[3]}<extra></extra>",
         "line": {
          "dash": "dash"
         },
         "mode": "lines",
         "name": "Metrics (Pixel) S - Adversarial Success Rate (Student)",
         "showlegend": false,
         "type": "scatter",
         "x": {
          "bdata": "AAAAAAAA8D8AAAAAAAAAQAAAAAAAABRAAAAAAAAAJEAAAAAAAAA0QAAAAAAAAD5AAAAAAAAAREAAAAAAAABJQAAAAAAAwFJAAAAAAAAAWUA=",
          "dtype": "f8"
         },
         "xaxis": "x4",
         "y": {
          "bdata": "AAAAAACAQEAAAAAAAIBDQAAAAAAAAEBAAAAAAAAAREAAAAAAAABFQAAAAAAAAEVAAAAAAAAAQ0AAAAAAAAA+QAAAAAAAADVAAAAAAAAANEA=",
          "dtype": "f8"
         },
         "yaxis": "y4"
        },
        {
         "customdata": {
          "bdata": "AAAAAAAASUB7FK5H4XqEPwAAAAAAAGBAAAAAhcIVUUAAAAAAAABJQHsUrkfheoQ/AAAAAAAAYEAAAAAjhftQQAAAAAAAAElAexSuR+F6hD8AAAAAAABgQAAAAFmPAlBAAAAAAAAASUB7FK5H4XqEPwAAAAAAAGBAAAAA0qNwTkAAAAAAAABJQHsUrkfheoQ/AAAAAAAAYEAAAAB665FMQAAAAAAAAElAexSuR+F6hD8AAAAAAABgQAEAAP4oHExAAAAAAAAASUB7FK5H4XqEPwAAAAAAAGBAAAAAmsK1SkAAAAAAAABJQHsUrkfheoQ/AAAAAAAAYEAAAADazKxKQAAAAAAAAElAexSuR+F6hD8AAAAAAABgQAAAADHhekhAAAAAAAAASUB7FK5H4XqEPwAAAAAAAGBAAAAASeH6RkA=",
          "dtype": "f8",
          "shape": "10, 4"
         },
         "hovertemplate": "Temperature: %{x}<br>Metric Value: %{y}<br>Epochs: %{customdata[0]}<br>Learning Rate: %{customdata[1]}<br>Batch Size: %{customdata[2]}<br>Accuracy (T): %{customdata[3]}<extra></extra>",
         "line": {
          "dash": "solid"
         },
         "mode": "lines",
         "name": "Metrics (Pixel) - Adversarial Robustness % (Avg Min Perturbation) (Teacher)",
         "showlegend": false,
         "type": "scatter",
         "x": {
          "bdata": "AAAAAAAA8D8AAAAAAAAAQAAAAAAAABRAAAAAAAAAJEAAAAAAAAA0QAAAAAAAAD5AAAAAAAAAREAAAAAAAABJQAAAAAAAwFJAAAAAAAAAWUA=",
          "dtype": "f8"
         },
         "xaxis": "x8",
         "y": {
          "bdata": "AAAA4H2k9j8AAABACI33PwAAAACGyPU/AAAAICWE9T8AAAAg34/yPwAAAPDlMfQ/AAAAYOYR9D8AAABAoCb0PwAAACB3jfQ/AAAAwPaE9D8=",
          "dtype": "f8"
         },
         "yaxis": "y8"
        },
        {
         "customdata": {
          "bdata": "AAAAAAAASUB7FK5H4XqEPwAAAAAAAGBAAAAAhcIVUUAAAAAAAABJQHsUrkfheoQ/AAAAAAAAYEAAAAAjhftQQAAAAAAAAElAexSuR+F6hD8AAAAAAABgQAAAAFmPAlBAAAAAAAAASUB7FK5H4XqEPwAAAAAAAGBAAAAA0qNwTkAAAAAAAABJQHsUrkfheoQ/AAAAAAAAYEAAAAB665FMQAAAAAAAAElAexSuR+F6hD8AAAAAAABgQAEAAP4oHExAAAAAAAAASUB7FK5H4XqEPwAAAAAAAGBAAAAAmsK1SkAAAAAAAABJQHsUrkfheoQ/AAAAAAAAYEAAAADazKxKQAAAAAAAAElAexSuR+F6hD8AAAAAAABgQAAAADHhekhAAAAAAAAASUB7FK5H4XqEPwAAAAAAAGBAAAAASeH6RkA=",
          "dtype": "f8",
          "shape": "10, 4"
         },
         "hovertemplate": "Temperature: %{x}<br>Metric Value: %{y}<br>Epochs: %{customdata[0]}<br>Learning Rate: %{customdata[1]}<br>Batch Size: %{customdata[2]}<br>Accuracy (T): %{customdata[3]}<extra></extra>",
         "line": {
          "dash": "dash"
         },
         "mode": "lines",
         "name": "Metrics (Pixel) S - Adversarial Robustness % (Avg Min Perturbation) (Student)",
         "showlegend": false,
         "type": "scatter",
         "x": {
          "bdata": "AAAAAAAA8D8AAAAAAAAAQAAAAAAAABRAAAAAAAAAJEAAAAAAAAA0QAAAAAAAAD5AAAAAAAAAREAAAAAAAABJQAAAAAAAwFJAAAAAAAAAWUA=",
          "dtype": "f8"
         },
         "xaxis": "x8",
         "y": {
          "bdata": "AAAAoP8Q9T8AAABAlEX1PwAAAEDGA/Y/AAAAIGS69z8AAACAoof3PwAAAFDBA/c/AAAAQD579z8AAADgAvL2PwAAAIDjIvc/AAAAAPiE9T8=",
          "dtype": "f8"
         },
         "yaxis": "y8"
        },
        {
         "customdata": {
          "bdata": "AAAAAAAASUB7FK5H4XqEPwAAAAAAAGBAAAAAhcIVUUAAAAAAAABJQHsUrkfheoQ/AAAAAAAAYEAAAAAjhftQQAAAAAAAAElAexSuR+F6hD8AAAAAAABgQAAAAFmPAlBAAAAAAAAASUB7FK5H4XqEPwAAAAAAAGBAAAAA0qNwTkAAAAAAAABJQHsUrkfheoQ/AAAAAAAAYEAAAAB665FMQAAAAAAAAElAexSuR+F6hD8AAAAAAABgQAEAAP4oHExAAAAAAAAASUB7FK5H4XqEPwAAAAAAAGBAAAAAmsK1SkAAAAAAAABJQHsUrkfheoQ/AAAAAAAAYEAAAADazKxKQAAAAAAAAElAexSuR+F6hD8AAAAAAABgQAAAADHhekhAAAAAAAAASUB7FK5H4XqEPwAAAAAAAGBAAAAASeH6RkA=",
          "dtype": "f8",
          "shape": "10, 4"
         },
         "hovertemplate": "Temperature: %{x}<br>Metric Value: %{y}<br>Epochs: %{customdata[0]}<br>Learning Rate: %{customdata[1]}<br>Batch Size: %{customdata[2]}<br>Accuracy (T): %{customdata[3]}<extra></extra>",
         "line": {
          "dash": "solid"
         },
         "mode": "lines",
         "name": "Metrics (Pixel) - Adversarial Confidence (Teacher)",
         "showlegend": false,
         "type": "scatter",
         "x": {
          "bdata": "AAAAAAAA8D8AAAAAAAAAQAAAAAAAABRAAAAAAAAAJEAAAAAAAAA0QAAAAAAAAD5AAAAAAAAAREAAAAAAAABJQAAAAAAAwFJAAAAAAAAAWUA=",
          "dtype": "f8"
         },
         "xaxis": "x12",
         "y": {
          "bdata": "AAAAf9j5UkAAAAA7KCJWQAAAAN5pm1dAAAAAEJVmV0AAAAByOr1YQAAAgJ8HnVhAAAAALx/kWEAAAAA8qslYQAAAALFL4FhAAAAAuyu6WEA=",
          "dtype": "f8"
         },
         "yaxis": "y12"
        },
        {
         "customdata": {
          "bdata": "AAAAAAAASUB7FK5H4XqEPwAAAAAAAGBAAAAAhcIVUUAAAAAAAABJQHsUrkfheoQ/AAAAAAAAYEAAAAAjhftQQAAAAAAAAElAexSuR+F6hD8AAAAAAABgQAAAAFmPAlBAAAAAAAAASUB7FK5H4XqEPwAAAAAAAGBAAAAA0qNwTkAAAAAAAABJQHsUrkfheoQ/AAAAAAAAYEAAAAB665FMQAAAAAAAAElAexSuR+F6hD8AAAAAAABgQAEAAP4oHExAAAAAAAAASUB7FK5H4XqEPwAAAAAAAGBAAAAAmsK1SkAAAAAAAABJQHsUrkfheoQ/AAAAAAAAYEAAAADazKxKQAAAAAAAAElAexSuR+F6hD8AAAAAAABgQAAAADHhekhAAAAAAAAASUB7FK5H4XqEPwAAAAAAAGBAAAAASeH6RkA=",
          "dtype": "f8",
          "shape": "10, 4"
         },
         "hovertemplate": "Temperature: %{x}<br>Metric Value: %{y}<br>Epochs: %{customdata[0]}<br>Learning Rate: %{customdata[1]}<br>Batch Size: %{customdata[2]}<br>Accuracy (T): %{customdata[3]}<extra></extra>",
         "line": {
          "dash": "dash"
         },
         "mode": "lines",
         "name": "Metrics (Pixel) S - Adversarial Confidence (Student)",
         "showlegend": false,
         "type": "scatter",
         "x": {
          "bdata": "AAAAAAAA8D8AAAAAAAAAQAAAAAAAABRAAAAAAAAAJEAAAAAAAAA0QAAAAAAAAD5AAAAAAAAAREAAAAAAAABJQAAAAAAAwFJAAAAAAAAAWUA=",
          "dtype": "f8"
         },
         "xaxis": "x12",
         "y": {
          "bdata": "AAAAuvz8LkAAAAD2c601QAAAAHZ6LEpAAAAAFBaTUEAAAADBvWJUQAAAgAaUH1ZAAAAAsW+CVkAAAACr+BJXQAAAAJfKmldAAAAA+hqgWEA=",
          "dtype": "f8"
         },
         "yaxis": "y12"
        }
       ],
       "layout": {
        "annotations": [
         {
          "font": {
           "size": 16
          },
          "showarrow": false,
          "text": "Metrics (JSMA)<br>Adversarial Success Rate",
          "x": 0.10625,
          "xanchor": "center",
          "xref": "paper",
          "y": 1,
          "yanchor": "bottom",
          "yref": "paper"
         },
         {
          "font": {
           "size": 16
          },
          "showarrow": false,
          "text": "Metrics (JSMA)<br>Adversarial Robustness % (Avg Min Perturbation)",
          "x": 0.36875,
          "xanchor": "center",
          "xref": "paper",
          "y": 1,
          "yanchor": "bottom",
          "yref": "paper"
         },
         {
          "font": {
           "size": 16
          },
          "showarrow": false,
          "text": "Metrics (JSMA)<br>Adversarial Confidence",
          "x": 0.6312500000000001,
          "xanchor": "center",
          "xref": "paper",
          "y": 1,
          "yanchor": "bottom",
          "yref": "paper"
         },
         {
          "font": {
           "size": 16
          },
          "showarrow": false,
          "text": "Metrics (FSGM)<br>Adversarial Success Rate",
          "x": 0.89375,
          "xanchor": "center",
          "xref": "paper",
          "y": 1,
          "yanchor": "bottom",
          "yref": "paper"
         },
         {
          "font": {
           "size": 16
          },
          "showarrow": false,
          "text": "Metrics (FSGM)<br>Adversarial Robustness % (Avg Min Perturbation)",
          "x": 0.10625,
          "xanchor": "center",
          "xref": "paper",
          "y": 0.6111111111111112,
          "yanchor": "bottom",
          "yref": "paper"
         },
         {
          "font": {
           "size": 16
          },
          "showarrow": false,
          "text": "Metrics (FSGM)<br>Adversarial Confidence",
          "x": 0.36875,
          "xanchor": "center",
          "xref": "paper",
          "y": 0.6111111111111112,
          "yanchor": "bottom",
          "yref": "paper"
         },
         {
          "font": {
           "size": 16
          },
          "showarrow": false,
          "text": "Metrics (DeepFool)<br>Adversarial Success Rate",
          "x": 0.6312500000000001,
          "xanchor": "center",
          "xref": "paper",
          "y": 0.6111111111111112,
          "yanchor": "bottom",
          "yref": "paper"
         },
         {
          "font": {
           "size": 16
          },
          "showarrow": false,
          "text": "Metrics (DeepFool)<br>Adversarial Robustness % (Avg Min Perturbation)",
          "x": 0.89375,
          "xanchor": "center",
          "xref": "paper",
          "y": 0.6111111111111112,
          "yanchor": "bottom",
          "yref": "paper"
         },
         {
          "font": {
           "size": 16
          },
          "showarrow": false,
          "text": "Metrics (DeepFool)<br>Adversarial Confidence",
          "x": 0.10625,
          "xanchor": "center",
          "xref": "paper",
          "y": 0.22222222222222224,
          "yanchor": "bottom",
          "yref": "paper"
         },
         {
          "font": {
           "size": 16
          },
          "showarrow": false,
          "text": "Metrics (Pixel)<br>Adversarial Success Rate",
          "x": 0.36875,
          "xanchor": "center",
          "xref": "paper",
          "y": 0.22222222222222224,
          "yanchor": "bottom",
          "yref": "paper"
         },
         {
          "font": {
           "size": 16
          },
          "showarrow": false,
          "text": "Metrics (Pixel)<br>Adversarial Robustness % (Avg Min Perturbation)",
          "x": 0.6312500000000001,
          "xanchor": "center",
          "xref": "paper",
          "y": 0.22222222222222224,
          "yanchor": "bottom",
          "yref": "paper"
         },
         {
          "font": {
           "size": 16
          },
          "showarrow": false,
          "text": "Metrics (Pixel)<br>Adversarial Confidence",
          "x": 0.89375,
          "xanchor": "center",
          "xref": "paper",
          "y": 0.22222222222222224,
          "yanchor": "bottom",
          "yref": "paper"
         }
        ],
        "height": 900,
        "template": {
         "data": {
          "bar": [
           {
            "error_x": {
             "color": "#2a3f5f"
            },
            "error_y": {
             "color": "#2a3f5f"
            },
            "marker": {
             "line": {
              "color": "#E5ECF6",
              "width": 0.5
             },
             "pattern": {
              "fillmode": "overlay",
              "size": 10,
              "solidity": 0.2
             }
            },
            "type": "bar"
           }
          ],
          "barpolar": [
           {
            "marker": {
             "line": {
              "color": "#E5ECF6",
              "width": 0.5
             },
             "pattern": {
              "fillmode": "overlay",
              "size": 10,
              "solidity": 0.2
             }
            },
            "type": "barpolar"
           }
          ],
          "carpet": [
           {
            "aaxis": {
             "endlinecolor": "#2a3f5f",
             "gridcolor": "white",
             "linecolor": "white",
             "minorgridcolor": "white",
             "startlinecolor": "#2a3f5f"
            },
            "baxis": {
             "endlinecolor": "#2a3f5f",
             "gridcolor": "white",
             "linecolor": "white",
             "minorgridcolor": "white",
             "startlinecolor": "#2a3f5f"
            },
            "type": "carpet"
           }
          ],
          "choropleth": [
           {
            "colorbar": {
             "outlinewidth": 0,
             "ticks": ""
            },
            "type": "choropleth"
           }
          ],
          "contour": [
           {
            "colorbar": {
             "outlinewidth": 0,
             "ticks": ""
            },
            "colorscale": [
             [
              0,
              "#0d0887"
             ],
             [
              0.1111111111111111,
              "#46039f"
             ],
             [
              0.2222222222222222,
              "#7201a8"
             ],
             [
              0.3333333333333333,
              "#9c179e"
             ],
             [
              0.4444444444444444,
              "#bd3786"
             ],
             [
              0.5555555555555556,
              "#d8576b"
             ],
             [
              0.6666666666666666,
              "#ed7953"
             ],
             [
              0.7777777777777778,
              "#fb9f3a"
             ],
             [
              0.8888888888888888,
              "#fdca26"
             ],
             [
              1,
              "#f0f921"
             ]
            ],
            "type": "contour"
           }
          ],
          "contourcarpet": [
           {
            "colorbar": {
             "outlinewidth": 0,
             "ticks": ""
            },
            "type": "contourcarpet"
           }
          ],
          "heatmap": [
           {
            "colorbar": {
             "outlinewidth": 0,
             "ticks": ""
            },
            "colorscale": [
             [
              0,
              "#0d0887"
             ],
             [
              0.1111111111111111,
              "#46039f"
             ],
             [
              0.2222222222222222,
              "#7201a8"
             ],
             [
              0.3333333333333333,
              "#9c179e"
             ],
             [
              0.4444444444444444,
              "#bd3786"
             ],
             [
              0.5555555555555556,
              "#d8576b"
             ],
             [
              0.6666666666666666,
              "#ed7953"
             ],
             [
              0.7777777777777778,
              "#fb9f3a"
             ],
             [
              0.8888888888888888,
              "#fdca26"
             ],
             [
              1,
              "#f0f921"
             ]
            ],
            "type": "heatmap"
           }
          ],
          "histogram": [
           {
            "marker": {
             "pattern": {
              "fillmode": "overlay",
              "size": 10,
              "solidity": 0.2
             }
            },
            "type": "histogram"
           }
          ],
          "histogram2d": [
           {
            "colorbar": {
             "outlinewidth": 0,
             "ticks": ""
            },
            "colorscale": [
             [
              0,
              "#0d0887"
             ],
             [
              0.1111111111111111,
              "#46039f"
             ],
             [
              0.2222222222222222,
              "#7201a8"
             ],
             [
              0.3333333333333333,
              "#9c179e"
             ],
             [
              0.4444444444444444,
              "#bd3786"
             ],
             [
              0.5555555555555556,
              "#d8576b"
             ],
             [
              0.6666666666666666,
              "#ed7953"
             ],
             [
              0.7777777777777778,
              "#fb9f3a"
             ],
             [
              0.8888888888888888,
              "#fdca26"
             ],
             [
              1,
              "#f0f921"
             ]
            ],
            "type": "histogram2d"
           }
          ],
          "histogram2dcontour": [
           {
            "colorbar": {
             "outlinewidth": 0,
             "ticks": ""
            },
            "colorscale": [
             [
              0,
              "#0d0887"
             ],
             [
              0.1111111111111111,
              "#46039f"
             ],
             [
              0.2222222222222222,
              "#7201a8"
             ],
             [
              0.3333333333333333,
              "#9c179e"
             ],
             [
              0.4444444444444444,
              "#bd3786"
             ],
             [
              0.5555555555555556,
              "#d8576b"
             ],
             [
              0.6666666666666666,
              "#ed7953"
             ],
             [
              0.7777777777777778,
              "#fb9f3a"
             ],
             [
              0.8888888888888888,
              "#fdca26"
             ],
             [
              1,
              "#f0f921"
             ]
            ],
            "type": "histogram2dcontour"
           }
          ],
          "mesh3d": [
           {
            "colorbar": {
             "outlinewidth": 0,
             "ticks": ""
            },
            "type": "mesh3d"
           }
          ],
          "parcoords": [
           {
            "line": {
             "colorbar": {
              "outlinewidth": 0,
              "ticks": ""
             }
            },
            "type": "parcoords"
           }
          ],
          "pie": [
           {
            "automargin": true,
            "type": "pie"
           }
          ],
          "scatter": [
           {
            "fillpattern": {
             "fillmode": "overlay",
             "size": 10,
             "solidity": 0.2
            },
            "type": "scatter"
           }
          ],
          "scatter3d": [
           {
            "line": {
             "colorbar": {
              "outlinewidth": 0,
              "ticks": ""
             }
            },
            "marker": {
             "colorbar": {
              "outlinewidth": 0,
              "ticks": ""
             }
            },
            "type": "scatter3d"
           }
          ],
          "scattercarpet": [
           {
            "marker": {
             "colorbar": {
              "outlinewidth": 0,
              "ticks": ""
             }
            },
            "type": "scattercarpet"
           }
          ],
          "scattergeo": [
           {
            "marker": {
             "colorbar": {
              "outlinewidth": 0,
              "ticks": ""
             }
            },
            "type": "scattergeo"
           }
          ],
          "scattergl": [
           {
            "marker": {
             "colorbar": {
              "outlinewidth": 0,
              "ticks": ""
             }
            },
            "type": "scattergl"
           }
          ],
          "scattermap": [
           {
            "marker": {
             "colorbar": {
              "outlinewidth": 0,
              "ticks": ""
             }
            },
            "type": "scattermap"
           }
          ],
          "scattermapbox": [
           {
            "marker": {
             "colorbar": {
              "outlinewidth": 0,
              "ticks": ""
             }
            },
            "type": "scattermapbox"
           }
          ],
          "scatterpolar": [
           {
            "marker": {
             "colorbar": {
              "outlinewidth": 0,
              "ticks": ""
             }
            },
            "type": "scatterpolar"
           }
          ],
          "scatterpolargl": [
           {
            "marker": {
             "colorbar": {
              "outlinewidth": 0,
              "ticks": ""
             }
            },
            "type": "scatterpolargl"
           }
          ],
          "scatterternary": [
           {
            "marker": {
             "colorbar": {
              "outlinewidth": 0,
              "ticks": ""
             }
            },
            "type": "scatterternary"
           }
          ],
          "surface": [
           {
            "colorbar": {
             "outlinewidth": 0,
             "ticks": ""
            },
            "colorscale": [
             [
              0,
              "#0d0887"
             ],
             [
              0.1111111111111111,
              "#46039f"
             ],
             [
              0.2222222222222222,
              "#7201a8"
             ],
             [
              0.3333333333333333,
              "#9c179e"
             ],
             [
              0.4444444444444444,
              "#bd3786"
             ],
             [
              0.5555555555555556,
              "#d8576b"
             ],
             [
              0.6666666666666666,
              "#ed7953"
             ],
             [
              0.7777777777777778,
              "#fb9f3a"
             ],
             [
              0.8888888888888888,
              "#fdca26"
             ],
             [
              1,
              "#f0f921"
             ]
            ],
            "type": "surface"
           }
          ],
          "table": [
           {
            "cells": {
             "fill": {
              "color": "#EBF0F8"
             },
             "line": {
              "color": "white"
             }
            },
            "header": {
             "fill": {
              "color": "#C8D4E3"
             },
             "line": {
              "color": "white"
             }
            },
            "type": "table"
           }
          ]
         },
         "layout": {
          "annotationdefaults": {
           "arrowcolor": "#2a3f5f",
           "arrowhead": 0,
           "arrowwidth": 1
          },
          "autotypenumbers": "strict",
          "coloraxis": {
           "colorbar": {
            "outlinewidth": 0,
            "ticks": ""
           }
          },
          "colorscale": {
           "diverging": [
            [
             0,
             "#8e0152"
            ],
            [
             0.1,
             "#c51b7d"
            ],
            [
             0.2,
             "#de77ae"
            ],
            [
             0.3,
             "#f1b6da"
            ],
            [
             0.4,
             "#fde0ef"
            ],
            [
             0.5,
             "#f7f7f7"
            ],
            [
             0.6,
             "#e6f5d0"
            ],
            [
             0.7,
             "#b8e186"
            ],
            [
             0.8,
             "#7fbc41"
            ],
            [
             0.9,
             "#4d9221"
            ],
            [
             1,
             "#276419"
            ]
           ],
           "sequential": [
            [
             0,
             "#0d0887"
            ],
            [
             0.1111111111111111,
             "#46039f"
            ],
            [
             0.2222222222222222,
             "#7201a8"
            ],
            [
             0.3333333333333333,
             "#9c179e"
            ],
            [
             0.4444444444444444,
             "#bd3786"
            ],
            [
             0.5555555555555556,
             "#d8576b"
            ],
            [
             0.6666666666666666,
             "#ed7953"
            ],
            [
             0.7777777777777778,
             "#fb9f3a"
            ],
            [
             0.8888888888888888,
             "#fdca26"
            ],
            [
             1,
             "#f0f921"
            ]
           ],
           "sequentialminus": [
            [
             0,
             "#0d0887"
            ],
            [
             0.1111111111111111,
             "#46039f"
            ],
            [
             0.2222222222222222,
             "#7201a8"
            ],
            [
             0.3333333333333333,
             "#9c179e"
            ],
            [
             0.4444444444444444,
             "#bd3786"
            ],
            [
             0.5555555555555556,
             "#d8576b"
            ],
            [
             0.6666666666666666,
             "#ed7953"
            ],
            [
             0.7777777777777778,
             "#fb9f3a"
            ],
            [
             0.8888888888888888,
             "#fdca26"
            ],
            [
             1,
             "#f0f921"
            ]
           ]
          },
          "colorway": [
           "#636efa",
           "#EF553B",
           "#00cc96",
           "#ab63fa",
           "#FFA15A",
           "#19d3f3",
           "#FF6692",
           "#B6E880",
           "#FF97FF",
           "#FECB52"
          ],
          "font": {
           "color": "#2a3f5f"
          },
          "geo": {
           "bgcolor": "white",
           "lakecolor": "white",
           "landcolor": "#E5ECF6",
           "showlakes": true,
           "showland": true,
           "subunitcolor": "white"
          },
          "hoverlabel": {
           "align": "left"
          },
          "hovermode": "closest",
          "mapbox": {
           "style": "light"
          },
          "paper_bgcolor": "white",
          "plot_bgcolor": "#E5ECF6",
          "polar": {
           "angularaxis": {
            "gridcolor": "white",
            "linecolor": "white",
            "ticks": ""
           },
           "bgcolor": "#E5ECF6",
           "radialaxis": {
            "gridcolor": "white",
            "linecolor": "white",
            "ticks": ""
           }
          },
          "scene": {
           "xaxis": {
            "backgroundcolor": "#E5ECF6",
            "gridcolor": "white",
            "gridwidth": 2,
            "linecolor": "white",
            "showbackground": true,
            "ticks": "",
            "zerolinecolor": "white"
           },
           "yaxis": {
            "backgroundcolor": "#E5ECF6",
            "gridcolor": "white",
            "gridwidth": 2,
            "linecolor": "white",
            "showbackground": true,
            "ticks": "",
            "zerolinecolor": "white"
           },
           "zaxis": {
            "backgroundcolor": "#E5ECF6",
            "gridcolor": "white",
            "gridwidth": 2,
            "linecolor": "white",
            "showbackground": true,
            "ticks": "",
            "zerolinecolor": "white"
           }
          },
          "shapedefaults": {
           "line": {
            "color": "#2a3f5f"
           }
          },
          "ternary": {
           "aaxis": {
            "gridcolor": "white",
            "linecolor": "white",
            "ticks": ""
           },
           "baxis": {
            "gridcolor": "white",
            "linecolor": "white",
            "ticks": ""
           },
           "bgcolor": "#E5ECF6",
           "caxis": {
            "gridcolor": "white",
            "linecolor": "white",
            "ticks": ""
           }
          },
          "title": {
           "x": 0.05
          },
          "xaxis": {
           "automargin": true,
           "gridcolor": "white",
           "linecolor": "white",
           "ticks": "",
           "title": {
            "standoff": 15
           },
           "zerolinecolor": "white",
           "zerolinewidth": 2
          },
          "yaxis": {
           "automargin": true,
           "gridcolor": "white",
           "linecolor": "white",
           "ticks": "",
           "title": {
            "standoff": 15
           },
           "zerolinecolor": "white",
           "zerolinewidth": 2
          }
         }
        },
        "title": {
         "text": "Averaged Teacher vs. Student Metrics vs. Temperature"
        },
        "width": 1400,
        "xaxis": {
         "anchor": "y",
         "domain": [
          0,
          0.2125
         ],
         "title": {
          "text": "Temperature"
         }
        },
        "xaxis10": {
         "anchor": "y10",
         "domain": [
          0.2625,
          0.475
         ],
         "title": {
          "text": "Temperature"
         }
        },
        "xaxis11": {
         "anchor": "y11",
         "domain": [
          0.525,
          0.7375
         ],
         "title": {
          "text": "Temperature"
         }
        },
        "xaxis12": {
         "anchor": "y12",
         "domain": [
          0.7875,
          1
         ],
         "title": {
          "text": "Temperature"
         }
        },
        "xaxis2": {
         "anchor": "y2",
         "domain": [
          0.2625,
          0.475
         ],
         "title": {
          "text": "Temperature"
         }
        },
        "xaxis3": {
         "anchor": "y3",
         "domain": [
          0.525,
          0.7375
         ],
         "title": {
          "text": "Temperature"
         }
        },
        "xaxis4": {
         "anchor": "y4",
         "domain": [
          0.7875,
          1
         ],
         "title": {
          "text": "Temperature"
         }
        },
        "xaxis5": {
         "anchor": "y5",
         "domain": [
          0,
          0.2125
         ],
         "title": {
          "text": "Temperature"
         }
        },
        "xaxis6": {
         "anchor": "y6",
         "domain": [
          0.2625,
          0.475
         ],
         "title": {
          "text": "Temperature"
         }
        },
        "xaxis7": {
         "anchor": "y7",
         "domain": [
          0.525,
          0.7375
         ],
         "title": {
          "text": "Temperature"
         }
        },
        "xaxis8": {
         "anchor": "y8",
         "domain": [
          0.7875,
          1
         ],
         "title": {
          "text": "Temperature"
         }
        },
        "xaxis9": {
         "anchor": "y9",
         "domain": [
          0,
          0.2125
         ],
         "title": {
          "text": "Temperature"
         }
        },
        "yaxis": {
         "anchor": "x",
         "domain": [
          0.7777777777777778,
          1
         ],
         "title": {
          "text": "Metric Value"
         }
        },
        "yaxis10": {
         "anchor": "x10",
         "domain": [
          0,
          0.22222222222222224
         ],
         "title": {
          "text": "Metric Value"
         }
        },
        "yaxis11": {
         "anchor": "x11",
         "domain": [
          0,
          0.22222222222222224
         ],
         "title": {
          "text": "Metric Value"
         }
        },
        "yaxis12": {
         "anchor": "x12",
         "domain": [
          0,
          0.22222222222222224
         ],
         "title": {
          "text": "Metric Value"
         }
        },
        "yaxis2": {
         "anchor": "x2",
         "domain": [
          0.7777777777777778,
          1
         ],
         "title": {
          "text": "Metric Value"
         }
        },
        "yaxis3": {
         "anchor": "x3",
         "domain": [
          0.7777777777777778,
          1
         ],
         "title": {
          "text": "Metric Value"
         }
        },
        "yaxis4": {
         "anchor": "x4",
         "domain": [
          0.7777777777777778,
          1
         ],
         "title": {
          "text": "Metric Value"
         }
        },
        "yaxis5": {
         "anchor": "x5",
         "domain": [
          0.3888888888888889,
          0.6111111111111112
         ],
         "title": {
          "text": "Metric Value"
         }
        },
        "yaxis6": {
         "anchor": "x6",
         "domain": [
          0.3888888888888889,
          0.6111111111111112
         ],
         "title": {
          "text": "Metric Value"
         }
        },
        "yaxis7": {
         "anchor": "x7",
         "domain": [
          0.3888888888888889,
          0.6111111111111112
         ],
         "title": {
          "text": "Metric Value"
         }
        },
        "yaxis8": {
         "anchor": "x8",
         "domain": [
          0.3888888888888889,
          0.6111111111111112
         ],
         "title": {
          "text": "Metric Value"
         }
        },
        "yaxis9": {
         "anchor": "x9",
         "domain": [
          0,
          0.22222222222222224
         ],
         "title": {
          "text": "Metric Value"
         }
        }
       }
      }
     },
     "metadata": {},
     "output_type": "display_data"
    }
   ],
   "source": [
    "# Determine the list of metric keys from teacher columns (assumed identical for student)\n",
    "metric_keys = []\n",
    "for col in teacher_eval_cols:\n",
    "    valid_rows = df[col].apply(lambda x: isinstance(x, dict) and bool(x))\n",
    "    if valid_rows.any():\n",
    "        sample_dict = df[col][valid_rows].iloc[0]\n",
    "        metric_keys = list(sample_dict.keys())\n",
    "        break\n",
    "        \n",
    "if not metric_keys:\n",
    "    print(\"No metric keys found in teacher evaluation columns. Exiting.\")\n",
    "    \n",
    "\n",
    "# Create safe versions of the metric keys (for naming new columns)\n",
    "safe_metric_keys = [re.sub(r'\\W+', '_', key).strip('_') for key in metric_keys]\n",
    "\n",
    "# -- Group by Temperature --\n",
    "# Grouping the data by Temperature (averaging all numeric columns) to avoid duplicate points.\n",
    "# First, select numeric columns (including our new teacher/student metric columns and custom columns).\n",
    "numeric_cols = df.select_dtypes(include=['float64', 'int64']).columns\n",
    "df_grouped = df.groupby(\"Temperature\", as_index=False)[numeric_cols].mean()\n",
    "df_grouped = df_grouped.sort_values(\"Temperature\")\n",
    "\n",
    "# Use the grouped dataframe for subsequent plotting.\n",
    "df = df_grouped\n",
    "\n",
    "# Setup grid dimensions:\n",
    "# Rows represent each metric key and columns represent each evaluation method (JSMA, FSGM, DeepFool, Pixel).\n",
    "n_rows = len(metric_keys)\n",
    "n_cols = len(teacher_eval_cols)\n",
    "\n",
    "# Create subplot titles for the grid.\n",
    "subplot_titles = []\n",
    "for eval_col in teacher_eval_cols:\n",
    "    for metric in metric_keys:\n",
    "        subplot_titles.append(f\"{eval_col}<br>{metric}\")\n",
    "\n",
    "# Create the Plotly subplot grid.\n",
    "fig = make_subplots(rows=n_rows, cols=n_cols, subplot_titles=subplot_titles)\n",
    "\n",
    "# Define additional columns to show in hover info.\n",
    "custom_columns = [\"Epochs\", \"Learning Rate\", \"Batch Size\", \"Accuracy (T)\"]\n",
    "custom_data = df[custom_columns].values\n",
    "\n",
    "# For each evaluation method and metric key, add teacher and student line plot traces.\n",
    "for col_idx, (teach_col, stud_col) in enumerate(zip(teacher_eval_cols, student_eval_cols)):\n",
    "    for row_idx, (metric, safe_metric) in enumerate(zip(metric_keys, safe_metric_keys)):\n",
    "        teacher_new_col = f\"{teach_col}_{safe_metric}\"\n",
    "        student_new_col = f\"{stud_col}_{safe_metric}\"\n",
    "        if teacher_new_col not in df.columns:\n",
    "            print(f\"Column {teacher_new_col} not found in dataframe.\")\n",
    "            continue\n",
    "        if student_new_col not in df.columns:\n",
    "            print(f\"Column {student_new_col} not found in dataframe.\")\n",
    "            continue\n",
    "        # Teacher trace (solid line)\n",
    "        fig.add_trace(\n",
    "            go.Scatter(\n",
    "                x=df[\"Temperature\"],\n",
    "                y=df[teacher_new_col],\n",
    "                mode='lines',\n",
    "                name=f\"{teach_col} - {metric} (Teacher)\",\n",
    "                customdata=custom_data,\n",
    "                hovertemplate=(\n",
    "                    \"Temperature: %{x}<br>\" +\n",
    "                    \"Metric Value: %{y}<br>\" +\n",
    "                    \"Epochs: %{customdata[0]}<br>\" +\n",
    "                    \"Learning Rate: %{customdata[1]}<br>\" +\n",
    "                    \"Batch Size: %{customdata[2]}<br>\" +\n",
    "                    \"Accuracy (T): %{customdata[3]}<extra></extra>\"\n",
    "                ),\n",
    "                line=dict(dash=\"solid\"),\n",
    "                showlegend=False\n",
    "            ),\n",
    "            row=row_idx+1, col=col_idx+1\n",
    "        )\n",
    "        # Student trace (dashed line)\n",
    "        fig.add_trace(\n",
    "            go.Scatter(\n",
    "                x=df[\"Temperature\"],\n",
    "                y=df[student_new_col],\n",
    "                mode='lines',\n",
    "                name=f\"{stud_col} - {metric} (Student)\",\n",
    "                customdata=custom_data,\n",
    "                hovertemplate=(\n",
    "                    \"Temperature: %{x}<br>\" +\n",
    "                    \"Metric Value: %{y}<br>\" +\n",
    "                    \"Epochs: %{customdata[0]}<br>\" +\n",
    "                    \"Learning Rate: %{customdata[1]}<br>\" +\n",
    "                    \"Batch Size: %{customdata[2]}<br>\" +\n",
    "                    \"Accuracy (T): %{customdata[3]}<extra></extra>\"\n",
    "                ),\n",
    "                line=dict(dash=\"dash\"),\n",
    "                showlegend=False\n",
    "            ),\n",
    "            row=row_idx+1, col=col_idx+1\n",
    "        )\n",
    "\n",
    "# Layout settings for the entire grid.\n",
    "fig.update_layout(\n",
    "    height=300 * n_rows,\n",
    "    width=350 * n_cols,\n",
    "    title_text=\"Averaged Teacher vs. Student Metrics vs. Temperature\"\n",
    ")\n",
    "fig.update_xaxes(title_text=\"Temperature\")\n",
    "fig.update_yaxes(title_text=\"Metric Value\")\n",
    "\n",
    "# Display the interactive Plotly figure.\n",
    "fig.show()"
   ]
  }
 ],
 "metadata": {
  "kernelspec": {
   "display_name": "Python 3",
   "language": "python",
   "name": "python3"
  },
  "language_info": {
   "codemirror_mode": {
    "name": "ipython",
    "version": 3
   },
   "file_extension": ".py",
   "mimetype": "text/x-python",
   "name": "python",
   "nbconvert_exporter": "python",
   "pygments_lexer": "ipython3",
   "version": "3.12.8"
  }
 },
 "nbformat": 4,
 "nbformat_minor": 5
}
