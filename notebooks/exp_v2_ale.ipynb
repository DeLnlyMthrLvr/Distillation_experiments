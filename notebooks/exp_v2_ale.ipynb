{
 "cells": [
  {
   "cell_type": "code",
   "execution_count": 1,
   "metadata": {},
   "outputs": [],
   "source": [
    "import torch\n",
    "import torch.nn as nn\n",
    "from torchvision import datasets, transforms, utils\n",
    "from tqdm import tqdm\n",
    "import matplotlib.pyplot as plt\n",
    "import numpy as np\n",
    "import torch.nn.functional as F\n",
    "import ssl\n",
    "\n",
    "ssl._create_default_https_context = ssl._create_stdlib_context"
   ]
  },
  {
   "cell_type": "code",
   "execution_count": 2,
   "metadata": {},
   "outputs": [],
   "source": [
    "from pathlib import Path\n",
    "\n",
    "dt_p = Path('data/mnist')\n",
    "\n",
    "\n",
    "batch_size = 128\n",
    "n_channels, w, h = 1, 28, 28\n",
    "\n",
    "\n",
    "classes = ('plane', 'car', 'bird', 'cat',\n",
    "           'deer', 'dog', 'frog', 'horse', 'ship', 'truck')\n",
    "\n",
    "n_labels = len(classes)\n",
    "\n",
    "\n",
    "transform = transforms.Compose(\n",
    "    [transforms.ToTensor()])\n",
    "\n",
    "    #  transforms.Normalize((0.5, 0.5, 0.5), (0.5, 0.5, 0.5))\n",
    "\n",
    "\n",
    "trainset = datasets.MNIST(root=f'{dt_p.absolute()}/train', train=True,\n",
    "                                        download=True, transform=transform)\n",
    "trainloader = torch.utils.data.DataLoader(trainset, batch_size=batch_size,\n",
    "                                          shuffle=True)\n",
    "testset = datasets.MNIST(root=f'{dt_p.absolute()}/test', train=False,\n",
    "                                       download=True, transform=transform)\n",
    "testloader = torch.utils.data.DataLoader(testset, batch_size=batch_size,\n",
    "                                         shuffle=False)\n",
    "\n"
   ]
  },
  {
   "cell_type": "code",
   "execution_count": 3,
   "metadata": {},
   "outputs": [
    {
     "name": "stdout",
     "output_type": "stream",
     "text": [
      "Playing on mps\n"
     ]
    }
   ],
   "source": [
    "\n",
    "# model = nn.Sequential(\n",
    "#     nn.Conv2d(\n",
    "#         in_channels=3,\n",
    "#         out_channels=6,\n",
    "#         kernel_size=5\n",
    "#     ),\n",
    "#     nn.LeakyReLU(),\n",
    "#      nn.Conv2d(\n",
    "#         in_channels=6,\n",
    "#         out_channels=16,\n",
    "#         kernel_size=5\n",
    "#     ),\n",
    "#     nn.LeakyReLU(),\n",
    "#      nn.Conv2d(\n",
    "#         in_channels=16,\n",
    "#         out_channels=16,\n",
    "#         kernel_size=5\n",
    "#     ),\n",
    "#     nn.LeakyReLU(),\n",
    "#     nn.Flatten(1),\n",
    "#     nn.Linear(\n",
    "#         5*5*16*16,\n",
    "#         256),\n",
    "#     nn.Linear(\n",
    "#         256,\n",
    "#         n_labels),\n",
    "#     nn.Softmax(dim=1)\n",
    "# )\n",
    "\n",
    "class Net(nn.Module):\n",
    "    def __init__(self):\n",
    "        super().__init__()\n",
    "        self.conv1 = nn.Conv2d(1, 6, 4, padding=1)\n",
    "        self.conv1b = nn.Conv2d(6, 16, 3)\n",
    "        self.pool = nn.MaxPool2d(2, 2)\n",
    "        self.conv2 = nn.Conv2d(16, 32, 3)\n",
    "        self.conv2b = nn.Conv2d(32, 64, 3)\n",
    "        # self.fc1 = nn.Linear(64 * 5 * 5, 256)\n",
    "        self.fc1 = nn.Linear(1024, 256)\n",
    "        self.fc2 = nn.Linear(256, 256)\n",
    "        self.fc3 = nn.Linear(256, n_labels)\n",
    "        self.softmax = nn.Softmax(dim=1)\n",
    "        self.dropout = nn.Dropout(0.2)\n",
    "\n",
    "    def forward(self, x):\n",
    "        x = self.pool(F.leaky_relu(self.conv1b(F.leaky_relu(self.conv1(x)))))\n",
    "        x = self.pool(F.leaky_relu(self.conv2b(F.leaky_relu(self.conv2(x)))))\n",
    "        x = torch.flatten(x, 1)\n",
    "        x = F.relu(self.fc1(x))\n",
    "        x = F.relu(self.dropout(self.fc2(x)))\n",
    "        x = self.dropout(self.fc3(x))\n",
    "        return self.softmax(x)\t\n",
    "    \n",
    "device = \"cuda\" if torch.cuda.is_available() else \"mps\" if torch.backends.mps.is_available() else \"cpu\"\n",
    "print(f\"Playing on {device}\")"
   ]
  },
  {
   "cell_type": "code",
   "execution_count": null,
   "metadata": {},
   "outputs": [],
   "source": []
  },
  {
   "cell_type": "code",
   "execution_count": 4,
   "metadata": {},
   "outputs": [],
   "source": [
    "model = Net()\n",
    "model = model.to(device)\n",
    "criterion = nn.CrossEntropyLoss()\n",
    "adam = torch.optim.AdamW(model.parameters(), lr=0.001)"
   ]
  },
  {
   "cell_type": "code",
   "execution_count": 5,
   "metadata": {},
   "outputs": [
    {
     "name": "stderr",
     "output_type": "stream",
     "text": [
      "  1%|          | 1/100 [00:06<10:47,  6.54s/it]"
     ]
    },
    {
     "name": "stdout",
     "output_type": "stream",
     "text": [
      "Epoch 0: 1.5993164777755737\n"
     ]
    },
    {
     "name": "stderr",
     "output_type": "stream",
     "text": [
      " 11%|█         | 11/100 [00:57<07:34,  5.11s/it]"
     ]
    },
    {
     "name": "stdout",
     "output_type": "stream",
     "text": [
      "Epoch 10: 1.5552781820297241\n"
     ]
    },
    {
     "name": "stderr",
     "output_type": "stream",
     "text": [
      " 21%|██        | 21/100 [01:48<06:43,  5.10s/it]"
     ]
    },
    {
     "name": "stdout",
     "output_type": "stream",
     "text": [
      "Epoch 20: 1.584568977355957\n"
     ]
    },
    {
     "name": "stderr",
     "output_type": "stream",
     "text": [
      " 31%|███       | 31/100 [02:39<05:50,  5.08s/it]"
     ]
    },
    {
     "name": "stdout",
     "output_type": "stream",
     "text": [
      "Epoch 30: 1.5945957899093628\n"
     ]
    },
    {
     "name": "stderr",
     "output_type": "stream",
     "text": [
      " 41%|████      | 41/100 [03:30<05:03,  5.15s/it]"
     ]
    },
    {
     "name": "stdout",
     "output_type": "stream",
     "text": [
      "Epoch 40: 1.585985779762268\n"
     ]
    },
    {
     "name": "stderr",
     "output_type": "stream",
     "text": [
      " 51%|█████     | 51/100 [04:21<04:09,  5.09s/it]"
     ]
    },
    {
     "name": "stdout",
     "output_type": "stream",
     "text": [
      "Epoch 50: 1.6025991439819336\n"
     ]
    },
    {
     "name": "stderr",
     "output_type": "stream",
     "text": [
      " 61%|██████    | 61/100 [05:13<03:19,  5.12s/it]"
     ]
    },
    {
     "name": "stdout",
     "output_type": "stream",
     "text": [
      "Epoch 60: 1.5959734916687012\n"
     ]
    },
    {
     "name": "stderr",
     "output_type": "stream",
     "text": [
      " 71%|███████   | 71/100 [06:04<02:28,  5.12s/it]"
     ]
    },
    {
     "name": "stdout",
     "output_type": "stream",
     "text": [
      "Epoch 70: 1.6104093790054321\n"
     ]
    },
    {
     "name": "stderr",
     "output_type": "stream",
     "text": [
      " 81%|████████  | 81/100 [06:55<01:36,  5.10s/it]"
     ]
    },
    {
     "name": "stdout",
     "output_type": "stream",
     "text": [
      "Epoch 80: 1.560219407081604\n"
     ]
    },
    {
     "name": "stderr",
     "output_type": "stream",
     "text": [
      " 91%|█████████ | 91/100 [07:46<00:46,  5.11s/it]"
     ]
    },
    {
     "name": "stdout",
     "output_type": "stream",
     "text": [
      "Epoch 90: 1.6030479669570923\n"
     ]
    },
    {
     "name": "stderr",
     "output_type": "stream",
     "text": [
      "100%|██████████| 100/100 [08:32<00:00,  5.13s/it]\n"
     ]
    },
    {
     "data": {
      "image/png": "[encoded data removed]",
      "text/plain": [
       "<Figure size 640x480 with 1 Axes>"
      ]
     },
     "metadata": {},
     "output_type": "display_data"
    }
   ],
   "source": [
    "import time\n",
    "losses = []\n",
    "\n",
    "for e in tqdm(range(100)):\n",
    "    for images, labels in trainloader:\n",
    "        images = images.to(device)\n",
    "        labels = labels.to(device)\n",
    "        labels_hat_dist = model(images)\n",
    "        adam.zero_grad()\n",
    "        loss = criterion(labels_hat_dist, labels)\n",
    "        loss.backward()\n",
    "        adam.step()\n",
    "    losses.append(loss.item())\n",
    "    if e % 10 == 0:\n",
    "        print(f\"Epoch {e}: {loss.item()}\")\n",
    "\n",
    "plt.plot(losses)\n",
    "plt.show()\n",
    "\n",
    "PATH = f'models/{time.strftime(\"%m%d-%H%M%S\")}.pth'\n",
    "torch.save(model.state_dict(), PATH)\n"
   ]
  },
  {
   "cell_type": "markdown",
   "metadata": {},
   "source": [
    "## Direction Sensitivity Estimation\n",
    "This section aims to experiment with the first of the two tasks [(Papernot et al., 2016)](https://arxiv.org/abs/1511.04508): Direction Sensitivity Estimation. Given a sample $X$ we want to test a trained model $F$ on perturbated version of the sample (i.e. $\\delta X$) to find the dimensions of $X$ that will produce expected adversarial behavior (misclassification) with the *smallest* perturbation. We formalize the problem as a linear program:\n",
    "$$\\arg\\min_{\\delta X}||\\delta X|| \\text{ s.t. } F(X+\\delta X) = Y^*$$\n",
    "where $Y^*$ is the adverserial class indicator vector. Following [(Goodfellow et al., 2014)](https://arxiv.org/pdf/1412.6572) we calculate the sign of the gradient (i.e. `step = images.grad.sign()`) and after defining a perturbation of $\\delta = 0.2$ and calculate the loss for both vanilla and perturbated sample to study the loss."
   ]
  },
  {
   "cell_type": "code",
   "execution_count": 6,
   "metadata": {},
   "outputs": [
    {
     "name": "stdout",
     "output_type": "stream",
     "text": [
      "Original loss 1.5979008674621582\n",
      "Adv loss 1.6018240451812744\n"
     ]
    }
   ],
   "source": [
    "\n",
    "images, labels = next(iter(testloader))\n",
    "images = images.to(device)\n",
    "labels = labels.to(device)\n",
    "\n",
    "# Inside train loop\n",
    "images.requires_grad = True\n",
    "labels_hat_dist = model(images)\n",
    "loss = criterion(labels_hat_dist, labels)\n",
    "loss.backward()\n",
    "\n",
    "print(\"Original loss\", loss.item())\n",
    "\n",
    "\n",
    "step = images.grad.sign()\n",
    "perturbed_image = images + 0.2*step\n",
    "perturbed_image = torch.clamp(perturbed_image, 0, 1)\n",
    "\n",
    "labels_hat_dist = model(perturbed_image)\n",
    "loss = criterion(labels_hat_dist, labels)\n",
    "print(\"Adv loss\", loss.item())"
   ]
  },
  {
   "cell_type": "code",
   "execution_count": 10,
   "metadata": {},
   "outputs": [
    {
     "name": "stdout",
     "output_type": "stream",
     "text": [
      "GroundTruth:  cat   truck deer  bird  car   plane bird  horse\n",
      "Predicted:  bird  horse deer  bird  car   plane bird  horse\n",
      "Averserial:  cat   horse deer  bird  car   plane bird  horse\n",
      "Attack:  errr errr fail fail fail fail fail fail\n",
      "\n",
      "\n",
      "Delta loss: 0.019530415534973145\n",
      "\tOriginal loss: 1.6158000230789185\n",
      "\tAdversarial loss: 1.5962696075439453\n"
     ]
    },
    {
     "data": {
      "image/png": "[encoded data removed]",
      "text/plain": [
       "<Figure size 640x480 with 1 Axes>"
      ]
     },
     "metadata": {},
     "output_type": "display_data"
    }
   ],
   "source": [
    "dataiter = iter(trainloader)\n",
    "images, labels = next(dataiter)\n",
    "\n",
    "images = images / 2 + 0.5\n",
    "\n",
    "limit = 120\n",
    "\n",
    "losses = []\n",
    "\n",
    "grid = utils.make_grid(images[:(len(labels)-limit)])\n",
    "# print images\n",
    "\n",
    "gt = [f'{classes[labels[j]]:5s}'\n",
    "                              for j in range(len(labels)-(limit))]\n",
    "\n",
    "print('GroundTruth: ', ' '.join(gt))\n",
    "\n",
    "net = model\n",
    "#net.load_state_dict(torch.load(PATH, weights_only=True))\n",
    "\n",
    "images, labels = images.to(device), labels.to(device)\n",
    "\n",
    "images.requires_grad = True\n",
    "\n",
    "outputs = net(images)\n",
    "loss = criterion(outputs, labels)\n",
    "loss.backward()\n",
    "\n",
    "losses.append(loss.item())\n",
    "\n",
    "_, predicted = torch.max(outputs, 1)\n",
    "\n",
    "org = [f'{classes[predicted[j]]:5s}'\n",
    "                              for j in range(len(labels)-(limit))]\n",
    "\n",
    "print('Predicted: ', ' '.join(org))\n",
    "\n",
    "step = images.grad.sign()\n",
    "\n",
    "perturbed_image = images + 0.5*step\n",
    "perturbed_image = torch.clamp(perturbed_image, 0, 1)\n",
    "\n",
    "grid_n = utils.make_grid(perturbed_image[:(len(labels)-limit)])\n",
    "\n",
    "grod = np.concatenate((np.transpose(grid, (1, 2, 0)),np.transpose(grid_n.cpu(), (1, 2, 0))))\n",
    "# print images\n",
    "plt.imshow(grod)\n",
    "\n",
    "\n",
    "labels_hat_dist = model(perturbed_image)\n",
    "loss = criterion(labels_hat_dist, labels)\n",
    "\n",
    "losses.append(loss.item())\n",
    "\n",
    "_, predicted = torch.max(labels_hat_dist, 1)\n",
    "\n",
    "adv = [f'{classes[predicted[j]]:5s}'\n",
    "                              for j in range(len(labels)-(limit))]\n",
    "\n",
    "\n",
    "print('Averserial: ', ' '.join(adv))\n",
    "\n",
    "\n",
    "\n",
    "\n",
    "\n",
    "res = []\n",
    "for o, p, a in zip(org, gt, adv):\n",
    "    if o != p:\n",
    "        res.append('errr')\n",
    "    elif o == p and o != a:\n",
    "        res.append('succ')\n",
    "    else:\n",
    "        res.append('fail')\n",
    "\n",
    "print(f'Attack: ', ' '.join(res))\n",
    "print('\\n')\n",
    "print(f'Delta loss: {np.abs(losses[0]-losses[1])}\\n\\tOriginal loss: {losses[0]}\\n\\tAdversarial loss: {losses[1]}')"
   ]
  },
  {
   "cell_type": "code",
   "execution_count": 9,
   "metadata": {},
   "outputs": [
    {
     "name": "stderr",
     "output_type": "stream",
     "text": [
      "100%|██████████| 10/10 [00:05<00:00,  1.72it/s]"
     ]
    },
    {
     "name": "stdout",
     "output_type": "stream",
     "text": [
      "Accuracy of the network on the 10000 test images: 85.800 %\n"
     ]
    },
    {
     "name": "stderr",
     "output_type": "stream",
     "text": [
      "\n"
     ]
    }
   ],
   "source": [
    "correct = 0\n",
    "total = 0\n",
    "# since we're not training, we don't need to calculate the gradients for our outputs\n",
    "accuracies = []\n",
    "with torch.no_grad():\n",
    "    for _ in tqdm(range(10)):\n",
    "        for data in testloader:\n",
    "            images, labels = data\n",
    "            images, labels = images.to(device), labels.to(device)\n",
    "            # calculate outputs by running images through the network\n",
    "            outputs = net(images)\n",
    "            # the class with the highest energy is what we choose as prediction\n",
    "            _, predicted = torch.max(outputs, 1)\n",
    "            total += labels.size(0)\n",
    "            correct += (predicted == labels).sum().item()\n",
    "        accuracies.append(100 * correct / total)\n",
    "\n",
    "print(f'Accuracy of the network on the 10000 test images: {np.mean(accuracies):.3f} %')"
   ]
  }
 ],
 "metadata": {
  "kernelspec": {
   "display_name": ".venv",
   "language": "python",
   "name": "python3"
  },
  "language_info": {
   "codemirror_mode": {
    "name": "ipython",
    "version": 3
   },
   "file_extension": ".py",
   "mimetype": "text/x-python",
   "name": "python",
   "nbconvert_exporter": "python",
   "pygments_lexer": "ipython3",
   "version": "3.12.4"
  }
 },
 "nbformat": 4,
 "nbformat_minor": 2
}
