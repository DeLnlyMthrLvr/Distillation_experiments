{
 "cells": [
  {
   "cell_type": "code",
   "execution_count": 1,
   "metadata": {},
   "outputs": [],
   "source": [
    "import torch\n",
    "import torch.nn as nn\n",
    "from torchvision import datasets, transforms, utils\n",
    "from tqdm import tqdm\n",
    "import matplotlib.pyplot as plt\n",
    "import numpy as np\n",
    "import torch.nn.functional as F\n",
    "import ssl\n",
    "\n",
    "ssl._create_default_https_context = ssl._create_stdlib_context"
   ]
  },
  {
   "cell_type": "code",
   "execution_count": 2,
   "metadata": {},
   "outputs": [
    {
     "name": "stderr",
     "output_type": "stream",
     "text": [
      "100%|██████████| 170M/170M [00:31<00:00, 5.47MB/s] \n",
      "100%|██████████| 170M/170M [00:34<00:00, 4.88MB/s] \n"
     ]
    }
   ],
   "source": [
    "from pathlib import Path\n",
    "\n",
    "dt_p = Path('data/cifar10-32')\n",
    "\n",
    "\n",
    "batch_size = 128\n",
    "n_channels, w, h = 3, 32, 32\n",
    "\n",
    "\n",
    "classes = ('plane', 'car', 'bird', 'cat',\n",
    "           'deer', 'dog', 'frog', 'horse', 'ship', 'truck')\n",
    "\n",
    "n_labels = len(classes)\n",
    "\n",
    "\n",
    "transform = transforms.Compose(\n",
    "    [transforms.ToTensor(),\n",
    "     transforms.Normalize((0.5, 0.5, 0.5), (0.5, 0.5, 0.5))])\n",
    "\n",
    "\n",
    "trainset = datasets.CIFAR10(root=f'{dt_p.absolute()}/train', train=True,\n",
    "                                        download=True, transform=transform)\n",
    "trainloader = torch.utils.data.DataLoader(trainset, batch_size=batch_size,\n",
    "                                          shuffle=True)\n",
    "testset = datasets.CIFAR10(root=f'{dt_p.absolute()}/test', train=False,\n",
    "                                       download=True, transform=transform)\n",
    "testloader = torch.utils.data.DataLoader(testset, batch_size=batch_size,\n",
    "                                         shuffle=False)\n",
    "\n"
   ]
  },
  {
   "cell_type": "code",
   "execution_count": 3,
   "metadata": {},
   "outputs": [
    {
     "name": "stdout",
     "output_type": "stream",
     "text": [
      "Playing on mps\n"
     ]
    }
   ],
   "source": [
    "\n",
    "# model = nn.Sequential(\n",
    "#     nn.Conv2d(\n",
    "#         in_channels=3,\n",
    "#         out_channels=6,\n",
    "#         kernel_size=5\n",
    "#     ),\n",
    "#     nn.LeakyReLU(),\n",
    "#      nn.Conv2d(\n",
    "#         in_channels=6,\n",
    "#         out_channels=16,\n",
    "#         kernel_size=5\n",
    "#     ),\n",
    "#     nn.LeakyReLU(),\n",
    "#      nn.Conv2d(\n",
    "#         in_channels=16,\n",
    "#         out_channels=16,\n",
    "#         kernel_size=5\n",
    "#     ),\n",
    "#     nn.LeakyReLU(),\n",
    "#     nn.Flatten(1),\n",
    "#     nn.Linear(\n",
    "#         5*5*16*16,\n",
    "#         256),\n",
    "#     nn.Linear(\n",
    "#         256,\n",
    "#         n_labels),\n",
    "#     nn.Softmax(dim=1)\n",
    "# )\n",
    "\n",
    "class Net(nn.Module):\n",
    "    def __init__(self):\n",
    "        super().__init__()\n",
    "        self.conv1 = nn.Conv2d(3, 6, 4, padding=1)\n",
    "        self.conv1b = nn.Conv2d(6, 16, 3)\n",
    "        self.pool = nn.MaxPool2d(2, 2)\n",
    "        self.conv2 = nn.Conv2d(16, 32, 3)\n",
    "        self.conv2b = nn.Conv2d(32, 64, 3)\n",
    "        self.fc1 = nn.Linear(64 * 5 * 5, 256)\n",
    "        self.fc2 = nn.Linear(256, 256)\n",
    "        self.fc3 = nn.Linear(256, n_labels)\n",
    "        self.softmax = nn.Softmax(dim=1)\n",
    "        self.dropout = nn.Dropout(0.2)\n",
    "\n",
    "    def forward(self, x):\n",
    "        x = self.pool(F.leaky_relu(self.conv1b(F.leaky_relu(self.conv1(x)))))\n",
    "        x = self.pool(F.leaky_relu(self.conv2b(F.leaky_relu(self.conv2(x)))))\n",
    "        x = torch.flatten(x, 1)\n",
    "        x = F.relu(self.fc1(x))\n",
    "        x = F.relu(self.dropout(self.fc2(x)))\n",
    "        x = self.dropout(self.fc3(x))\n",
    "        return self.softmax(x)\t\n",
    "    \n",
    "device = \"cuda\" if torch.cuda.is_available() else \"mps\" if torch.backends.mps.is_available() else \"cpu\"\n",
    "print(f\"Playing on {device}\")"
   ]
  },
  {
   "cell_type": "code",
   "execution_count": 4,
   "metadata": {},
   "outputs": [],
   "source": [
    "model = Net()\n",
    "model = model.to(device)\n",
    "criterion = nn.CrossEntropyLoss()\n",
    "adam = torch.optim.AdamW(model.parameters(), lr=0.001)"
   ]
  },
  {
   "cell_type": "code",
   "execution_count": null,
   "metadata": {},
   "outputs": [
    {
     "name": "stderr",
     "output_type": "stream",
     "text": [
      "  0%|          | 0/200 [00:00<?, ?it/s]\n"
     ]
    },
    {
     "ename": "AssertionError",
     "evalue": "Torch not compiled with CUDA enabled",
     "output_type": "error",
     "traceback": [
      "\u001b[31m---------------------------------------------------------------------------\u001b[39m",
      "\u001b[31mAssertionError\u001b[39m                            Traceback (most recent call last)",
      "\u001b[36mCell\u001b[39m\u001b[36m \u001b[39m\u001b[32mIn[5]\u001b[39m\u001b[32m, line 6\u001b[39m\n\u001b[32m      4\u001b[39m \u001b[38;5;28;01mfor\u001b[39;00m e \u001b[38;5;129;01min\u001b[39;00m tqdm(\u001b[38;5;28mrange\u001b[39m(\u001b[32m200\u001b[39m)):\n\u001b[32m      5\u001b[39m     \u001b[38;5;28;01mfor\u001b[39;00m images, labels \u001b[38;5;129;01min\u001b[39;00m trainloader:\n\u001b[32m----> \u001b[39m\u001b[32m6\u001b[39m         images = \u001b[43mimages\u001b[49m\u001b[43m.\u001b[49m\u001b[43mto\u001b[49m\u001b[43m(\u001b[49m\u001b[33;43m\"\u001b[39;49m\u001b[33;43mcuda\u001b[39;49m\u001b[33;43m\"\u001b[39;49m\u001b[43m)\u001b[49m\n\u001b[32m      7\u001b[39m         labels = labels.to(\u001b[33m\"\u001b[39m\u001b[33mcuda\u001b[39m\u001b[33m\"\u001b[39m)\n\u001b[32m      8\u001b[39m         labels_hat_dist = model(images)\n",
      "\u001b[36mFile \u001b[39m\u001b[32m~/Dropbox/Master/Groningen/RUG/Year 1/Block 3/XAI/Distillation/Distillation_experiments/.venv/lib/python3.12/site-packages/torch/cuda/__init__.py:310\u001b[39m, in \u001b[36m_lazy_init\u001b[39m\u001b[34m()\u001b[39m\n\u001b[32m    305\u001b[39m     \u001b[38;5;28;01mraise\u001b[39;00m \u001b[38;5;167;01mRuntimeError\u001b[39;00m(\n\u001b[32m    306\u001b[39m         \u001b[33m\"\u001b[39m\u001b[33mCannot re-initialize CUDA in forked subprocess. To use CUDA with \u001b[39m\u001b[33m\"\u001b[39m\n\u001b[32m    307\u001b[39m         \u001b[33m\"\u001b[39m\u001b[33mmultiprocessing, you must use the \u001b[39m\u001b[33m'\u001b[39m\u001b[33mspawn\u001b[39m\u001b[33m'\u001b[39m\u001b[33m start method\u001b[39m\u001b[33m\"\u001b[39m\n\u001b[32m    308\u001b[39m     )\n\u001b[32m    309\u001b[39m \u001b[38;5;28;01mif\u001b[39;00m \u001b[38;5;129;01mnot\u001b[39;00m \u001b[38;5;28mhasattr\u001b[39m(torch._C, \u001b[33m\"\u001b[39m\u001b[33m_cuda_getDeviceCount\u001b[39m\u001b[33m\"\u001b[39m):\n\u001b[32m--> \u001b[39m\u001b[32m310\u001b[39m     \u001b[38;5;28;01mraise\u001b[39;00m \u001b[38;5;167;01mAssertionError\u001b[39;00m(\u001b[33m\"\u001b[39m\u001b[33mTorch not compiled with CUDA enabled\u001b[39m\u001b[33m\"\u001b[39m)\n\u001b[32m    311\u001b[39m \u001b[38;5;28;01mif\u001b[39;00m _cudart \u001b[38;5;129;01mis\u001b[39;00m \u001b[38;5;28;01mNone\u001b[39;00m:\n\u001b[32m    312\u001b[39m     \u001b[38;5;28;01mraise\u001b[39;00m \u001b[38;5;167;01mAssertionError\u001b[39;00m(\n\u001b[32m    313\u001b[39m         \u001b[33m\"\u001b[39m\u001b[33mlibcudart functions unavailable. It looks like you have a broken build?\u001b[39m\u001b[33m\"\u001b[39m\n\u001b[32m    314\u001b[39m     )\n",
      "\u001b[31mAssertionError\u001b[39m: Torch not compiled with CUDA enabled"
     ]
    }
   ],
   "source": [
    "import time\n",
    "losses = []\n",
    "\n",
    "for e in tqdm(range(200)):\n",
    "    for images, labels in trainloader:\n",
    "        images = images.to(device)\n",
    "        labels = labels.to(device)\n",
    "        labels_hat_dist = model(images)\n",
    "        adam.zero_grad()\n",
    "        loss = criterion(labels_hat_dist, labels)\n",
    "        loss.backward()\n",
    "        adam.step()\n",
    "    losses.append(loss.item())\n",
    "    if e % 10 == 0:\n",
    "        print(f\"Epoch {e}: {loss.item()}\")\n",
    "\n",
    "plt.plot(losses)\n",
    "plt.show()\n",
    "\n",
    "PATH = f'models/{time.strftime(\"%m%d-%H%M%S\")}.pth'\n",
    "torch.save(model.state_dict(), PATH)\n"
   ]
  },
  {
   "cell_type": "code",
   "execution_count": null,
   "metadata": {},
   "outputs": [
    {
     "name": "stdout",
     "output_type": "stream",
     "text": [
      "Original loss 1.8980199098587036\n",
      "Adv loss 2.225947618484497\n"
     ]
    }
   ],
   "source": [
    "\n",
    "images, labels = next(iter(testloader))\n",
    "images = images.to(device)\n",
    "labels = labels.to(device)\n",
    "\n",
    "# Inside train loop\n",
    "images.requires_grad = True\n",
    "labels_hat_dist = model(images)\n",
    "loss = criterion(labels_hat_dist, labels)\n",
    "loss.backward()\n",
    "\n",
    "print(\"Original loss\", loss.item())\n",
    "\n",
    "\n",
    "step = images.grad.sign()\n",
    "perturbed_image = images + 0.2*step\n",
    "perturbed_image = torch.clamp(perturbed_image, 0, 1)\n",
    "\n",
    "labels_hat_dist = model(perturbed_image)\n",
    "loss = criterion(labels_hat_dist, labels)\n",
    "print(\"Adv loss\", loss.item())"
   ]
  },
  {
   "cell_type": "code",
   "execution_count": null,
   "metadata": {},
   "outputs": [
    {
     "name": "stdout",
     "output_type": "stream",
     "text": [
      "GroundTruth:  plane dog   frog  dog  \n",
      "Predicted:  plane cat   bird  cat  \n",
      "Averserial:  plane ship  frog  car  \n",
      "Delta loss: 0.08043432235717773\n",
      "\tOriginal loss: 2.117029905319214\n",
      "\tAdversarial loss: 2.1974642276763916\n"
     ]
    },
    {
     "data": {
      "image/png": "[encoded data removed]",
      "text/plain": [
       "<Figure size 640x480 with 1 Axes>"
      ]
     },
     "metadata": {},
     "output_type": "display_data"
    }
   ],
   "source": [
    "dataiter = iter(trainloader)\n",
    "images, labels = next(dataiter)\n",
    "\n",
    "images = images / 2 + 0.5\n",
    "\n",
    "limit = 124\n",
    "\n",
    "losses = []\n",
    "\n",
    "grid = utils.make_grid(images[:(len(labels)-limit)])\n",
    "# print images\n",
    "\n",
    "print('GroundTruth: ', ' '.join(f'{classes[labels[j]]:5s}' for j in range(len(labels)-limit)))\n",
    "\n",
    "net = model\n",
    "#net.load_state_dict(torch.load(PATH, weights_only=True))\n",
    "\n",
    "images, labels = images.to(device), labels.to(device)\n",
    "\n",
    "images.requires_grad = True\n",
    "\n",
    "outputs = net(images)\n",
    "loss = criterion(outputs, labels)\n",
    "loss.backward()\n",
    "\n",
    "losses.append(loss.item())\n",
    "\n",
    "_, predicted = torch.max(outputs, 1)\n",
    "\n",
    "print('Predicted: ', ' '.join(f'{classes[predicted[j]]:5s}'\n",
    "                              for j in range(len(labels)-(limit))))\n",
    "\n",
    "step = images.grad.sign()\n",
    "\n",
    "perturbed_image = images + 0.2*step\n",
    "perturbed_image = torch.clamp(perturbed_image, 0, 1)\n",
    "\n",
    "grid_n = utils.make_grid(perturbed_image[:(len(labels)-limit)])\n",
    "\n",
    "grod = np.concatenate((np.transpose(grid, (1, 2, 0)),np.transpose(grid_n.cpu(), (1, 2, 0))))\n",
    "# print images\n",
    "plt.imshow(grod)\n",
    "\n",
    "labels_hat_dist = model(perturbed_image)\n",
    "loss = criterion(labels_hat_dist, labels)\n",
    "\n",
    "losses.append(loss.item())\n",
    "\n",
    "_, predicted = torch.max(labels_hat_dist, 1)\n",
    "\n",
    "print('Averserial: ', ' '.join(f'{classes[predicted[j]]:5s}'\n",
    "                              for j in range(len(labels)-(limit))))\n",
    "\n",
    "print(f'Delta loss: {np.abs(losses[0]-losses[1])}\\n\\tOriginal loss: {losses[0]}\\n\\tAdversarial loss: {losses[1]}')"
   ]
  },
  {
   "cell_type": "code",
   "execution_count": null,
   "metadata": {},
   "outputs": [
    {
     "name": "stderr",
     "output_type": "stream",
     "text": [
      "100%|██████████| 10/10 [00:07<00:00,  1.33it/s]"
     ]
    },
    {
     "name": "stdout",
     "output_type": "stream",
     "text": [
      "Accuracy of the network on the 10000 test images: 60.461 %\n"
     ]
    },
    {
     "name": "stderr",
     "output_type": "stream",
     "text": [
      "\n"
     ]
    }
   ],
   "source": [
    "correct = 0\n",
    "total = 0\n",
    "# since we're not training, we don't need to calculate the gradients for our outputs\n",
    "accuracies = []\n",
    "with torch.no_grad():\n",
    "    for _ in tqdm(range(10)):\n",
    "        for data in testloader:\n",
    "            images, labels = data\n",
    "            images, labels = images.to(device), labels.to(device)\n",
    "            # calculate outputs by running images through the network\n",
    "            outputs = net(images)\n",
    "            # the class with the highest energy is what we choose as prediction\n",
    "            _, predicted = torch.max(outputs, 1)\n",
    "            total += labels.size(0)\n",
    "            correct += (predicted == labels).sum().item()\n",
    "        accuracies.append(100 * correct / total)\n",
    "\n",
    "print(f'Accuracy of the network on the 10000 test images: {np.mean(accuracies):.3f} %')"
   ]
  }
 ],
 "metadata": {
  "kernelspec": {
   "display_name": ".venv",
   "language": "python",
   "name": "python3"
  },
  "language_info": {
   "codemirror_mode": {
    "name": "ipython",
    "version": 3
   },
   "file_extension": ".py",
   "mimetype": "text/x-python",
   "name": "python",
   "nbconvert_exporter": "python",
   "pygments_lexer": "ipython3",
   "version": "3.12.4"
  }
 },
 "nbformat": 4,
 "nbformat_minor": 2
}
