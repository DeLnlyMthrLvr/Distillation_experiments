{
 "cells": [
  {
   "cell_type": "markdown",
   "metadata": {},
   "source": [
    "# Dataset download \n",
    "\n",
    "Cifar10 with version upscaled to 64x64"
   ]
  },
  {
   "cell_type": "code",
   "execution_count": 1,
   "metadata": {},
   "outputs": [
    {
     "name": "stdout",
     "output_type": "stream",
     "text": [
      "Note: you may need to restart the kernel to use updated packages.\n"
     ]
    }
   ],
   "source": [
    "%pip install -q kagglehub"
   ]
  },
  {
   "cell_type": "code",
   "execution_count": null,
   "metadata": {},
   "outputs": [],
   "source": [
    "from pathlib import Path\n",
    "\n",
    "dt_p = Path('data')\n",
    "dt_p.mkdir(exist_ok = True)"
   ]
  },
  {
   "cell_type": "code",
   "execution_count": 3,
   "metadata": {},
   "outputs": [
    {
     "name": "stdout",
     "output_type": "stream",
     "text": [
      "On Mac/Linux run the following in the terminal:\n",
      "cp -a \"/Users/delnlymthrlvr/.cache/kagglehub/datasets/joaopauloschuler/cifar10-64x64-resized-via-cai-super-resolution/versions/1\" \"/Users/delnlymthrlvr/Dropbox/Master/Groningen/RUG/Year 1/Block 3/XAI/Distillation/Distillation_experiments/notebooks/data\"\n",
      "\n",
      "On windows just move the file from the path: /Users/delnlymthrlvr/.cache/kagglehub/datasets/joaopauloschuler/cifar10-64x64-resized-via-cai-super-resolution/versions/1 to /Users/delnlymthrlvr/Dropbox/Master/Groningen/RUG/Year 1/Block 3/XAI/Distillation/Distillation_experiments/notebooks/data\n"
     ]
    }
   ],
   "source": [
    "import kagglehub\n",
    "path = kagglehub.dataset_download(\"joaopauloschuler/cifar10-64x64-resized-via-cai-super-resolution\")\n",
    "print(f'On Mac/Linux run the following in the terminal:\\ncp -a \"{path}\" \"{dt_p.absolute()}\"\\n\\nOn windows just move the file from the path: {path} to {dt_p.absolute()}')"
   ]
  }
 ],
 "metadata": {
  "kernelspec": {
   "display_name": ".venv",
   "language": "python",
   "name": "python3"
  },
  "language_info": {
   "codemirror_mode": {
    "name": "ipython",
    "version": 3
   },
   "file_extension": ".py",
   "mimetype": "text/x-python",
   "name": "python",
   "nbconvert_exporter": "python",
   "pygments_lexer": "ipython3",
   "version": "3.12.4"
  }
 },
 "nbformat": 4,
 "nbformat_minor": 2
}
