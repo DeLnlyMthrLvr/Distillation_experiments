{
 "cells": [
  {
   "cell_type": "code",
   "execution_count": 1,
   "id": "initial_id",
   "metadata": {
    "ExecuteTime": {
     "end_time": "2025-03-28T12:52:13.141563Z",
     "start_time": "2025-03-28T12:52:05.748580Z"
    },
    "collapsed": true
   },
   "outputs": [
    {
     "name": "stderr",
     "output_type": "stream",
     "text": [
      "/Users/giorgos/PycharmProjects/defensive_distillation/.venv/lib/python3.12/site-packages/tqdm/auto.py:21: TqdmWarning: IProgress not found. Please update jupyter and ipywidgets. See https://ipywidgets.readthedocs.io/en/stable/user_install.html\n",
      "  from .autonotebook import tqdm as notebook_tqdm\n"
     ]
    }
   ],
   "source": [
    "import torch\n",
    "import torch.nn as nn\n",
    "import torch.optim as optim\n",
    "from torchvision import datasets, transforms\n",
    "from tqdm import tqdm\n",
    "import numpy as np\n",
    "import torch.nn.functional as F\n",
    "import ssl\n",
    "import random\n",
    "from pathlib import Path\n",
    "from art.estimators.classification import PyTorchClassifier\n",
    "from matplotlib import pyplot as plt\n",
    "from torch.utils.tensorboard import SummaryWriter\n",
    "import time\n",
    "\n",
    "ssl._create_default_https_context = ssl._create_stdlib_context"
   ]
  },
  {
   "cell_type": "code",
   "execution_count": 2,
   "id": "f4d59360ec742626",
   "metadata": {
    "ExecuteTime": {
     "end_time": "2025-03-28T12:52:13.150657Z",
     "start_time": "2025-03-28T12:52:13.148172Z"
    }
   },
   "outputs": [],
   "source": [
    "writer = SummaryWriter(f'runs/notebook-{time.strftime('%m%d-%H%M%S')}')"
   ]
  },
  {
   "cell_type": "code",
   "execution_count": 3,
   "id": "621627dc3f13e3eb",
   "metadata": {
    "ExecuteTime": {
     "end_time": "2025-03-28T12:52:13.163011Z",
     "start_time": "2025-03-28T12:52:13.158432Z"
    }
   },
   "outputs": [],
   "source": [
    "# Ensure reproducibility\n",
    "\n",
    "# Set a global random seed\n",
    "seed = 42\n",
    "torch.manual_seed(seed)\n",
    "torch.cuda.manual_seed_all(seed)\n",
    "np.random.seed(seed)\n",
    "random.seed(seed)\n",
    "torch.backends.cudnn.deterministic = True"
   ]
  },
  {
   "cell_type": "markdown",
   "id": "dfbf52c9",
   "metadata": {},
   "source": [
    "here"
   ]
  },
  {
   "cell_type": "code",
   "execution_count": 4,
   "id": "726faf7d9df4ae92",
   "metadata": {
    "ExecuteTime": {
     "end_time": "2025-03-28T12:52:13.229371Z",
     "start_time": "2025-03-28T12:52:13.227993Z"
    }
   },
   "outputs": [],
   "source": [
    "# Teacher Model\n",
    "lr = 0.001\n",
    "batch_size = 128\n",
    "n_channels, w, h = 1, 28, 28\n",
    "max_epochs = 5"
   ]
  },
  {
   "cell_type": "code",
   "execution_count": 5,
   "id": "1eefce045dc1b249",
   "metadata": {
    "ExecuteTime": {
     "end_time": "2025-03-28T12:52:13.234665Z",
     "start_time": "2025-03-28T12:52:13.233390Z"
    }
   },
   "outputs": [],
   "source": [
    "# Attacks\n",
    "max_attack_iter = 50"
   ]
  },
  {
   "cell_type": "code",
   "execution_count": 6,
   "id": "74a4a2939e1e4048",
   "metadata": {
    "ExecuteTime": {
     "end_time": "2025-03-28T12:52:13.261402Z",
     "start_time": "2025-03-28T12:52:13.239414Z"
    }
   },
   "outputs": [
    {
     "name": "stdout",
     "output_type": "stream",
     "text": [
      "Playing on mps\n"
     ]
    }
   ],
   "source": [
    "device = \"cuda\" if torch.cuda.is_available() else \"mps\" if torch.backends.mps.is_available() else \"cpu\"\n",
    "print(f\"Playing on {device}\")"
   ]
  },
  {
   "cell_type": "code",
   "execution_count": 7,
   "id": "6e08b96d6621e9ee",
   "metadata": {
    "ExecuteTime": {
     "end_time": "2025-03-28T12:52:14.251522Z",
     "start_time": "2025-03-28T12:52:14.231490Z"
    }
   },
   "outputs": [],
   "source": [
    "dt_p = Path('data/mnist')\n",
    "\n",
    "classes = [str(i) for i in range(10)]\n",
    "n_labels = len(classes)\n",
    "\n",
    "transform = transforms.Compose(\n",
    "    [transforms.ToTensor(),\n",
    "     transforms.Normalize((0.1307,), (0.3081,))])\n",
    "\n",
    "\n",
    "trainset = datasets.MNIST(root=f'{dt_p.absolute()}/train', train=True,\n",
    "                                        download=True, transform=transform)\n",
    "trainloader = torch.utils.data.DataLoader(trainset, batch_size=batch_size,\n",
    "                                          shuffle=True)\n",
    "testset = datasets.MNIST(root=f'{dt_p.absolute()}/test', train=False,\n",
    "                                       download=True, transform=transform)\n",
    "testloader = torch.utils.data.DataLoader(testset, batch_size=batch_size,\n",
    "                                         shuffle=False)"
   ]
  },
  {
   "cell_type": "code",
   "execution_count": 8,
   "id": "7140eba58d6b46ca",
   "metadata": {
    "ExecuteTime": {
     "end_time": "2025-03-28T12:52:26.907117Z",
     "start_time": "2025-03-28T12:52:26.903871Z"
    }
   },
   "outputs": [],
   "source": [
    "class MnistNet(nn.Module):\n",
    "    def __init__(self, input_size=28, temperature=1):  # Add input size for flexibility\n",
    "        super().__init__()\n",
    "        self.conv1a = nn.Conv2d(1, 32, 3, padding=0)\n",
    "        self.conv1b = nn.Conv2d(32, 32, 3, padding=0)\n",
    "        self.conv2a = nn.Conv2d(32, 64, 3, padding=0)\n",
    "        self.conv2b = nn.Conv2d(64, 64, 3, padding=0)\n",
    "        self.pool = nn.MaxPool2d(2, 2)\n",
    "\n",
    "        # Compute the number of features dynamically\n",
    "        self._to_linear = self._get_conv_output(input_size)\n",
    "\n",
    "        self.fc1 = nn.Linear(self._to_linear, 200)\n",
    "        self.fc2 = nn.Linear(200, 10)\n",
    "\n",
    "        self.flatten = nn.Flatten()\n",
    "        self.activation = nn.ReLU()\n",
    "        self.dropout = nn.Dropout(0.2)\n",
    "        self.batchnorm = nn.BatchNorm1d(200)  # Now correctly applied\n",
    "\n",
    "        self.temperature = temperature\n",
    "\n",
    "    def _get_conv_output(self, size):\n",
    "        \"\"\"Helper function to compute the output size after convolutions\"\"\"\n",
    "        x = torch.zeros(1, 1, size, size)  # Create a dummy tensor\n",
    "        x = self.pool(F.relu(self.conv1b(F.relu(self.conv1a(x)))))\n",
    "        x = self.pool(F.relu(self.conv2b(F.relu(self.conv2a(x)))))\n",
    "        return x.numel()\n",
    "\n",
    "    def forward(self, x):\n",
    "        x = self.activation(self.conv1a(x))\n",
    "        x = self.activation(self.conv1b(x))\n",
    "        #x = self.dropout(x)\n",
    "        x = self.pool(x)\n",
    "        x = self.activation(self.conv2a(x))\n",
    "        x = self.activation(self.conv2b(x))\n",
    "        #x = self.dropout(x)\n",
    "        x = self.pool(x)\n",
    "\n",
    "        x = self.flatten(x)  # Flatten before FC layers\n",
    "        x = self.activation(self.fc1(x))\n",
    "        #x = self.batchnorm(x)\n",
    "        x = self.fc2(x)\n",
    "        # CrossEntropyLoss already applied softmax\n",
    "        x = F.log_softmax(x / self.temperature, dim=1)  # Use log_softmax for numerical stability\n",
    "        return x  # Remove softmax if using CrossEntropyLoss\n",
    "\n"
   ]
  },
  {
   "cell_type": "code",
   "execution_count": 9,
   "id": "45190999",
   "metadata": {},
   "outputs": [],
   "source": [
    "temp_teacher = 20.0"
   ]
  },
  {
   "cell_type": "code",
   "execution_count": 10,
   "id": "c4aa920188d3a57f",
   "metadata": {
    "ExecuteTime": {
     "end_time": "2025-03-28T12:52:30.299922Z",
     "start_time": "2025-03-28T12:52:30.284856Z"
    }
   },
   "outputs": [],
   "source": [
    "# Specify teacher model\n",
    "\n",
    "teacher_model = MnistNet(input_size=28, temperature=temp_teacher).to(device)\n",
    "criterion = nn.CrossEntropyLoss()\n",
    "optimizer = optim.AdamW(teacher_model.parameters(), lr=lr)"
   ]
  },
  {
   "cell_type": "code",
   "execution_count": null,
   "id": "533bdc1f87d692f9",
   "metadata": {
    "ExecuteTime": {
     "end_time": "2025-03-28T12:52:55.369169Z",
     "start_time": "2025-03-28T12:52:35.488559Z"
    }
   },
   "outputs": [
    {
     "name": "stderr",
     "output_type": "stream",
     "text": [
      " 20%|██        | 1/5 [00:04<00:17,  4.45s/it]"
     ]
    },
    {
     "name": "stdout",
     "output_type": "stream",
     "text": [
      "Epoch 0: 0.12312939018011093\n"
     ]
    },
    {
     "name": "stderr",
     "output_type": "stream",
     "text": [
      "100%|██████████| 5/5 [00:20<00:00,  4.04s/it]"
     ]
    },
    {
     "name": "stdout",
     "output_type": "stream",
     "text": [
      "Epoch 4: 0.0012559281894937158\n"
     ]
    },
    {
     "name": "stderr",
     "output_type": "stream",
     "text": [
      "\n"
     ]
    }
   ],
   "source": [
    "# Train the teacher model\n",
    "teacher_losses = []\n",
    "\n",
    "for e in tqdm(range(max_epochs)):\n",
    "    for images, labels in trainloader:\n",
    "        images, labels = images.to(device), labels.to(device)\n",
    "        # Forward pass\n",
    "        logits = teacher_model(images)\n",
    "        # Compute loss\n",
    "        loss = criterion(logits, labels)\n",
    "        # Backward pass\n",
    "        optimizer.zero_grad()\n",
    "        loss.backward()\n",
    "        optimizer.step()\n",
    "    teacher_losses.append(loss.item())\n",
    "    \n",
    "    if e % 10 == 0 or e == max_epochs-1:\n",
    "        print(f\"Epoch {e}: {loss.item()}\")"
   ]
  },
  {
   "cell_type": "code",
   "execution_count": null,
   "id": "c7fa2fe2",
   "metadata": {},
   "outputs": [],
   "source": []
  },
  {
   "cell_type": "code",
   "execution_count": 12,
   "id": "4f7f74004b70a472",
   "metadata": {
    "ExecuteTime": {
     "end_time": "2025-03-28T12:52:55.382687Z",
     "start_time": "2025-03-28T12:52:55.375638Z"
    }
   },
   "outputs": [],
   "source": [
    "# Wrap in ART PyTorchClassifier\n",
    "art_model_t = PyTorchClassifier(\n",
    "    model=teacher_model,\n",
    "    clip_values=(0, 1),  # Min and Max pixel values (normalize if needed)\n",
    "    loss=criterion,\n",
    "    optimizer=optimizer,\n",
    "    input_shape=(n_channels, w, h),\n",
    "    nb_classes=10\n",
    ")"
   ]
  },
  {
   "cell_type": "code",
   "execution_count": 13,
   "id": "3a3833899cd89f47",
   "metadata": {
    "ExecuteTime": {
     "end_time": "2025-03-28T12:52:55.661130Z",
     "start_time": "2025-03-28T12:52:55.657339Z"
    }
   },
   "outputs": [],
   "source": [
    "mnist_targets = testset.targets.int().numpy()\n",
    "mnist_data = testset.data.unsqueeze(1).float().numpy()  # Add channel dimension (N, 1, 28, 28)"
   ]
  },
  {
   "cell_type": "code",
   "execution_count": 14,
   "id": "f21848242c843dac",
   "metadata": {
    "ExecuteTime": {
     "end_time": "2025-03-28T13:11:44.407484Z",
     "start_time": "2025-03-28T13:11:44.400511Z"
    }
   },
   "outputs": [],
   "source": [
    "# Computationally Expensive methods -> Select Test Subset\n",
    "num_samples = 100\n",
    "# First shuffle\n",
    "indices = torch.randperm(len(testset.data))\n",
    "mnist_data_shuffled = mnist_data[indices]\n",
    "mnist_targets_shuffled = mnist_targets[indices]\n",
    "# Then select subsets\n",
    "mnist_data_subset = mnist_data_shuffled[:num_samples]/255\n",
    "mnist_targets_subset = mnist_targets_shuffled[:num_samples]"
   ]
  },
  {
   "cell_type": "code",
   "execution_count": 15,
   "id": "d6e4678b1bc2dfca",
   "metadata": {
    "ExecuteTime": {
     "end_time": "2025-03-28T13:16:18.766895Z",
     "start_time": "2025-03-28T13:16:18.764437Z"
    }
   },
   "outputs": [],
   "source": [
    "# Create all target classes\n",
    "\n",
    "# All digit classes\n",
    "int_classes = np.arange(10)\n",
    "\n",
    "target_y = [int_classes[int_classes != label].tolist() for label in mnist_targets_subset]\n",
    "# Transpose to create label subsets\n",
    "target_y = np.array(target_y).T\n"
   ]
  },
  {
   "cell_type": "code",
   "execution_count": 16,
   "id": "dff013d6ba66e31c",
   "metadata": {
    "ExecuteTime": {
     "end_time": "2025-03-28T13:20:44.403501Z",
     "start_time": "2025-03-28T13:20:44.401689Z"
    }
   },
   "outputs": [
    {
     "name": "stdout",
     "output_type": "stream",
     "text": [
      "0\n"
     ]
    }
   ],
   "source": [
    "# Test it out - Similarity between target vectors and original labels must be 0\n",
    "\n",
    "vec_similarity = []\n",
    "for target_vec in target_y:\n",
    "    vec_similarity.append(np.sum(target_vec == mnist_targets_subset))\n",
    "print(sum(vec_similarity))"
   ]
  },
  {
   "cell_type": "code",
   "execution_count": 17,
   "id": "5b990fefe42d48b7",
   "metadata": {
    "ExecuteTime": {
     "end_time": "2025-03-23T18:43:07.198793Z",
     "start_time": "2025-03-23T18:43:07.188524Z"
    }
   },
   "outputs": [
    {
     "data": {
      "text/plain": [
       "MnistNet(\n",
       "  (conv1a): Conv2d(1, 32, kernel_size=(3, 3), stride=(1, 1))\n",
       "  (conv1b): Conv2d(32, 32, kernel_size=(3, 3), stride=(1, 1))\n",
       "  (conv2a): Conv2d(32, 64, kernel_size=(3, 3), stride=(1, 1))\n",
       "  (conv2b): Conv2d(64, 64, kernel_size=(3, 3), stride=(1, 1))\n",
       "  (pool): MaxPool2d(kernel_size=2, stride=2, padding=0, dilation=1, ceil_mode=False)\n",
       "  (fc1): Linear(in_features=1024, out_features=200, bias=True)\n",
       "  (fc2): Linear(in_features=200, out_features=10, bias=True)\n",
       "  (flatten): Flatten(start_dim=1, end_dim=-1)\n",
       "  (activation): ReLU()\n",
       "  (dropout): Dropout(p=0.2, inplace=False)\n",
       "  (batchnorm): BatchNorm1d(200, eps=1e-05, momentum=0.1, affine=True, track_running_stats=True)\n",
       ")"
      ]
     },
     "execution_count": 17,
     "metadata": {},
     "output_type": "execute_result"
    }
   ],
   "source": [
    "# Ensure teacher model is on CPU to create the attacks\n",
    "teacher_model.to(device)"
   ]
  },
  {
   "cell_type": "code",
   "execution_count": null,
   "id": "534e06e40e473a78",
   "metadata": {
    "ExecuteTime": {
     "end_time": "2025-03-28T13:21:13.508366Z",
     "start_time": "2025-03-28T13:21:13.504710Z"
    }
   },
   "outputs": [],
   "source": [
    "def visualize_adversarial(data, adversarial_data, labels, num_samples=5):\n",
    "    \"\"\"\n",
    "    Displays a comparison of original and adversarial images for a subset of samples.\n",
    "\n",
    "    :param data: Original MNIST images (NumPy array or PyTorch Tensor) with shape (N, 1, 28, 28)\n",
    "    :param adversarial_data: Adversarial MNIST images (same shape as `data`).\n",
    "    :param labels: True labels for the images (can be one-hot or class indices).\n",
    "    :param num_samples: Number of samples to display.\n",
    "    \"\"\"\n",
    "    if isinstance(data, torch.Tensor):  # Convert tensors to numpy\n",
    "        data = data.cpu().numpy()\n",
    "    if isinstance(adversarial_data, torch.Tensor):\n",
    "        adversarial_data = adversarial_data.cpu().numpy()\n",
    "    if isinstance(labels, torch.Tensor):\n",
    "        labels = labels.cpu().numpy()\n",
    "\n",
    "    num_samples = min(num_samples, len(data))  # Ensure we don't exceed dataset size\n",
    "    indices = np.random.choice(len(data), num_samples, replace=False)  # Select random samples\n",
    "\n",
    "    fig, axes = plt.subplots(num_samples, 2, figsize=(6, num_samples * 2))\n",
    "    fig.suptitle(\"Original vs Adversarial Images\", fontsize=14)\n",
    "\n",
    "    for i, idx in enumerate(indices):\n",
    "        # Original Image\n",
    "        axes[i, 0].imshow(data[idx].squeeze(), cmap=\"gray\")\n",
    "        axes[i, 0].set_title(f\"Original (Label: {labels[idx]})\")\n",
    "        axes[i, 0].axis(\"off\")\n",
    "\n",
    "        # Adversarial Image\n",
    "        axes[i, 1].imshow(adversarial_data[idx].squeeze(), cmap=\"gray\")\n",
    "        axes[i, 1].set_title(\"Adversarial\")\n",
    "        axes[i, 1].axis(\"off\")\n",
    "\n",
    "    plt.tight_layout()\n",
    "    plt.show()\n",
    "\n",
    "\n",
    "\n",
    "\n",
    "def visualize_from_dataloader(model, dataloader, temp):\n",
    "    \"\"\"\n",
    "    Selects a random MNIST image from the dataset, gets its label, and computes its soft labels.\n",
    "\n",
    "    :param model: Trained teacher model.\n",
    "    :param dataloader: PyTorch DataLoader containing the dataset.\n",
    "    :param temp: Temperature parameter for soft labels.\n",
    "    \"\"\"\n",
    "    model.eval()\n",
    "\n",
    "    # Get a random batch\n",
    "    images, labels = next(iter(dataloader))\n",
    "    random_idx = random.randint(0, len(images) - 1)\n",
    "\n",
    "    # Select a random image and its label\n",
    "    image, label = images[random_idx], labels[random_idx].item()\n",
    "\n",
    "    # Move image to the correct device\n",
    "    image = image.unsqueeze(0).to(device)  # Add batch dimension\n",
    "\n",
    "    # Get soft labels\n",
    "    with torch.no_grad():\n",
    "        logits = model(image)\n",
    "        soft_labels = torch.softmax(logits / temp, dim=1).cpu().numpy().flatten()\n",
    "\n",
    "    # Display image and labels\n",
    "    plt.imshow(image.squeeze().cpu(), cmap=\"gray\")  # Use grayscale colormap for MNIST\n",
    "    plt.title(f\"True Label: {label}\\nSoft Labels: {soft_labels.round(2)}\")\n",
    "    plt.axis(\"off\")\n",
    "    plt.show()\n"
   ]
  },
  {
   "cell_type": "code",
   "execution_count": 19,
   "id": "fec3893cba9340e8",
   "metadata": {
    "ExecuteTime": {
     "end_time": "2025-03-28T13:21:17.253510Z",
     "start_time": "2025-03-28T13:21:17.251032Z"
    }
   },
   "outputs": [
    {
     "data": {
      "text/plain": [
       "MnistNet(\n",
       "  (conv1a): Conv2d(1, 32, kernel_size=(3, 3), stride=(1, 1))\n",
       "  (conv1b): Conv2d(32, 32, kernel_size=(3, 3), stride=(1, 1))\n",
       "  (conv2a): Conv2d(32, 64, kernel_size=(3, 3), stride=(1, 1))\n",
       "  (conv2b): Conv2d(64, 64, kernel_size=(3, 3), stride=(1, 1))\n",
       "  (pool): MaxPool2d(kernel_size=2, stride=2, padding=0, dilation=1, ceil_mode=False)\n",
       "  (fc1): Linear(in_features=1024, out_features=200, bias=True)\n",
       "  (fc2): Linear(in_features=200, out_features=10, bias=True)\n",
       "  (flatten): Flatten(start_dim=1, end_dim=-1)\n",
       "  (activation): ReLU()\n",
       "  (dropout): Dropout(p=0.2, inplace=False)\n",
       "  (batchnorm): BatchNorm1d(200, eps=1e-05, momentum=0.1, affine=True, track_running_stats=True)\n",
       ")"
      ]
     },
     "execution_count": 19,
     "metadata": {},
     "output_type": "execute_result"
    }
   ],
   "source": [
    "teacher_model.to('cpu')"
   ]
  },
  {
   "cell_type": "code",
   "execution_count": 20,
   "id": "22434a8e7cd1445f",
   "metadata": {
    "ExecuteTime": {
     "end_time": "2025-03-23T18:58:55.294756Z",
     "start_time": "2025-03-23T18:58:54.946468Z"
    }
   },
   "outputs": [
    {
     "data": {
      "image/png": "[encoded data removed]",
      "text/plain": [
       "<Figure size 600x1000 with 10 Axes>"
      ]
     },
     "metadata": {},
     "output_type": "display_data"
    }
   ],
   "source": [
    "# Attack #1\n",
    "from art.attacks.evasion.fast_gradient import FastGradientMethod\n",
    "\n",
    "attack = FastGradientMethod(estimator=art_model_t, eps=0.4, eps_step=0.1, batch_size=32, minimal=True, targeted=False, summary_writer=True)\n",
    "x_adv_fgm = attack.generate(x=mnist_data_subset, y=mnist_targets_subset)\n",
    "visualize_adversarial(mnist_data_subset, x_adv_fgm, mnist_targets_subset)"
   ]
  },
  {
   "cell_type": "code",
   "execution_count": 21,
   "id": "3872b18a7d8a4eda",
   "metadata": {
    "ExecuteTime": {
     "end_time": "2025-03-23T18:59:10.259904Z",
     "start_time": "2025-03-23T18:58:59.363199Z"
    }
   },
   "outputs": [
    {
     "name": "stderr",
     "output_type": "stream",
     "text": [
      "DeepFool: 100%|██████████| 4/4 [00:22<00:00,  5.54s/it]\n"
     ]
    },
    {
     "data": {
      "image/png": "[encoded data removed]",
      "text/plain": [
       "<Figure size 600x1000 with 10 Axes>"
      ]
     },
     "metadata": {},
     "output_type": "display_data"
    }
   ],
   "source": [
    "# Attack #2\n",
    "\n",
    "from art.attacks.evasion.deepfool import DeepFool\n",
    "\n",
    "attack = DeepFool(classifier=art_model_t, epsilon=0.001, max_iter=max_attack_iter, batch_size=32)\n",
    "x_adv_deepfool = attack.generate(x=mnist_data_subset, y=mnist_targets_subset)\n",
    "visualize_adversarial(mnist_data_subset, x_adv_deepfool, mnist_targets_subset)"
   ]
  },
  {
   "cell_type": "code",
   "execution_count": 59,
   "id": "41a42687390e23d",
   "metadata": {
    "ExecuteTime": {
     "end_time": "2025-03-23T19:00:45.229549Z",
     "start_time": "2025-03-23T18:59:40.957596Z"
    }
   },
   "outputs": [
    {
     "name": "stderr",
     "output_type": "stream",
     "text": [
      "C&W L_2:   0%|          | 0/4 [01:18<?, ?it/s]\n"
     ]
    },
    {
     "ename": "KeyboardInterrupt",
     "evalue": "",
     "output_type": "error",
     "traceback": [
      "\u001b[31m---------------------------------------------------------------------------\u001b[39m",
      "\u001b[31mKeyboardInterrupt\u001b[39m                         Traceback (most recent call last)",
      "\u001b[36mCell\u001b[39m\u001b[36m \u001b[39m\u001b[32mIn[59]\u001b[39m\u001b[32m, line 6\u001b[39m\n\u001b[32m      3\u001b[39m \u001b[38;5;28;01mfrom\u001b[39;00m\u001b[38;5;250m \u001b[39m\u001b[34;01mart\u001b[39;00m\u001b[34;01m.\u001b[39;00m\u001b[34;01mattacks\u001b[39;00m\u001b[34;01m.\u001b[39;00m\u001b[34;01mevasion\u001b[39;00m\u001b[34;01m.\u001b[39;00m\u001b[34;01mcarlini\u001b[39;00m\u001b[38;5;250m \u001b[39m\u001b[38;5;28;01mimport\u001b[39;00m CarliniL2Method\n\u001b[32m      5\u001b[39m attack = CarliniL2Method(classifier=art_model_t, confidence=\u001b[32m0.3\u001b[39m, initial_const=\u001b[32m0.01\u001b[39m, max_iter=max_attack_iter, batch_size=\u001b[32m32\u001b[39m)\n\u001b[32m----> \u001b[39m\u001b[32m6\u001b[39m x_adv_carlini = \u001b[43mattack\u001b[49m\u001b[43m.\u001b[49m\u001b[43mgenerate\u001b[49m\u001b[43m(\u001b[49m\u001b[43mx\u001b[49m\u001b[43m=\u001b[49m\u001b[43mmnist_data_subset\u001b[49m\u001b[43m,\u001b[49m\u001b[43m \u001b[49m\u001b[43my\u001b[49m\u001b[43m=\u001b[49m\u001b[43mmnist_targets_subset\u001b[49m\u001b[43m)\u001b[49m\n\u001b[32m      7\u001b[39m visualize_adversarial(mnist_data_subset, x_adv_carlini, mnist_targets_subset)\n",
      "\u001b[36mFile \u001b[39m\u001b[32m~/PycharmProjects/defensive_distillation/.venv/lib/python3.12/site-packages/art/attacks/evasion/carlini.py:335\u001b[39m, in \u001b[36mCarliniL2Method.generate\u001b[39m\u001b[34m(self, x, y, **kwargs)\u001b[39m\n\u001b[32m    333\u001b[39m \u001b[38;5;66;03m# compute gradient:\u001b[39;00m\n\u001b[32m    334\u001b[39m logger.debug(\u001b[33m\"\u001b[39m\u001b[33mCompute loss gradient\u001b[39m\u001b[33m\"\u001b[39m)\n\u001b[32m--> \u001b[39m\u001b[32m335\u001b[39m perturbation_tanh = -\u001b[38;5;28;43mself\u001b[39;49m\u001b[43m.\u001b[49m\u001b[43m_loss_gradient\u001b[49m\u001b[43m(\u001b[49m\n\u001b[32m    336\u001b[39m \u001b[43m    \u001b[49m\u001b[43mz_logits\u001b[49m\u001b[43m[\u001b[49m\u001b[43mactive\u001b[49m\u001b[43m]\u001b[49m\u001b[43m,\u001b[49m\n\u001b[32m    337\u001b[39m \u001b[43m    \u001b[49m\u001b[43my_batch\u001b[49m\u001b[43m[\u001b[49m\u001b[43mactive\u001b[49m\u001b[43m]\u001b[49m\u001b[43m,\u001b[49m\n\u001b[32m    338\u001b[39m \u001b[43m    \u001b[49m\u001b[43mx_batch\u001b[49m\u001b[43m[\u001b[49m\u001b[43mactive\u001b[49m\u001b[43m]\u001b[49m\u001b[43m,\u001b[49m\n\u001b[32m    339\u001b[39m \u001b[43m    \u001b[49m\u001b[43mx_adv_batch\u001b[49m\u001b[43m[\u001b[49m\u001b[43mactive\u001b[49m\u001b[43m]\u001b[49m\u001b[43m,\u001b[49m\n\u001b[32m    340\u001b[39m \u001b[43m    \u001b[49m\u001b[43mx_adv_batch_tanh\u001b[49m\u001b[43m[\u001b[49m\u001b[43mactive\u001b[49m\u001b[43m]\u001b[49m\u001b[43m,\u001b[49m\n\u001b[32m    341\u001b[39m \u001b[43m    \u001b[49m\u001b[43mc_current\u001b[49m\u001b[43m[\u001b[49m\u001b[43mactive\u001b[49m\u001b[43m]\u001b[49m\u001b[43m,\u001b[49m\n\u001b[32m    342\u001b[39m \u001b[43m    \u001b[49m\u001b[43mclip_min\u001b[49m\u001b[43m,\u001b[49m\n\u001b[32m    343\u001b[39m \u001b[43m    \u001b[49m\u001b[43mclip_max\u001b[49m\u001b[43m,\u001b[49m\n\u001b[32m    344\u001b[39m \u001b[43m\u001b[49m\u001b[43m)\u001b[49m\n\u001b[32m    346\u001b[39m \u001b[38;5;66;03m# perform line search to optimize perturbation\u001b[39;00m\n\u001b[32m    347\u001b[39m \u001b[38;5;66;03m# first, halve the learning rate until perturbation actually decreases the loss:\u001b[39;00m\n\u001b[32m    348\u001b[39m prev_loss = loss.copy()\n",
      "\u001b[36mFile \u001b[39m\u001b[32m~/PycharmProjects/defensive_distillation/.venv/lib/python3.12/site-packages/art/attacks/evasion/carlini.py:215\u001b[39m, in \u001b[36mCarliniL2Method._loss_gradient\u001b[39m\u001b[34m(self, z_logits, target, x, x_adv, x_adv_tanh, c_weight, clip_min, clip_max)\u001b[39m\n\u001b[32m    209\u001b[39m     i_sub = np.argmax(\n\u001b[32m    210\u001b[39m         z_logits * (\u001b[32m1\u001b[39m - target) + (np.min(z_logits, axis=\u001b[32m1\u001b[39m) - \u001b[32m1\u001b[39m)[:, np.newaxis] * target,\n\u001b[32m    211\u001b[39m         axis=\u001b[32m1\u001b[39m,\n\u001b[32m    212\u001b[39m     )\n\u001b[32m    214\u001b[39m loss_gradient = \u001b[38;5;28mself\u001b[39m.estimator.class_gradient(x_adv, label=i_add)\n\u001b[32m--> \u001b[39m\u001b[32m215\u001b[39m loss_gradient -= \u001b[38;5;28;43mself\u001b[39;49m\u001b[43m.\u001b[49m\u001b[43mestimator\u001b[49m\u001b[43m.\u001b[49m\u001b[43mclass_gradient\u001b[49m\u001b[43m(\u001b[49m\u001b[43mx_adv\u001b[49m\u001b[43m,\u001b[49m\u001b[43m \u001b[49m\u001b[43mlabel\u001b[49m\u001b[43m=\u001b[49m\u001b[43mi_sub\u001b[49m\u001b[43m)\u001b[49m\n\u001b[32m    216\u001b[39m loss_gradient = loss_gradient.reshape(x.shape)\n\u001b[32m    218\u001b[39m c_mult = c_weight\n",
      "\u001b[36mFile \u001b[39m\u001b[32m~/PycharmProjects/defensive_distillation/.venv/lib/python3.12/site-packages/art/estimators/classification/pytorch.py:683\u001b[39m, in \u001b[36mPyTorchClassifier.class_gradient\u001b[39m\u001b[34m(self, x, label, training_mode, **kwargs)\u001b[39m\n\u001b[32m    681\u001b[39m unique_label = \u001b[38;5;28mlist\u001b[39m(np.unique(label))\n\u001b[32m    682\u001b[39m \u001b[38;5;28;01mfor\u001b[39;00m i \u001b[38;5;129;01min\u001b[39;00m unique_label:\n\u001b[32m--> \u001b[39m\u001b[32m683\u001b[39m     \u001b[43mtorch\u001b[49m\u001b[43m.\u001b[49m\u001b[43mautograd\u001b[49m\u001b[43m.\u001b[49m\u001b[43mbackward\u001b[49m\u001b[43m(\u001b[49m\n\u001b[32m    684\u001b[39m \u001b[43m        \u001b[49m\u001b[43mpreds\u001b[49m\u001b[43m[\u001b[49m\u001b[43m:\u001b[49m\u001b[43m,\u001b[49m\u001b[43m \u001b[49m\u001b[43mi\u001b[49m\u001b[43m]\u001b[49m\u001b[43m,\u001b[49m\n\u001b[32m    685\u001b[39m \u001b[43m        \u001b[49m\u001b[43mtorch\u001b[49m\u001b[43m.\u001b[49m\u001b[43mtensor\u001b[49m\u001b[43m(\u001b[49m\u001b[43m[\u001b[49m\u001b[32;43m1.0\u001b[39;49m\u001b[43m]\u001b[49m\u001b[43m \u001b[49m\u001b[43m*\u001b[49m\u001b[43m \u001b[49m\u001b[38;5;28;43mlen\u001b[39;49m\u001b[43m(\u001b[49m\u001b[43mpreds\u001b[49m\u001b[43m[\u001b[49m\u001b[43m:\u001b[49m\u001b[43m,\u001b[49m\u001b[43m \u001b[49m\u001b[32;43m0\u001b[39;49m\u001b[43m]\u001b[49m\u001b[43m)\u001b[49m\u001b[43m)\u001b[49m\u001b[43m.\u001b[49m\u001b[43mto\u001b[49m\u001b[43m(\u001b[49m\u001b[38;5;28;43mself\u001b[39;49m\u001b[43m.\u001b[49m\u001b[43m_device\u001b[49m\u001b[43m)\u001b[49m\u001b[43m,\u001b[49m\n\u001b[32m    686\u001b[39m \u001b[43m        \u001b[49m\u001b[43mretain_graph\u001b[49m\u001b[43m=\u001b[49m\u001b[38;5;28;43;01mTrue\u001b[39;49;00m\u001b[43m,\u001b[49m\n\u001b[32m    687\u001b[39m \u001b[43m    \u001b[49m\u001b[43m)\u001b[49m\n\u001b[32m    689\u001b[39m grads = np.swapaxes(np.array(grads_list), \u001b[32m0\u001b[39m, \u001b[32m1\u001b[39m)\n\u001b[32m    690\u001b[39m lst = [unique_label.index(i) \u001b[38;5;28;01mfor\u001b[39;00m i \u001b[38;5;129;01min\u001b[39;00m label]\n",
      "\u001b[36mFile \u001b[39m\u001b[32m~/PycharmProjects/defensive_distillation/.venv/lib/python3.12/site-packages/torch/autograd/__init__.py:347\u001b[39m, in \u001b[36mbackward\u001b[39m\u001b[34m(tensors, grad_tensors, retain_graph, create_graph, grad_variables, inputs)\u001b[39m\n\u001b[32m    342\u001b[39m     retain_graph = create_graph\n\u001b[32m    344\u001b[39m \u001b[38;5;66;03m# The reason we repeat the same comment below is that\u001b[39;00m\n\u001b[32m    345\u001b[39m \u001b[38;5;66;03m# some Python versions print out the first line of a multi-line function\u001b[39;00m\n\u001b[32m    346\u001b[39m \u001b[38;5;66;03m# calls in the traceback and some print out the last line\u001b[39;00m\n\u001b[32m--> \u001b[39m\u001b[32m347\u001b[39m \u001b[43m_engine_run_backward\u001b[49m\u001b[43m(\u001b[49m\n\u001b[32m    348\u001b[39m \u001b[43m    \u001b[49m\u001b[43mtensors\u001b[49m\u001b[43m,\u001b[49m\n\u001b[32m    349\u001b[39m \u001b[43m    \u001b[49m\u001b[43mgrad_tensors_\u001b[49m\u001b[43m,\u001b[49m\n\u001b[32m    350\u001b[39m \u001b[43m    \u001b[49m\u001b[43mretain_graph\u001b[49m\u001b[43m,\u001b[49m\n\u001b[32m    351\u001b[39m \u001b[43m    \u001b[49m\u001b[43mcreate_graph\u001b[49m\u001b[43m,\u001b[49m\n\u001b[32m    352\u001b[39m \u001b[43m    \u001b[49m\u001b[43minputs\u001b[49m\u001b[43m,\u001b[49m\n\u001b[32m    353\u001b[39m \u001b[43m    \u001b[49m\u001b[43mallow_unreachable\u001b[49m\u001b[43m=\u001b[49m\u001b[38;5;28;43;01mTrue\u001b[39;49;00m\u001b[43m,\u001b[49m\n\u001b[32m    354\u001b[39m \u001b[43m    \u001b[49m\u001b[43maccumulate_grad\u001b[49m\u001b[43m=\u001b[49m\u001b[38;5;28;43;01mTrue\u001b[39;49;00m\u001b[43m,\u001b[49m\n\u001b[32m    355\u001b[39m \u001b[43m\u001b[49m\u001b[43m)\u001b[49m\n",
      "\u001b[36mFile \u001b[39m\u001b[32m~/PycharmProjects/defensive_distillation/.venv/lib/python3.12/site-packages/torch/autograd/graph.py:823\u001b[39m, in \u001b[36m_engine_run_backward\u001b[39m\u001b[34m(t_outputs, *args, **kwargs)\u001b[39m\n\u001b[32m    821\u001b[39m     unregister_hooks = _register_logging_hooks_on_whole_graph(t_outputs)\n\u001b[32m    822\u001b[39m \u001b[38;5;28;01mtry\u001b[39;00m:\n\u001b[32m--> \u001b[39m\u001b[32m823\u001b[39m     \u001b[38;5;28;01mreturn\u001b[39;00m \u001b[43mVariable\u001b[49m\u001b[43m.\u001b[49m\u001b[43m_execution_engine\u001b[49m\u001b[43m.\u001b[49m\u001b[43mrun_backward\u001b[49m\u001b[43m(\u001b[49m\u001b[43m  \u001b[49m\u001b[38;5;66;43;03m# Calls into the C++ engine to run the backward pass\u001b[39;49;00m\n\u001b[32m    824\u001b[39m \u001b[43m        \u001b[49m\u001b[43mt_outputs\u001b[49m\u001b[43m,\u001b[49m\u001b[43m \u001b[49m\u001b[43m*\u001b[49m\u001b[43margs\u001b[49m\u001b[43m,\u001b[49m\u001b[43m \u001b[49m\u001b[43m*\u001b[49m\u001b[43m*\u001b[49m\u001b[43mkwargs\u001b[49m\n\u001b[32m    825\u001b[39m \u001b[43m    \u001b[49m\u001b[43m)\u001b[49m  \u001b[38;5;66;03m# Calls into the C++ engine to run the backward pass\u001b[39;00m\n\u001b[32m    826\u001b[39m \u001b[38;5;28;01mfinally\u001b[39;00m:\n\u001b[32m    827\u001b[39m     \u001b[38;5;28;01mif\u001b[39;00m attach_logging_hooks:\n",
      "\u001b[36mFile \u001b[39m\u001b[32m~/PycharmProjects/defensive_distillation/.venv/lib/python3.12/site-packages/art/estimators/classification/pytorch.py:649\u001b[39m, in \u001b[36mPyTorchClassifier.class_gradient.<locals>.save_grad.<locals>.hook\u001b[39m\u001b[34m(grad)\u001b[39m\n\u001b[32m    648\u001b[39m \u001b[38;5;28;01mdef\u001b[39;00m\u001b[38;5;250m \u001b[39m\u001b[34msave_grad\u001b[39m():\n\u001b[32m--> \u001b[39m\u001b[32m649\u001b[39m     \u001b[38;5;28;01mdef\u001b[39;00m\u001b[38;5;250m \u001b[39m\u001b[34mhook\u001b[39m(grad):\n\u001b[32m    650\u001b[39m         grads_list.append(grad.cpu().numpy().copy())\n\u001b[32m    651\u001b[39m         grad.data.zero_()\n",
      "\u001b[31mKeyboardInterrupt\u001b[39m: "
     ]
    }
   ],
   "source": [
    "# Attack #3\n",
    "\n",
    "from art.attacks.evasion.carlini import CarliniL2Method\n",
    "\n",
    "attack = CarliniL2Method(classifier=art_model_t, confidence=0.3, initial_const=0.01, max_iter=max_attack_iter, batch_size=32)\n",
    "x_adv_carlini = attack.generate(x=mnist_data_subset, y=mnist_targets_subset)\n",
    "visualize_adversarial(mnist_data_subset, x_adv_carlini, mnist_targets_subset)\n"
   ]
  },
  {
   "cell_type": "code",
   "execution_count": 32,
   "id": "119e03f04370b020",
   "metadata": {
    "ExecuteTime": {
     "end_time": "2025-03-28T13:41:12.937514Z",
     "start_time": "2025-03-28T13:41:08.110048Z"
    }
   },
   "outputs": [
    {
     "name": "stderr",
     "output_type": "stream",
     "text": [
      "JSMA: 100%|██████████| 4/4 [00:04<00:00,  1.22s/it]\n",
      "JSMA: 100%|██████████| 4/4 [00:04<00:00,  1.18s/it]\n",
      "JSMA: 100%|██████████| 4/4 [00:02<00:00,  1.34it/s]\n",
      "JSMA: 100%|██████████| 4/4 [00:03<00:00,  1.22it/s]\n",
      "JSMA: 100%|██████████| 4/4 [00:03<00:00,  1.08it/s]\n",
      "JSMA: 100%|██████████| 4/4 [00:03<00:00,  1.11it/s]\n",
      "JSMA: 100%|██████████| 4/4 [00:03<00:00,  1.04it/s]\n",
      "JSMA: 100%|██████████| 4/4 [00:02<00:00,  1.56it/s]\n",
      "JSMA: 100%|██████████| 4/4 [00:02<00:00,  1.69it/s]\n"
     ]
    },
    {
     "data": {
      "image/png": "[encoded data removed]",
      "text/plain": [
       "<Figure size 600x1000 with 10 Axes>"
      ]
     },
     "metadata": {},
     "output_type": "display_data"
    },
    {
     "name": "stdout",
     "output_type": "stream",
     "text": [
      "(9, 100, 1, 28, 28)\n"
     ]
    }
   ],
   "source": [
    "# Attack #4\n",
    "\n",
    "from art.attacks.evasion.saliency_map import SaliencyMapMethod\n",
    "\n",
    "attack = SaliencyMapMethod(classifier=art_model_t, theta=0.8, gamma=0.7, batch_size=32)\n",
    "x_adv_jacobian = np.zeros((9,num_samples, n_channels, w, h))\n",
    "\n",
    "for idx, targets in enumerate(target_y):\n",
    "    x = attack.generate(x=mnist_data_subset, y=targets)\n",
    "    x_adv_jacobian[idx, :, :, :] = x\n",
    "\n",
    "\n",
    "visualize_adversarial(mnist_data_subset, x_adv_jacobian[0], mnist_targets_subset)\n",
    "print(x_adv_jacobian.shape)"
   ]
  },
  {
   "cell_type": "code",
   "execution_count": 33,
   "id": "388045ee4d00b34a",
   "metadata": {},
   "outputs": [],
   "source": [
    "x_adv_jacobian = x_adv_jacobian.reshape(-1, n_channels, w, h)"
   ]
  },
  {
   "cell_type": "code",
   "execution_count": 36,
   "id": "a30bec8909e305b9",
   "metadata": {
    "ExecuteTime": {
     "end_time": "2025-03-23T19:03:22.405689Z",
     "start_time": "2025-03-23T19:00:51.011603Z"
    }
   },
   "outputs": [
    {
     "data": {
      "image/png": "[encoded data removed]",
      "text/plain": [
       "<Figure size 600x1000 with 10 Axes>"
      ]
     },
     "metadata": {},
     "output_type": "display_data"
    }
   ],
   "source": [
    "# Attack #5\n",
    "\n",
    "from art.attacks.evasion.pixel_threshold import PixelAttack\n",
    "\n",
    "attack = PixelAttack(classifier=art_model_t, th=35, es=1, max_iter=max_attack_iter)   # Increase max_iter for better results\n",
    "x_adv_pixel = attack.generate(x=mnist_data_subset, y=mnist_targets_subset)\n",
    "visualize_adversarial(mnist_data_subset, x_adv_pixel, mnist_targets_subset)\n"
   ]
  },
  {
   "cell_type": "code",
   "execution_count": null,
   "id": "c9e16763ed1f1928",
   "metadata": {
    "ExecuteTime": {
     "end_time": "2025-03-23T19:09:02.493125Z",
     "start_time": "2025-03-23T19:09:02.490518Z"
    }
   },
   "outputs": [],
   "source": [
    "\n",
    "def evaluate_model(model, data, labels, device=None):\n",
    "    \"\"\"\n",
    "    Evaluate model accuracy.\n",
    "\n",
    "    Args:\n",
    "        model: PyTorch model (ART-wrapped or regular)\n",
    "        data: Input samples (NumPy array or Tensor).\n",
    "        labels: True labels as class indices (NumPy array or Tensor).\n",
    "        device: \"cpu\" or \"cuda\" (use GPU if available).\n",
    "\n",
    "    Returns:\n",
    "        accuracy (float)\n",
    "    \"\"\"\n",
    "    # Check if CUDA is available, otherwise fallback to CPU\n",
    "    if device is None:\n",
    "        device = \"cuda\" if torch.cuda.is_available() else \"cpu\"\n",
    "    model.to(device)\n",
    "    model.eval()  # Set model to evaluation mode\n",
    "\n",
    "    # Convert NumPy arrays to PyTorch tensors if needed\n",
    "    if isinstance(data, np.ndarray):\n",
    "        data_tensor = torch.tensor(data, dtype=torch.float32).to(device)\n",
    "    else:\n",
    "        data_tensor = data.to(device)\n",
    "\n",
    "    if isinstance(labels, np.ndarray):\n",
    "        labels_tensor = torch.tensor(labels, dtype=torch.long).to(device)\n",
    "    else:\n",
    "        labels_tensor = labels.to(device)\n",
    "\n",
    "    # Forward pass: Compute predictions\n",
    "    with torch.no_grad():\n",
    "        outputs = model(data_tensor)  # Get raw logits\n",
    "        predictions = torch.argmax(outputs, dim=1)  # Convert logits to class labels\n",
    "\n",
    "    # Accuracy Calculation (No one-hot encoding assumption)\n",
    "    accuracy = (predictions == labels_tensor).float().mean().item() * 100\n",
    "\n",
    "    return accuracy"
   ]
  },
  {
   "cell_type": "code",
   "execution_count": 25,
   "id": "7df446c3",
   "metadata": {},
   "outputs": [],
   "source": [
    "def to_tensor(data, device):\n",
    "    \"\"\"Convert data to PyTorch tensor and move to device.\"\"\"\n",
    "    if isinstance(data, np.ndarray):\n",
    "        return torch.tensor(data, dtype=torch.float32).to(device)\n",
    "    return data.to(device)\n",
    "\n",
    "def calculate_asr(preds_clean, preds_adv):\n",
    "    \"\"\"Calculate Adversarial Success Rate (ASR).\"\"\"\n",
    "    successful_attacks = (preds_clean != preds_adv).sum().item()\n",
    "    asr = (successful_attacks / len(preds_clean)) * 100\n",
    "    return asr\n",
    "\n",
    "def calculate_mean_gradient_amplitude(model, data, labels, criterion):\n",
    "    \"\"\"Calculate Mean Gradient Amplitude divided into 10 bins.\"\"\"\n",
    "    data.requires_grad = True\n",
    "    outputs = model(data)\n",
    "    loss = criterion(outputs, labels)\n",
    "    loss.backward()\n",
    "    gradients = data.grad.abs().cpu().numpy()\n",
    "\n",
    "    # Bin gradients into 10 bins\n",
    "    bins = np.linspace(0, gradients.max(), 11)\n",
    "    bin_counts, _ = np.histogram(gradients, bins=bins)\n",
    "    mean_gradient_amplitude = bin_counts / len(labels)\n",
    "    return mean_gradient_amplitude.tolist()\n",
    "\n",
    "def calculate_robustness(data, adv_data):\n",
    "    \"\"\"Calculate Robustness as the average minimum effective perturbation.\"\"\"\n",
    "    perturbations = (adv_data - data).view(len(data), -1).norm(p=2, dim=1)\n",
    "    robustness = perturbations.mean().item()\n",
    "    \n",
    "    # Compute Average maximum perturbation (Normalized images)\n",
    "    n_channels, w, h = data.shape[1], data.shape[2], data.shape[3]\n",
    "    \n",
    "    # Calculate the product of the last three dimensions\n",
    "    max_robustness = n_channels * w * h\n",
    "\n",
    "    robustness_ratio = (robustness / max_robustness) * 100\n",
    "\n",
    "    return robustness_ratio\n",
    "\n",
    "def calculate_adversarial_confidence(outputs_adv):\n",
    "    \"\"\"\n",
    "    Calculate the average classification confidence on adversarial examples.\n",
    "    \n",
    "    Assumes that outputs_adv are log probabilities (log softmax).\n",
    "    \"\"\"\n",
    "    # Exponentiate to get probabilities from log softmax\n",
    "    probabilities = torch.exp(outputs_adv)  # Convert log softmax back to probabilities\n",
    "    confidence_adv = probabilities.max(dim=1).values\n",
    "    mean_confidence = confidence_adv.mean().item() * 100\n",
    "    return mean_confidence\n"
   ]
  },
  {
   "cell_type": "code",
   "execution_count": 26,
   "id": "5e469f95",
   "metadata": {},
   "outputs": [],
   "source": [
    "\n",
    "def evaluate_adversarial_metrics(model, data, labels, adv_data, criterion, device=None):\n",
    "    \"\"\"\n",
    "    Evaluate model on adversarial metrics.\n",
    "\n",
    "    Args:\n",
    "        model: PyTorch model (ART-wrapped or regular).\n",
    "        data: Clean input samples (NumPy array or Tensor).\n",
    "        labels: True labels as class indices (NumPy array or Tensor).\n",
    "        adv_data: Adversarial input samples (NumPy array or Tensor).\n",
    "        device: \"cpu\" or \"cuda\" (use GPU if available).\n",
    "\n",
    "    Returns:\n",
    "        metrics (dict): Dictionary containing ASR, mean gradient amplitude, robustness, and confidence.\n",
    "    \"\"\"\n",
    "    # Check if CUDA is available, otherwise fallback to CPU\n",
    "    if device is None:\n",
    "        device = \"cuda\" if torch.cuda.is_available() else \"cpu\"\n",
    "    model.to(device)\n",
    "    model.eval()  # Set model to evaluation mode\n",
    "\n",
    "    # Convert data to PyTorch tensors if needed\n",
    "    data = to_tensor(data, device)\n",
    "    labels = to_tensor(labels, device).long()\n",
    "    adv_data = to_tensor(adv_data, device)\n",
    "\n",
    "    # Forward pass on clean data\n",
    "    with torch.no_grad():\n",
    "        outputs_clean = model(data)\n",
    "        preds_clean = torch.argmax(outputs_clean, dim=1)\n",
    "\n",
    "    # Forward pass on adversarial data\n",
    "    with torch.no_grad():\n",
    "        outputs_adv = model(adv_data)\n",
    "        preds_adv = torch.argmax(outputs_adv, dim=1)\n",
    "\n",
    "    # Calculate metrics\n",
    "    metrics = {\n",
    "        'Adversarial Success Rate': calculate_asr(preds_clean, preds_adv),\n",
    "        'Mean Gradient Amplitude (10 bins)': calculate_mean_gradient_amplitude(model, data, labels, criterion),\n",
    "        'Adversarial Robustness % (Avg Min Perturbation)': calculate_robustness(data, adv_data),\n",
    "        'Adversarial Confidence': calculate_adversarial_confidence(outputs_adv)\n",
    "    }\n",
    "\n",
    "    return metrics\n"
   ]
  },
  {
   "cell_type": "code",
   "execution_count": 34,
   "id": "6e16e4ce",
   "metadata": {},
   "outputs": [
    {
     "data": {
      "text/plain": [
       "{'Adversarial Success Rate': 98.0,\n",
       " 'Mean Gradient Amplitude (10 bins)': [777.97,\n",
       "  4.75,\n",
       "  0.8,\n",
       "  0.24,\n",
       "  0.13,\n",
       "  0.07,\n",
       "  0.02,\n",
       "  0.0,\n",
       "  0.01,\n",
       "  0.01],\n",
       " 'Adversarial Robustness % (Avg Min Perturbation)': 0.6005849765271557,\n",
       " 'Adversarial Confidence': 40.53570628166199}"
      ]
     },
     "execution_count": 34,
     "metadata": {},
     "output_type": "execute_result"
    }
   ],
   "source": [
    "# FSGM\n",
    "evaluate_adversarial_metrics(art_model_t.model, mnist_data_subset, mnist_targets_subset, x_adv_fgm, criterion=criterion, device='cpu')"
   ]
  },
  {
   "cell_type": "code",
   "execution_count": 28,
   "id": "4d3653df",
   "metadata": {},
   "outputs": [
    {
     "data": {
      "text/plain": [
       "{'Adversarial Success Rate': 100.0,\n",
       " 'Mean Gradient Amplitude (10 bins)': [777.97,\n",
       "  4.75,\n",
       "  0.8,\n",
       "  0.24,\n",
       "  0.13,\n",
       "  0.07,\n",
       "  0.02,\n",
       "  0.0,\n",
       "  0.01,\n",
       "  0.01],\n",
       " 'Adversarial Robustness % (Avg Min Perturbation)': 0.21062064535763797,\n",
       " 'Adversarial Confidence': 41.54117703437805}"
      ]
     },
     "execution_count": 28,
     "metadata": {},
     "output_type": "execute_result"
    }
   ],
   "source": [
    "# DeepFool\n",
    "evaluate_adversarial_metrics(art_model_t.model, mnist_data_subset, mnist_targets_subset, x_adv_deepfool, criterion=criterion, device='cpu')"
   ]
  },
  {
   "cell_type": "code",
   "execution_count": 37,
   "id": "d26a99ea",
   "metadata": {},
   "outputs": [
    {
     "data": {
      "text/plain": [
       "{'Adversarial Success Rate': 22.0,\n",
       " 'Mean Gradient Amplitude (10 bins)': [777.97,\n",
       "  4.75,\n",
       "  0.8,\n",
       "  0.24,\n",
       "  0.13,\n",
       "  0.07,\n",
       "  0.02,\n",
       "  0.0,\n",
       "  0.01,\n",
       "  0.01],\n",
       " 'Adversarial Robustness % (Avg Min Perturbation)': 0.10166293656339451,\n",
       " 'Adversarial Confidence': 84.18300151824951}"
      ]
     },
     "execution_count": 37,
     "metadata": {},
     "output_type": "execute_result"
    }
   ],
   "source": [
    "# One Pixel Attack\n",
    "evaluate_adversarial_metrics(art_model_t.model, mnist_data_subset, mnist_targets_subset, x_adv_pixel, criterion=criterion, device='cpu')"
   ]
  },
  {
   "cell_type": "code",
   "execution_count": 30,
   "id": "88d9eec0f78f1f5e",
   "metadata": {
    "ExecuteTime": {
     "end_time": "2025-03-23T19:09:04.837384Z",
     "start_time": "2025-03-23T19:09:04.784107Z"
    }
   },
   "outputs": [
    {
     "name": "stdout",
     "output_type": "stream",
     "text": [
      "Original Test Accuracy: 99.00%\n",
      "Test Accuracy (FGS Method): 1.00%\n",
      "Test Accuracy (Deepfool Method): 1.00%\n"
     ]
    }
   ],
   "source": [
    "## Teacher Model\n",
    "\n",
    "# Original test set evaluation\n",
    "original_accuracy = evaluate_model(\n",
    "    art_model_t.model, mnist_data_subset, mnist_targets_subset, device=torch.device(\"cpu\")\n",
    ")\n",
    "print(f\"Original Test Accuracy: {original_accuracy:.2f}%\")\n",
    "\n",
    "# Adversarial test sets evaluation\n",
    "fgm_accuracy = evaluate_model(\n",
    "    art_model_t.model, x_adv_fgm, mnist_targets_subset\n",
    ")\n",
    "deepfool_accuracy = evaluate_model(\n",
    "    art_model_t.model, x_adv_deepfool, mnist_targets_subset\n",
    ")\n",
    "#carlini_accuracy = evaluate_model(art_model_t.model, x_adv_carlini, mnist_targets_subset)\n",
    "\n",
    "# Jacobian uses 9x the samples\n",
    "#jacobian_accuracy = evaluate_model(\n",
    " #   art_model_t.model, x_adv_jacobian, mnist_targets_subset\n",
    "#)\n",
    "#pixel_accuracy = evaluate_model(\n",
    "#    art_model_t.model, x_adv_pixel, mnist_targets_subset\n",
    "#)\n",
    "\n",
    "print(f\"Test Accuracy (FGS Method): {fgm_accuracy:.2f}%\")\n",
    "print(f\"Test Accuracy (Deepfool Method): {deepfool_accuracy:.2f}%\")\n",
    "#print(f\"Adversarial Test Accuracy (Carlini L2 Method): {carlini_accuracy:.2f}%\")\n",
    "#print(f\"Adversarial Test Accuracy (Jacobian Method): {jacobian_accuracy:.2f}%\")\n",
    "#print(f\"Test Accuracy (Pixel Method): {pixel_accuracy:.2f}%\")"
   ]
  },
  {
   "cell_type": "code",
   "execution_count": 38,
   "id": "278afd852ae7017",
   "metadata": {
    "ExecuteTime": {
     "end_time": "2025-03-23T19:09:32.083778Z",
     "start_time": "2025-03-23T19:09:32.081386Z"
    }
   },
   "outputs": [],
   "source": [
    "\n",
    "\n",
    "def show_difference(original, adversarial, title=\"Method\"):\n",
    "    diff = np.abs(original - adversarial)\n",
    "    plt.figure(figsize=(10, 4))\n",
    "\n",
    "    plt.subplot(1, 3, 1)\n",
    "    plt.imshow(original, cmap='gray')\n",
    "    plt.title(\"Original Image\")\n",
    "\n",
    "    plt.subplot(1, 3, 2)\n",
    "    plt.imshow(adversarial, cmap='gray')\n",
    "    plt.title(f\"Adversarial {title}\")\n",
    "\n",
    "    plt.subplot(1, 3, 3)\n",
    "    plt.imshow(diff, cmap='hot')\n",
    "    plt.title(\"Difference (Perturbation)\")\n",
    "\n",
    "    plt.show()\n"
   ]
  },
  {
   "cell_type": "code",
   "execution_count": 40,
   "id": "c730bd4c7f5ca2bf",
   "metadata": {
    "ExecuteTime": {
     "end_time": "2025-03-23T19:09:34.439734Z",
     "start_time": "2025-03-23T19:09:34.237828Z"
    }
   },
   "outputs": [
    {
     "data": {
      "image/png": "[encoded data removed]",
      "text/plain": [
       "<Figure size 1000x400 with 3 Axes>"
      ]
     },
     "metadata": {},
     "output_type": "display_data"
    },
    {
     "data": {
      "image/png": "[encoded data removed]",
      "text/plain": [
       "<Figure size 1000x400 with 3 Axes>"
      ]
     },
     "metadata": {},
     "output_type": "display_data"
    },
    {
     "data": {
      "image/png": "[encoded data removed]",
      "text/plain": [
       "<Figure size 1000x400 with 3 Axes>"
      ]
     },
     "metadata": {},
     "output_type": "display_data"
    }
   ],
   "source": [
    "\n",
    "show_difference(mnist_data_subset[0][0], x_adv_fgm[0][0], title=\"Fast-Gradient Method\")\n",
    "show_difference(mnist_data_subset[0][0], x_adv_deepfool[0][0], title=\"Deepfool Method\")\n",
    "#show_difference(mnist_data_subset[0][0], x_adv_carlini[0][0], title=\"Carlini Method\")\n",
    "show_difference(mnist_data_subset[0][0], x_adv_pixel[0][0], title=\"Pixel Method\")\n"
   ]
  },
  {
   "cell_type": "code",
   "execution_count": 45,
   "id": "b893f04b265a5cc5",
   "metadata": {
    "ExecuteTime": {
     "end_time": "2025-03-23T19:09:38.742632Z",
     "start_time": "2025-03-23T19:09:38.739383Z"
    }
   },
   "outputs": [
    {
     "data": {
      "text/plain": [
       "np.float32(1.0)"
      ]
     },
     "execution_count": 45,
     "metadata": {},
     "output_type": "execute_result"
    }
   ],
   "source": [
    "np.max(mnist_data_subset)"
   ]
  },
  {
   "cell_type": "code",
   "execution_count": 41,
   "id": "1b64f85079b97273",
   "metadata": {
    "ExecuteTime": {
     "end_time": "2025-03-23T19:09:51.263931Z",
     "start_time": "2025-03-23T19:09:51.260994Z"
    }
   },
   "outputs": [
    {
     "name": "stdout",
     "output_type": "stream",
     "text": [
      "mnist_data_subset.shape = (100, 1, 28, 28)\n",
      "x_adv_fgm.shape = (100, 1, 28, 28)\n",
      "x_adv_deepfool.shape = (100, 1, 28, 28)\n",
      "x_adv_pixel.shape = (100, 1, 28, 28)\n",
      "x_adv_jacobian.shape = (900, 1, 28, 28)\n"
     ]
    }
   ],
   "source": [
    "print(f\"mnist_data_subset.shape = {mnist_data_subset.shape}\")\n",
    "print(f\"x_adv_fgm.shape = {x_adv_fgm.shape}\")\n",
    "print(f\"x_adv_deepfool.shape = {x_adv_deepfool.shape}\")\n",
    "#print(f\"x_adv_carlini.shape = {x_adv_carlini.shape}\")\n",
    "print(f\"x_adv_pixel.shape = {x_adv_pixel.shape}\")\n",
    "print(f\"x_adv_jacobian.shape = {x_adv_jacobian.shape}\")\n"
   ]
  },
  {
   "cell_type": "code",
   "execution_count": 42,
   "id": "c5722c14f39e829d",
   "metadata": {
    "ExecuteTime": {
     "end_time": "2025-03-23T19:09:59.504600Z",
     "start_time": "2025-03-23T19:09:59.501989Z"
    }
   },
   "outputs": [],
   "source": [
    "# Generate Soft Labels\n",
    "\n",
    "def get_soft_labels(model, dataloader, temp):\n",
    "    soft_labels_list = []\n",
    "    model.eval()\n",
    "    with torch.no_grad():\n",
    "        for images, labels in dataloader:\n",
    "            images = images.to(device)\n",
    "            # Get logits from trained teacher model\n",
    "            logits = model(images)\n",
    "            # Apply temperature-scaled softmax\n",
    "            soft_labels = torch.softmax(logits / temp, dim=1)\n",
    "            soft_labels_list.append(soft_labels.cpu())\n",
    "    return torch.cat(soft_labels_list)"
   ]
  },
  {
   "cell_type": "code",
   "execution_count": 43,
   "id": "6ade93929ca6447f",
   "metadata": {
    "ExecuteTime": {
     "end_time": "2025-03-23T19:10:01.053866Z",
     "start_time": "2025-03-23T19:10:01.051150Z"
    }
   },
   "outputs": [],
   "source": [
    "def distillation_loss(student_logits, teacher_soft_labels, hard_labels, temp, alpha):\n",
    "    \"\"\"\n",
    "    Computes the distillation loss.\n",
    "\n",
    "    Args:\n",
    "        student_logits: Output logits from the student model.\n",
    "        teacher_soft_labels: Soft labels generated by the teacher model.\n",
    "        hard_labels: Original hard labels.\n",
    "        temp: Temperature used for soft labels.\n",
    "        alpha: Weight for soft loss (1-alpha for hard loss).\n",
    "    \"\"\"\n",
    "    soft_loss = nn.KLDivLoss(reduction=\"batchmean\")(\n",
    "        torch.log_softmax(student_logits / temp, dim=1),\n",
    "        teacher_soft_labels\n",
    "    )\n",
    "    hard_loss = nn.CrossEntropyLoss()(student_logits, hard_labels)\n",
    "    return alpha * soft_loss + (1 - alpha) * hard_loss\n"
   ]
  },
  {
   "cell_type": "code",
   "execution_count": 44,
   "id": "8bab45804f1004e7",
   "metadata": {
    "ExecuteTime": {
     "end_time": "2025-03-23T19:10:02.511839Z",
     "start_time": "2025-03-23T19:10:02.508419Z"
    }
   },
   "outputs": [],
   "source": [
    "def train_student(teacher_model, student_model, trainloader, temp=20, alpha=0.7, epochs=10, lr=0.01):\n",
    "    \"\"\"\n",
    "    Trains the student model using knowledge distillation.\n",
    "\n",
    "    Args:\n",
    "        teacher_model: Pretrained teacher model.\n",
    "        student_model: Student model to train.\n",
    "        trainloader: DataLoader for training.\n",
    "        temp: Temperature for soft labels.\n",
    "        alpha: Weight for soft labels in the loss.\n",
    "        epochs: Number of training epochs.\n",
    "        lr: Learning rate.\n",
    "    \"\"\"\n",
    "    student_model.train()\n",
    "    optimizer = optim.Adam(student_model.parameters(), lr=lr)\n",
    "\n",
    "    for e in tqdm(range(epochs)):\n",
    "        total_loss = 0\n",
    "        for images, hard_labels in trainloader:\n",
    "            images, hard_labels = images.to(device), hard_labels.to(device)\n",
    "\n",
    "            # Get teacher soft labels\n",
    "            with torch.no_grad():\n",
    "                teacher_logits = teacher_model(images)\n",
    "                soft_labels = torch.softmax(teacher_logits / temp, dim=1)\n",
    "\n",
    "            # Get student predictions\n",
    "            student_logits = student_model(images)\n",
    "\n",
    "            # Compute distillation loss\n",
    "            loss = distillation_loss(student_logits, soft_labels, hard_labels, temp, alpha)\n",
    "            \n",
    "            # Backpropagation\n",
    "            optimizer.zero_grad()\n",
    "            loss.backward()\n",
    "            optimizer.step()\n",
    "\n",
    "            total_loss += loss.item()\n",
    "\n",
    "        if e % 10 == 0:\n",
    "            print(f\"Epoch {e}: {loss.item()}\")\n",
    "\n",
    "    print(\"Training complete!\")\n"
   ]
  },
  {
   "cell_type": "code",
   "execution_count": 45,
   "id": "916788032adeb49a",
   "metadata": {
    "ExecuteTime": {
     "end_time": "2025-03-23T19:11:08.047085Z",
     "start_time": "2025-03-23T19:11:08.034424Z"
    }
   },
   "outputs": [],
   "source": [
    "# Specify Student Model\n",
    "\n",
    "temp = temp_teacher\n",
    "max_epochs = 5\n",
    "alpha = 0.5\n",
    "# Initialize the student model\n",
    "student_model = MnistNet(input_size=28, temperature=temp_teacher).to(device)"
   ]
  },
  {
   "cell_type": "code",
   "execution_count": 46,
   "id": "1da8e9013510b1be",
   "metadata": {
    "ExecuteTime": {
     "end_time": "2025-03-23T19:11:12.244467Z",
     "start_time": "2025-03-23T19:11:09.519400Z"
    }
   },
   "outputs": [],
   "source": [
    "teacher_model.to(device)\n",
    "# Generate soft labels for training the student\n",
    "soft_labels = get_soft_labels(teacher_model, trainloader, temp)"
   ]
  },
  {
   "cell_type": "code",
   "execution_count": 47,
   "id": "791e235369b4152a",
   "metadata": {
    "ExecuteTime": {
     "end_time": "2025-03-23T19:11:13.408519Z",
     "start_time": "2025-03-23T19:11:13.405117Z"
    }
   },
   "outputs": [
    {
     "data": {
      "text/plain": [
       "tensor([0.0476, 0.0794, 0.0800, 0.0660, 0.2855, 0.0748, 0.0530, 0.0897, 0.0994,\n",
       "        0.1247])"
      ]
     },
     "execution_count": 47,
     "metadata": {},
     "output_type": "execute_result"
    }
   ],
   "source": [
    "soft_labels[0]"
   ]
  },
  {
   "cell_type": "code",
   "execution_count": 48,
   "id": "672d92a8ca4f3d8b",
   "metadata": {
    "ExecuteTime": {
     "end_time": "2025-03-23T19:10:47.047420Z",
     "start_time": "2025-03-23T19:10:21.634731Z"
    }
   },
   "outputs": [
    {
     "name": "stderr",
     "output_type": "stream",
     "text": [
      " 20%|██        | 1/5 [00:05<00:21,  5.46s/it]"
     ]
    },
    {
     "name": "stdout",
     "output_type": "stream",
     "text": [
      "Epoch 0: 0.044453900307416916\n"
     ]
    },
    {
     "name": "stderr",
     "output_type": "stream",
     "text": [
      "100%|██████████| 5/5 [00:27<00:00,  5.57s/it]"
     ]
    },
    {
     "name": "stdout",
     "output_type": "stream",
     "text": [
      "Training complete!\n"
     ]
    },
    {
     "name": "stderr",
     "output_type": "stream",
     "text": [
      "\n"
     ]
    }
   ],
   "source": [
    "# Train Student\n",
    "train_student(teacher_model, student_model, trainloader, temp=temp, alpha=alpha, epochs=max_epochs, lr=lr)"
   ]
  },
  {
   "cell_type": "code",
   "execution_count": 49,
   "id": "48bf154e1772c49e",
   "metadata": {
    "ExecuteTime": {
     "end_time": "2025-03-20T16:07:27.716330Z",
     "start_time": "2025-03-20T16:07:27.711114Z"
    }
   },
   "outputs": [],
   "source": [
    "# Wrap in ART PyTorchClassifier\n",
    "art_model_s = PyTorchClassifier(\n",
    "    model=student_model,\n",
    "    clip_values=(0, 1),  # Min and Max pixel values (normalize if needed)\n",
    "    loss=criterion,\n",
    "    optimizer=optimizer,\n",
    "    input_shape=(1, 28, 28),\n",
    "    nb_classes=10\n",
    ")"
   ]
  },
  {
   "cell_type": "code",
   "execution_count": 52,
   "id": "789fae96d22d774e",
   "metadata": {
    "ExecuteTime": {
     "end_time": "2025-03-20T16:07:27.773891Z",
     "start_time": "2025-03-20T16:07:27.719286Z"
    }
   },
   "outputs": [
    {
     "name": "stdout",
     "output_type": "stream",
     "text": [
      "Original Test Accuracy: 98.00%\n"
     ]
    }
   ],
   "source": [
    "## Student Model\n",
    "\n",
    "# Original test set evaluation\n",
    "original_accuracy = evaluate_model(\n",
    "    art_model_s.model, mnist_data_subset, mnist_targets_subset\n",
    ")\n",
    "print(f\"Original Test Accuracy: {original_accuracy:.2f}%\")\n",
    "\n"
   ]
  },
  {
   "cell_type": "code",
   "execution_count": null,
   "id": "0c53a0b3",
   "metadata": {},
   "outputs": [],
   "source": [
    "# Adversarial test sets evaluation\n",
    "\n",
    "fgm_accuracy = evaluate_model(\n",
    "    art_model_s.model, x_adv_fgm, mnist_targets_subset\n",
    ")\n",
    "deepfool_accuracy = evaluate_model(\n",
    "    art_model_s.model, x_adv_deepfool, mnist_targets_subset\n",
    ")\n",
    "carlini_accuracy = evaluate_model(\n",
    "    art_model_s.model, x_adv_carlini, mnist_targets_subset\n",
    ")\n",
    "\n",
    "print(f\"Adversarial Test Accuracy (FGS Method): {fgm_accuracy:.2f}%\")\n",
    "print(f\"Adversarial Test Accuracy (Deepfool Method): {deepfool_accuracy:.2f}%\")\n",
    "print(f\"Adversarial Test Accuracy (Carlini L2 Method): {carlini_accuracy:.2f}%\")"
   ]
  },
  {
   "cell_type": "code",
   "execution_count": null,
   "id": "070ee013",
   "metadata": {},
   "outputs": [
    {
     "data": {
      "text/plain": [
       "{'Adversarial Success Rate': 7.000000000000001,\n",
       " 'Mean Gradient Amplitude (10 bins)': [771.99,\n",
       "  9.12,\n",
       "  1.9,\n",
       "  0.65,\n",
       "  0.18,\n",
       "  0.08,\n",
       "  0.01,\n",
       "  0.02,\n",
       "  0.03,\n",
       "  0.02],\n",
       " 'Adversarial Robustness % (Avg Min Perturbation)': 0.10166293656339451,\n",
       " 'Adversarial Confidence': 82.36961364746094}"
      ]
     },
     "execution_count": 53,
     "metadata": {},
     "output_type": "execute_result"
    }
   ],
   "source": [
    " # FGSM\n",
    "evaluate_adversarial_metrics(art_model_s.model, mnist_data_subset, mnist_targets_subset, x_adv_fgm, criterion=criterion, device='cpu')\n"
   ]
  },
  {
   "cell_type": "code",
   "execution_count": 54,
   "id": "7ce9041a",
   "metadata": {},
   "outputs": [
    {
     "data": {
      "text/plain": [
       "{'Adversarial Success Rate': 20.0,\n",
       " 'Mean Gradient Amplitude (10 bins)': [771.99,\n",
       "  9.12,\n",
       "  1.9,\n",
       "  0.65,\n",
       "  0.18,\n",
       "  0.08,\n",
       "  0.01,\n",
       "  0.02,\n",
       "  0.03,\n",
       "  0.02],\n",
       " 'Adversarial Robustness % (Avg Min Perturbation)': 0.21062064535763797,\n",
       " 'Adversarial Confidence': 57.29935169219971}"
      ]
     },
     "execution_count": 54,
     "metadata": {},
     "output_type": "execute_result"
    }
   ],
   "source": [
    "# Deepfool\n",
    "evaluate_adversarial_metrics(art_model_s.model, mnist_data_subset, mnist_targets_subset, x_adv_deepfool, criterion=criterion, device='cpu')\n"
   ]
  },
  {
   "cell_type": "code",
   "execution_count": 55,
   "id": "6867d437",
   "metadata": {},
   "outputs": [
    {
     "data": {
      "text/plain": [
       "{'Adversarial Success Rate': 7.000000000000001,\n",
       " 'Mean Gradient Amplitude (10 bins)': [771.99,\n",
       "  9.12,\n",
       "  1.9,\n",
       "  0.65,\n",
       "  0.18,\n",
       "  0.08,\n",
       "  0.01,\n",
       "  0.02,\n",
       "  0.03,\n",
       "  0.02],\n",
       " 'Adversarial Robustness % (Avg Min Perturbation)': 0.10166293656339451,\n",
       " 'Adversarial Confidence': 82.36961364746094}"
      ]
     },
     "execution_count": 55,
     "metadata": {},
     "output_type": "execute_result"
    }
   ],
   "source": [
    "# One Pixel Attack\n",
    "evaluate_adversarial_metrics(art_model_s.model, mnist_data_subset, mnist_targets_subset, x_adv_pixel, criterion=criterion, device='cpu')"
   ]
  }
 ],
 "metadata": {
  "kernelspec": {
   "display_name": ".venv",
   "language": "python",
   "name": "python3"
  },
  "language_info": {
   "codemirror_mode": {
    "name": "ipython",
    "version": 3
   },
   "file_extension": ".py",
   "mimetype": "text/x-python",
   "name": "python",
   "nbconvert_exporter": "python",
   "pygments_lexer": "ipython3",
   "version": "3.12.8"
  }
 },
 "nbformat": 4,
 "nbformat_minor": 5
}
